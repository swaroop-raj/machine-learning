{
  "nbformat": 4,
  "nbformat_minor": 0,
  "metadata": {
    "colab": {
      "name": "Walmart Recruiting: Trip Type Classification.ipynb",
      "provenance": [],
      "authorship_tag": "ABX9TyN5qWGmY1aWee8qYCx5LGoF",
      "include_colab_link": true
    },
    "kernelspec": {
      "name": "python3",
      "display_name": "Python 3"
    }
  },
  "cells": [
    {
      "cell_type": "markdown",
      "metadata": {
        "id": "view-in-github",
        "colab_type": "text"
      },
      "source": [
        "<a href=\"https://colab.research.google.com/github/swaroop-raj/machine-learning/blob/main/machine-learning/notebooks/Walmart_Recruiting_Trip_Type_Classification.ipynb\" target=\"_parent\"><img src=\"https://colab.research.google.com/assets/colab-badge.svg\" alt=\"Open In Colab\"/></a>"
      ]
    },
    {
      "cell_type": "markdown",
      "metadata": {
        "id": "K_5ysaszyOCk"
      },
      "source": [
        "## Description\n",
        "Walmart uses both art and science to continually make progress on their core mission of better understanding and serving their customers. One way Walmart is able to improve customers' shopping experiences is by segmenting their store visits into different trip types. \n",
        "\n",
        "\n",
        "\n",
        "Whether they're on a last minute run for new puppy supplies or leisurely making their way through a weekly grocery list, classifying trip types enables Walmart to create the best shopping experience for every customer.\n",
        "\n",
        "Currently, Walmart's trip types are created from a combination of existing customer insights (\"art\") and purchase history data (\"science\"). In their third recruiting competition, Walmart is challenging Kagglers to focus on the (data) science and classify customer trips using only a transactional dataset of the items they've purchased. Improving the science behind trip type classification will help Walmart refine their segmentation process.\n",
        "\n",
        "Walmart is hosting this competition to connect with data scientists who break the mold."
      ]
    },
    {
      "cell_type": "markdown",
      "metadata": {
        "id": "bwO413UBx0jo"
      },
      "source": [
        "## Evaluation \n",
        "\n",
        "Submissions are evaluated using the multi-class logarithmic loss. For each visit, you must submit a set of predicted probabilities oneforeveryTripType. The formula is:\n",
        "\n",
        "−1N∑i=1N∑j=1Myijlog(pij),\n",
        "\n",
        "where N is the number of visits in the test set, M is the number of trip types, \\\\(log\\\\) is the natural logarithm, \\\\(y_{ij}\\\\) is 1 if observation \\\\(i\\\\) is of class \\\\(j\\\\) and 0 otherwise, and \\\\(p_{ij}\\\\) is the predicted probability that observation \\\\(i\\\\) belongs to class \\\\(j\\\\).\n",
        "\n",
        "The submitted probabilities for a given visit are not required to sum to one because they are rescaled prior to being scored eachrowisdividedbytherowsum. In order to avoid the extremes of the log function, predicted probabilities are replaced with \\\\(max(min(p,1-10^{-15}),10^{-15})\\\\)."
      ]
    },
    {
      "cell_type": "markdown",
      "metadata": {
        "id": "m9EwGAte3rHi"
      },
      "source": [
        "## Data Description\n",
        "\n",
        "For this competition, you are tasked with categorizing shopping trip types based on the items that customers purchased. To give a few hypothetical examples of trip types: a customer may make a small daily dinner trip, a weekly large grocery trip, a trip to buy gifts for an upcoming holiday, or a seasonal trip to buy clothes.\n",
        "\n",
        "Walmart has categorized the trips contained in this data into 38 distinct types using a proprietary method applied to an extended set of data. You are challenged to recreate this categorization/clustering with a more limited set of features. This could provide new and more robust ways to categorize trips.\n",
        "\n",
        "The training set (train.csv) contains a large number of customer visits with the TripType included. You must predict the TripType for each customer visit in the test set (test.csv). Each visit may only have one TripType. You will not be provided with more information than what is given in the data (e.g. what the TripTypes represent or more product information).\n",
        "\n",
        "### Data fields\n",
        "\n",
        "TripType - a categorical id representing the type of shopping trip the customer made. This is the ground truth that you are predicting. TripType_999 is an \"other\" category.\n",
        "\n",
        "VisitNumber - an id corresponding to a single trip by a single customer\n",
        "\n",
        "Weekday - the weekday of the trip\n",
        "\n",
        "Upc - the UPC number of the product purchased\n",
        "\n",
        "ScanCount - the number of the given item that was \n",
        "purchased. A negative value indicates a product return.\n",
        "\n",
        "DepartmentDescription - a high-level description of the item's department\n",
        "\n",
        "FinelineNumber - a more refined category for each of the products, created by Walmart"
      ]
    },
    {
      "cell_type": "markdown",
      "metadata": {
        "id": "k4kY1P0oygY1"
      },
      "source": [
        "\n",
        "**Importing the packages** \n",
        "\n",
        "\n"
      ]
    },
    {
      "cell_type": "code",
      "metadata": {
        "colab": {
          "base_uri": "https://localhost:8080/",
          "height": 71
        },
        "id": "g07bNvOeyi8c",
        "outputId": "bc26d248-7a68-400e-a53d-acdfc9895559"
      },
      "source": [
        "import numpy as np\n",
        "import pandas as pd\n",
        "\n",
        "import seaborn as sns\n",
        "import matplotlib.pyplot as plt\n",
        "import pandas_profiling\n",
        "\n",
        "from sklearn.tree import DecisionTreeClassifier\n",
        "from sklearn.metrics import recall_score, precision_score , f1_score , roc_auc_score, confusion_matrix, accuracy_score\n",
        "from sklearn.model_selection import train_test_split\n",
        "\n",
        "from yellowbrick.classifier import ClassificationReport, ROCAUC\n",
        "\n",
        "plt.style.use('ggplot')\n",
        "pd.options.display.float_format = '{:,.2f}'.format\n",
        "from IPython.core.display import display, HTML\n",
        "display(HTML(\"<style>.container { width:95% !important; }</style>\"))\n"
      ],
      "execution_count": 8,
      "outputs": [
        {
          "output_type": "stream",
          "text": [
            "/usr/local/lib/python3.6/dist-packages/sklearn/utils/deprecation.py:144: FutureWarning: The sklearn.metrics.classification module is  deprecated in version 0.22 and will be removed in version 0.24. The corresponding classes / functions should instead be imported from sklearn.metrics. Anything that cannot be imported from sklearn.metrics is now part of the private API.\n",
            "  warnings.warn(message, FutureWarning)\n"
          ],
          "name": "stderr"
        },
        {
          "output_type": "display_data",
          "data": {
            "text/html": [
              "<style>.container { width:95% !important; }</style>"
            ],
            "text/plain": [
              "<IPython.core.display.HTML object>"
            ]
          },
          "metadata": {
            "tags": []
          }
        }
      ]
    },
    {
      "cell_type": "markdown",
      "metadata": {
        "id": "u6MAhqed6ofR"
      },
      "source": [
        "**Reading the train and test dataset** "
      ]
    },
    {
      "cell_type": "code",
      "metadata": {
        "id": "SiRL2Et56svh"
      },
      "source": [
        "cdata = pd.read_csv('/content/wallmart-train.csv')\n",
        "x_test = pd.read_csv('/content/wallmart-test.csv')"
      ],
      "execution_count": 10,
      "outputs": []
    },
    {
      "cell_type": "code",
      "metadata": {
        "colab": {
          "base_uri": "https://localhost:8080/",
          "height": 204
        },
        "id": "vF4Yt97H7Cnp",
        "outputId": "1c71fe9e-31d9-4678-9942-744a3d84ea09"
      },
      "source": [
        "cdata.head()"
      ],
      "execution_count": 11,
      "outputs": [
        {
          "output_type": "execute_result",
          "data": {
            "text/html": [
              "<div>\n",
              "<style scoped>\n",
              "    .dataframe tbody tr th:only-of-type {\n",
              "        vertical-align: middle;\n",
              "    }\n",
              "\n",
              "    .dataframe tbody tr th {\n",
              "        vertical-align: top;\n",
              "    }\n",
              "\n",
              "    .dataframe thead th {\n",
              "        text-align: right;\n",
              "    }\n",
              "</style>\n",
              "<table border=\"1\" class=\"dataframe\">\n",
              "  <thead>\n",
              "    <tr style=\"text-align: right;\">\n",
              "      <th></th>\n",
              "      <th>TripType</th>\n",
              "      <th>VisitNumber</th>\n",
              "      <th>Weekday</th>\n",
              "      <th>Upc</th>\n",
              "      <th>ScanCount</th>\n",
              "      <th>DepartmentDescription</th>\n",
              "      <th>FinelineNumber</th>\n",
              "    </tr>\n",
              "  </thead>\n",
              "  <tbody>\n",
              "    <tr>\n",
              "      <th>0</th>\n",
              "      <td>999</td>\n",
              "      <td>5</td>\n",
              "      <td>Friday</td>\n",
              "      <td>68,113,152,929.00</td>\n",
              "      <td>-1</td>\n",
              "      <td>FINANCIAL SERVICES</td>\n",
              "      <td>1,000.00</td>\n",
              "    </tr>\n",
              "    <tr>\n",
              "      <th>1</th>\n",
              "      <td>30</td>\n",
              "      <td>7</td>\n",
              "      <td>Friday</td>\n",
              "      <td>60,538,815,980.00</td>\n",
              "      <td>1</td>\n",
              "      <td>SHOES</td>\n",
              "      <td>8,931.00</td>\n",
              "    </tr>\n",
              "    <tr>\n",
              "      <th>2</th>\n",
              "      <td>30</td>\n",
              "      <td>7</td>\n",
              "      <td>Friday</td>\n",
              "      <td>7,410,811,099.00</td>\n",
              "      <td>1</td>\n",
              "      <td>PERSONAL CARE</td>\n",
              "      <td>4,504.00</td>\n",
              "    </tr>\n",
              "    <tr>\n",
              "      <th>3</th>\n",
              "      <td>26</td>\n",
              "      <td>8</td>\n",
              "      <td>Friday</td>\n",
              "      <td>2,238,403,510.00</td>\n",
              "      <td>2</td>\n",
              "      <td>PAINT AND ACCESSORIES</td>\n",
              "      <td>3,565.00</td>\n",
              "    </tr>\n",
              "    <tr>\n",
              "      <th>4</th>\n",
              "      <td>26</td>\n",
              "      <td>8</td>\n",
              "      <td>Friday</td>\n",
              "      <td>2,006,613,744.00</td>\n",
              "      <td>2</td>\n",
              "      <td>PAINT AND ACCESSORIES</td>\n",
              "      <td>1,017.00</td>\n",
              "    </tr>\n",
              "  </tbody>\n",
              "</table>\n",
              "</div>"
            ],
            "text/plain": [
              "   TripType  VisitNumber  ...  DepartmentDescription  FinelineNumber\n",
              "0       999            5  ...     FINANCIAL SERVICES        1,000.00\n",
              "1        30            7  ...                  SHOES        8,931.00\n",
              "2        30            7  ...          PERSONAL CARE        4,504.00\n",
              "3        26            8  ...  PAINT AND ACCESSORIES        3,565.00\n",
              "4        26            8  ...  PAINT AND ACCESSORIES        1,017.00\n",
              "\n",
              "[5 rows x 7 columns]"
            ]
          },
          "metadata": {
            "tags": []
          },
          "execution_count": 11
        }
      ]
    },
    {
      "cell_type": "code",
      "metadata": {
        "colab": {
          "base_uri": "https://localhost:8080/",
          "height": 204
        },
        "id": "5AI5dOLR7E2o",
        "outputId": "2fadbae7-b1fe-4fc7-c3b9-af11a895bc82"
      },
      "source": [
        "x_test.head()"
      ],
      "execution_count": 12,
      "outputs": [
        {
          "output_type": "execute_result",
          "data": {
            "text/html": [
              "<div>\n",
              "<style scoped>\n",
              "    .dataframe tbody tr th:only-of-type {\n",
              "        vertical-align: middle;\n",
              "    }\n",
              "\n",
              "    .dataframe tbody tr th {\n",
              "        vertical-align: top;\n",
              "    }\n",
              "\n",
              "    .dataframe thead th {\n",
              "        text-align: right;\n",
              "    }\n",
              "</style>\n",
              "<table border=\"1\" class=\"dataframe\">\n",
              "  <thead>\n",
              "    <tr style=\"text-align: right;\">\n",
              "      <th></th>\n",
              "      <th>VisitNumber</th>\n",
              "      <th>Weekday</th>\n",
              "      <th>Upc</th>\n",
              "      <th>ScanCount</th>\n",
              "      <th>DepartmentDescription</th>\n",
              "      <th>FinelineNumber</th>\n",
              "    </tr>\n",
              "  </thead>\n",
              "  <tbody>\n",
              "    <tr>\n",
              "      <th>0</th>\n",
              "      <td>1</td>\n",
              "      <td>Friday</td>\n",
              "      <td>72,503,389,714.00</td>\n",
              "      <td>1</td>\n",
              "      <td>SHOES</td>\n",
              "      <td>3,002.00</td>\n",
              "    </tr>\n",
              "    <tr>\n",
              "      <th>1</th>\n",
              "      <td>1</td>\n",
              "      <td>Friday</td>\n",
              "      <td>1,707,710,732.00</td>\n",
              "      <td>1</td>\n",
              "      <td>DAIRY</td>\n",
              "      <td>1,526.00</td>\n",
              "    </tr>\n",
              "    <tr>\n",
              "      <th>2</th>\n",
              "      <td>1</td>\n",
              "      <td>Friday</td>\n",
              "      <td>89,470,001,026.00</td>\n",
              "      <td>1</td>\n",
              "      <td>DAIRY</td>\n",
              "      <td>1,431.00</td>\n",
              "    </tr>\n",
              "    <tr>\n",
              "      <th>3</th>\n",
              "      <td>1</td>\n",
              "      <td>Friday</td>\n",
              "      <td>88,491,211,470.00</td>\n",
              "      <td>1</td>\n",
              "      <td>GROCERY DRY GOODS</td>\n",
              "      <td>3,555.00</td>\n",
              "    </tr>\n",
              "    <tr>\n",
              "      <th>4</th>\n",
              "      <td>2</td>\n",
              "      <td>Friday</td>\n",
              "      <td>2,840,015,224.00</td>\n",
              "      <td>1</td>\n",
              "      <td>DSD GROCERY</td>\n",
              "      <td>4,408.00</td>\n",
              "    </tr>\n",
              "  </tbody>\n",
              "</table>\n",
              "</div>"
            ],
            "text/plain": [
              "   VisitNumber Weekday  ...  DepartmentDescription  FinelineNumber\n",
              "0            1  Friday  ...                  SHOES        3,002.00\n",
              "1            1  Friday  ...                  DAIRY        1,526.00\n",
              "2            1  Friday  ...                  DAIRY        1,431.00\n",
              "3            1  Friday  ...      GROCERY DRY GOODS        3,555.00\n",
              "4            2  Friday  ...            DSD GROCERY        4,408.00\n",
              "\n",
              "[5 rows x 6 columns]"
            ]
          },
          "metadata": {
            "tags": []
          },
          "execution_count": 12
        }
      ]
    },
    {
      "cell_type": "code",
      "metadata": {
        "colab": {
          "base_uri": "https://localhost:8080/"
        },
        "id": "YgXhWxCn7Prp",
        "outputId": "b4777487-1955-4044-fee3-177ea2a88880"
      },
      "source": [
        "cdata.shape"
      ],
      "execution_count": 14,
      "outputs": [
        {
          "output_type": "execute_result",
          "data": {
            "text/plain": [
              "(647054, 7)"
            ]
          },
          "metadata": {
            "tags": []
          },
          "execution_count": 14
        }
      ]
    },
    {
      "cell_type": "code",
      "metadata": {
        "colab": {
          "base_uri": "https://localhost:8080/"
        },
        "id": "MeeqqKUU7WkN",
        "outputId": "e30244b5-e3a0-4e6a-d62a-6dedb2f142bc"
      },
      "source": [
        "cdata.nunique()"
      ],
      "execution_count": 16,
      "outputs": [
        {
          "output_type": "execute_result",
          "data": {
            "text/plain": [
              "TripType                    38\n",
              "VisitNumber              95674\n",
              "Weekday                      7\n",
              "Upc                      97714\n",
              "ScanCount                   39\n",
              "DepartmentDescription       68\n",
              "FinelineNumber            5195\n",
              "dtype: int64"
            ]
          },
          "metadata": {
            "tags": []
          },
          "execution_count": 16
        }
      ]
    },
    {
      "cell_type": "code",
      "metadata": {
        "colab": {
          "base_uri": "https://localhost:8080/"
        },
        "id": "lrm2gp-L8Wnw",
        "outputId": "657d7bee-19f8-426c-d499-c302919823e8"
      },
      "source": [
        "cdata.isnull().sum()"
      ],
      "execution_count": 19,
      "outputs": [
        {
          "output_type": "execute_result",
          "data": {
            "text/plain": [
              "TripType                    0\n",
              "VisitNumber                 0\n",
              "Weekday                     0\n",
              "Upc                      4129\n",
              "ScanCount                   0\n",
              "DepartmentDescription    1361\n",
              "FinelineNumber           4129\n",
              "dtype: int64"
            ]
          },
          "metadata": {
            "tags": []
          },
          "execution_count": 19
        }
      ]
    },
    {
      "cell_type": "code",
      "metadata": {
        "colab": {
          "base_uri": "https://localhost:8080/"
        },
        "id": "NzIO3KCA847a",
        "outputId": "2171e081-99e2-4753-d961-4bbe98054f49"
      },
      "source": [
        "print(cdata['DepartmentDescription'].value_counts(normalize=True))\n",
        "plt.show()"
      ],
      "execution_count": 28,
      "outputs": [
        {
          "output_type": "stream",
          "text": [
            "GROCERY DRY GOODS        0.11\n",
            "DSD GROCERY              0.11\n",
            "PRODUCE                  0.08\n",
            "DAIRY                    0.07\n",
            "PERSONAL CARE            0.06\n",
            "                         ... \n",
            "LARGE HOUSEHOLD GOODS    0.00\n",
            "CONCEPT STORES           0.00\n",
            "SEASONAL                 0.00\n",
            "OTHER DEPARTMENTS        0.00\n",
            "HEALTH AND BEAUTY AIDS   0.00\n",
            "Name: DepartmentDescription, Length: 68, dtype: float64\n"
          ],
          "name": "stdout"
        }
      ]
    },
    {
      "cell_type": "code",
      "metadata": {
        "colab": {
          "base_uri": "https://localhost:8080/",
          "height": 419
        },
        "id": "Hr4c46W885pN",
        "outputId": "2d7aa834-323f-4248-83bc-de411ba0873e"
      },
      "source": [
        "cdata[cdata['DepartmentDescription'].notnull() & cdata['FinelineNumber'].isnull()]"
      ],
      "execution_count": 39,
      "outputs": [
        {
          "output_type": "execute_result",
          "data": {
            "text/html": [
              "<div>\n",
              "<style scoped>\n",
              "    .dataframe tbody tr th:only-of-type {\n",
              "        vertical-align: middle;\n",
              "    }\n",
              "\n",
              "    .dataframe tbody tr th {\n",
              "        vertical-align: top;\n",
              "    }\n",
              "\n",
              "    .dataframe thead th {\n",
              "        text-align: right;\n",
              "    }\n",
              "</style>\n",
              "<table border=\"1\" class=\"dataframe\">\n",
              "  <thead>\n",
              "    <tr style=\"text-align: right;\">\n",
              "      <th></th>\n",
              "      <th>TripType</th>\n",
              "      <th>VisitNumber</th>\n",
              "      <th>Weekday</th>\n",
              "      <th>Upc</th>\n",
              "      <th>ScanCount</th>\n",
              "      <th>DepartmentDescription</th>\n",
              "      <th>FinelineNumber</th>\n",
              "    </tr>\n",
              "  </thead>\n",
              "  <tbody>\n",
              "    <tr>\n",
              "      <th>1155</th>\n",
              "      <td>44</td>\n",
              "      <td>496</td>\n",
              "      <td>Friday</td>\n",
              "      <td>nan</td>\n",
              "      <td>1</td>\n",
              "      <td>PHARMACY RX</td>\n",
              "      <td>nan</td>\n",
              "    </tr>\n",
              "    <tr>\n",
              "      <th>1216</th>\n",
              "      <td>5</td>\n",
              "      <td>521</td>\n",
              "      <td>Friday</td>\n",
              "      <td>nan</td>\n",
              "      <td>1</td>\n",
              "      <td>PHARMACY RX</td>\n",
              "      <td>nan</td>\n",
              "    </tr>\n",
              "    <tr>\n",
              "      <th>1373</th>\n",
              "      <td>5</td>\n",
              "      <td>585</td>\n",
              "      <td>Friday</td>\n",
              "      <td>nan</td>\n",
              "      <td>1</td>\n",
              "      <td>PHARMACY RX</td>\n",
              "      <td>nan</td>\n",
              "    </tr>\n",
              "    <tr>\n",
              "      <th>1455</th>\n",
              "      <td>5</td>\n",
              "      <td>619</td>\n",
              "      <td>Friday</td>\n",
              "      <td>nan</td>\n",
              "      <td>1</td>\n",
              "      <td>PHARMACY RX</td>\n",
              "      <td>nan</td>\n",
              "    </tr>\n",
              "    <tr>\n",
              "      <th>1456</th>\n",
              "      <td>5</td>\n",
              "      <td>619</td>\n",
              "      <td>Friday</td>\n",
              "      <td>nan</td>\n",
              "      <td>1</td>\n",
              "      <td>PHARMACY RX</td>\n",
              "      <td>nan</td>\n",
              "    </tr>\n",
              "    <tr>\n",
              "      <th>...</th>\n",
              "      <td>...</td>\n",
              "      <td>...</td>\n",
              "      <td>...</td>\n",
              "      <td>...</td>\n",
              "      <td>...</td>\n",
              "      <td>...</td>\n",
              "      <td>...</td>\n",
              "    </tr>\n",
              "    <tr>\n",
              "      <th>636715</th>\n",
              "      <td>5</td>\n",
              "      <td>188839</td>\n",
              "      <td>Sunday</td>\n",
              "      <td>nan</td>\n",
              "      <td>1</td>\n",
              "      <td>PHARMACY RX</td>\n",
              "      <td>nan</td>\n",
              "    </tr>\n",
              "    <tr>\n",
              "      <th>636716</th>\n",
              "      <td>5</td>\n",
              "      <td>188839</td>\n",
              "      <td>Sunday</td>\n",
              "      <td>nan</td>\n",
              "      <td>1</td>\n",
              "      <td>PHARMACY RX</td>\n",
              "      <td>nan</td>\n",
              "    </tr>\n",
              "    <tr>\n",
              "      <th>636717</th>\n",
              "      <td>5</td>\n",
              "      <td>188839</td>\n",
              "      <td>Sunday</td>\n",
              "      <td>nan</td>\n",
              "      <td>1</td>\n",
              "      <td>PHARMACY RX</td>\n",
              "      <td>nan</td>\n",
              "    </tr>\n",
              "    <tr>\n",
              "      <th>636847</th>\n",
              "      <td>5</td>\n",
              "      <td>188896</td>\n",
              "      <td>Sunday</td>\n",
              "      <td>nan</td>\n",
              "      <td>1</td>\n",
              "      <td>PHARMACY RX</td>\n",
              "      <td>nan</td>\n",
              "    </tr>\n",
              "    <tr>\n",
              "      <th>637198</th>\n",
              "      <td>5</td>\n",
              "      <td>188940</td>\n",
              "      <td>Sunday</td>\n",
              "      <td>nan</td>\n",
              "      <td>1</td>\n",
              "      <td>PHARMACY RX</td>\n",
              "      <td>nan</td>\n",
              "    </tr>\n",
              "  </tbody>\n",
              "</table>\n",
              "<p>2768 rows × 7 columns</p>\n",
              "</div>"
            ],
            "text/plain": [
              "        TripType  VisitNumber  ... DepartmentDescription  FinelineNumber\n",
              "1155          44          496  ...           PHARMACY RX             nan\n",
              "1216           5          521  ...           PHARMACY RX             nan\n",
              "1373           5          585  ...           PHARMACY RX             nan\n",
              "1455           5          619  ...           PHARMACY RX             nan\n",
              "1456           5          619  ...           PHARMACY RX             nan\n",
              "...          ...          ...  ...                   ...             ...\n",
              "636715         5       188839  ...           PHARMACY RX             nan\n",
              "636716         5       188839  ...           PHARMACY RX             nan\n",
              "636717         5       188839  ...           PHARMACY RX             nan\n",
              "636847         5       188896  ...           PHARMACY RX             nan\n",
              "637198         5       188940  ...           PHARMACY RX             nan\n",
              "\n",
              "[2768 rows x 7 columns]"
            ]
          },
          "metadata": {
            "tags": []
          },
          "execution_count": 39
        }
      ]
    },
    {
      "cell_type": "code",
      "metadata": {
        "colab": {
          "base_uri": "https://localhost:8080/",
          "height": 297
        },
        "id": "C91awwkaCQi6",
        "outputId": "c8b726b0-bfb2-40b3-8d6b-7226315937b1"
      },
      "source": [
        "cdata.describe()"
      ],
      "execution_count": 40,
      "outputs": [
        {
          "output_type": "execute_result",
          "data": {
            "text/html": [
              "<div>\n",
              "<style scoped>\n",
              "    .dataframe tbody tr th:only-of-type {\n",
              "        vertical-align: middle;\n",
              "    }\n",
              "\n",
              "    .dataframe tbody tr th {\n",
              "        vertical-align: top;\n",
              "    }\n",
              "\n",
              "    .dataframe thead th {\n",
              "        text-align: right;\n",
              "    }\n",
              "</style>\n",
              "<table border=\"1\" class=\"dataframe\">\n",
              "  <thead>\n",
              "    <tr style=\"text-align: right;\">\n",
              "      <th></th>\n",
              "      <th>TripType</th>\n",
              "      <th>VisitNumber</th>\n",
              "      <th>Upc</th>\n",
              "      <th>ScanCount</th>\n",
              "      <th>FinelineNumber</th>\n",
              "    </tr>\n",
              "  </thead>\n",
              "  <tbody>\n",
              "    <tr>\n",
              "      <th>count</th>\n",
              "      <td>647,054.00</td>\n",
              "      <td>647,054.00</td>\n",
              "      <td>642,925.00</td>\n",
              "      <td>647,054.00</td>\n",
              "      <td>642,925.00</td>\n",
              "    </tr>\n",
              "    <tr>\n",
              "      <th>mean</th>\n",
              "      <td>58.58</td>\n",
              "      <td>96,167.64</td>\n",
              "      <td>30,606,982,273.49</td>\n",
              "      <td>1.11</td>\n",
              "      <td>3,726.88</td>\n",
              "    </tr>\n",
              "    <tr>\n",
              "      <th>std</th>\n",
              "      <td>157.64</td>\n",
              "      <td>55,545.49</td>\n",
              "      <td>91,201,337,280.41</td>\n",
              "      <td>0.70</td>\n",
              "      <td>2,780.97</td>\n",
              "    </tr>\n",
              "    <tr>\n",
              "      <th>min</th>\n",
              "      <td>3.00</td>\n",
              "      <td>5.00</td>\n",
              "      <td>834.00</td>\n",
              "      <td>-12.00</td>\n",
              "      <td>0.00</td>\n",
              "    </tr>\n",
              "    <tr>\n",
              "      <th>25%</th>\n",
              "      <td>27.00</td>\n",
              "      <td>49,268.00</td>\n",
              "      <td>3,400,000,995.00</td>\n",
              "      <td>1.00</td>\n",
              "      <td>1,404.00</td>\n",
              "    </tr>\n",
              "    <tr>\n",
              "      <th>50%</th>\n",
              "      <td>39.00</td>\n",
              "      <td>97,074.00</td>\n",
              "      <td>7,050,102,580.00</td>\n",
              "      <td>1.00</td>\n",
              "      <td>3,352.00</td>\n",
              "    </tr>\n",
              "    <tr>\n",
              "      <th>75%</th>\n",
              "      <td>40.00</td>\n",
              "      <td>144,316.00</td>\n",
              "      <td>30,065,314,449.00</td>\n",
              "      <td>1.00</td>\n",
              "      <td>5,501.00</td>\n",
              "    </tr>\n",
              "    <tr>\n",
              "      <th>max</th>\n",
              "      <td>999.00</td>\n",
              "      <td>191,347.00</td>\n",
              "      <td>978,970,666,419.00</td>\n",
              "      <td>71.00</td>\n",
              "      <td>9,998.00</td>\n",
              "    </tr>\n",
              "  </tbody>\n",
              "</table>\n",
              "</div>"
            ],
            "text/plain": [
              "        TripType  VisitNumber                Upc  ScanCount  FinelineNumber\n",
              "count 647,054.00   647,054.00         642,925.00 647,054.00      642,925.00\n",
              "mean       58.58    96,167.64  30,606,982,273.49       1.11        3,726.88\n",
              "std       157.64    55,545.49  91,201,337,280.41       0.70        2,780.97\n",
              "min         3.00         5.00             834.00     -12.00            0.00\n",
              "25%        27.00    49,268.00   3,400,000,995.00       1.00        1,404.00\n",
              "50%        39.00    97,074.00   7,050,102,580.00       1.00        3,352.00\n",
              "75%        40.00   144,316.00  30,065,314,449.00       1.00        5,501.00\n",
              "max       999.00   191,347.00 978,970,666,419.00      71.00        9,998.00"
            ]
          },
          "metadata": {
            "tags": []
          },
          "execution_count": 40
        }
      ]
    },
    {
      "cell_type": "code",
      "metadata": {
        "colab": {
          "base_uri": "https://localhost:8080/"
        },
        "id": "0GLEM0LcCaqC",
        "outputId": "0b4e51d9-206e-47c1-c8f3-cbb0e68bda17"
      },
      "source": [
        "cdata.info()"
      ],
      "execution_count": 41,
      "outputs": [
        {
          "output_type": "stream",
          "text": [
            "<class 'pandas.core.frame.DataFrame'>\n",
            "RangeIndex: 647054 entries, 0 to 647053\n",
            "Data columns (total 7 columns):\n",
            " #   Column                 Non-Null Count   Dtype  \n",
            "---  ------                 --------------   -----  \n",
            " 0   TripType               647054 non-null  int64  \n",
            " 1   VisitNumber            647054 non-null  int64  \n",
            " 2   Weekday                647054 non-null  object \n",
            " 3   Upc                    642925 non-null  float64\n",
            " 4   ScanCount              647054 non-null  int64  \n",
            " 5   DepartmentDescription  645693 non-null  object \n",
            " 6   FinelineNumber         642925 non-null  float64\n",
            "dtypes: float64(2), int64(3), object(2)\n",
            "memory usage: 34.6+ MB\n"
          ],
          "name": "stdout"
        }
      ]
    }
  ]
}