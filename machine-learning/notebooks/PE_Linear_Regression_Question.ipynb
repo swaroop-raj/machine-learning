{
  "nbformat": 4,
  "nbformat_minor": 0,
  "metadata": {
    "kernelspec": {
      "display_name": "Python 3",
      "language": "python",
      "name": "python3"
    },
    "language_info": {
      "codemirror_mode": {
        "name": "ipython",
        "version": 3
      },
      "file_extension": ".py",
      "mimetype": "text/x-python",
      "name": "python",
      "nbconvert_exporter": "python",
      "pygments_lexer": "ipython3",
      "version": "3.7.3"
    },
    "colab": {
      "name": "PE_Linear_Regression_Question.ipynb",
      "provenance": [],
      "collapsed_sections": [],
      "include_colab_link": true
    }
  },
  "cells": [
    {
      "cell_type": "markdown",
      "metadata": {
        "id": "view-in-github",
        "colab_type": "text"
      },
      "source": [
        "<a href=\"https://colab.research.google.com/github/swaroop-raj/machine-learning/blob/main/machine-learning/notebooks/PE_Linear_Regression_Question.ipynb\" target=\"_parent\"><img src=\"https://colab.research.google.com/assets/colab-badge.svg\" alt=\"Open In Colab\"/></a>"
      ]
    },
    {
      "cell_type": "markdown",
      "metadata": {
        "id": "D1LGh2E7qkh1"
      },
      "source": [
        "# Practice Exercise Linear Regression\n",
        "Welcome to the practice exercise on Linear Regression. We strongly recommend you try out all the questions/steps mentioned here and refer to the solution notebook later."
      ]
    },
    {
      "cell_type": "markdown",
      "metadata": {
        "id": "PTH2PqcSqkh7"
      },
      "source": [
        "## Case Study: Boston Housing Price Prediction\n",
        "\n",
        "### Problem Statement\n",
        "\n",
        "The problem at hand is to predict the housing prices of a town or a suburb based on the features of the locality provided to us. In the process, we need to identify the most important features in the dataset. We need to employ techniques of data preprocessing and build a linear regression model that predicts the prices for us. \n",
        "\n",
        "### Data Information\n",
        "\n",
        "Each record in the database describes a Boston suburb or town. The data was drawn from the Boston Standard Metropolitan Statistical Area (SMSA) in 1970. Detailed attribute information can be found below-\n",
        "\n",
        "Attribute Information (in order):\n",
        "- CRIM:     per capita crime rate by town\n",
        "- ZN:       proportion of residential land zoned for lots over 25,000 sq.ft.\n",
        "- INDUS:    proportion of non-retail business acres per town\n",
        "- CHAS:     Charles River dummy variable (= 1 if tract bounds river; 0 otherwise)\n",
        "- NOX:      nitric oxides concentration (parts per 10 million)\n",
        "- RM:       average number of rooms per dwelling\n",
        "- AGE:      proportion of owner-occupied units built prior to 1940\n",
        "- DIS:      weighted distances to five Boston employment centres\n",
        "- RAD:      index of accessibility to radial highways\n",
        "- TAX:      full-value property-tax rate per 10,000 dollars\n",
        "- PTRATIO:  pupil-teacher ratio by town\n",
        "- LSTAT:    %lower status of the population\n",
        "- MEDV:     Median value of owner-occupied homes in 1000 dollars.\n"
      ]
    },
    {
      "cell_type": "markdown",
      "metadata": {
        "id": "3T6O4yCnqkh8"
      },
      "source": [
        "**Importing Libraries**"
      ]
    },
    {
      "cell_type": "code",
      "metadata": {
        "id": "O20iJ6lNqkh8"
      },
      "source": [
        ""
      ],
      "execution_count": null,
      "outputs": []
    },
    {
      "cell_type": "markdown",
      "metadata": {
        "id": "_A-iJ3Guqkh9"
      },
      "source": [
        "### <a id = \"link1\">Load the dataset</a>"
      ]
    },
    {
      "cell_type": "code",
      "metadata": {
        "id": "swuT-Z3Xqkh9"
      },
      "source": [
        ""
      ],
      "execution_count": null,
      "outputs": []
    },
    {
      "cell_type": "markdown",
      "metadata": {
        "id": "VQbYBi7mqkh-"
      },
      "source": [
        "**Check the shape of the dataset**"
      ]
    },
    {
      "cell_type": "code",
      "metadata": {
        "id": "X30dnG7nqkh-"
      },
      "source": [
        ""
      ],
      "execution_count": null,
      "outputs": []
    },
    {
      "cell_type": "markdown",
      "metadata": {
        "id": "Zq9sYE-8qkh_"
      },
      "source": [
        "**Get the info data types column wise**"
      ]
    },
    {
      "cell_type": "code",
      "metadata": {
        "scrolled": false,
        "id": "vR--7f6yqkh_"
      },
      "source": [
        ""
      ],
      "execution_count": null,
      "outputs": []
    },
    {
      "cell_type": "markdown",
      "metadata": {
        "id": "RJG9BUw2qkiA"
      },
      "source": [
        "**Get summary statistics around the numerical columns**"
      ]
    },
    {
      "cell_type": "code",
      "metadata": {
        "id": "fgFsV4NkqkiA"
      },
      "source": [
        ""
      ],
      "execution_count": null,
      "outputs": []
    },
    {
      "cell_type": "markdown",
      "metadata": {
        "id": "7U0guBhRqkiA"
      },
      "source": [
        "### Univariate and Bivariate Analysis\n",
        "Plot the distplots for the features and then plot scatterplots for features and the target variable \n",
        "\n",
        "To do - Identify insights if any from the distributuions."
      ]
    },
    {
      "cell_type": "code",
      "metadata": {
        "id": "KtXTtqIUqkiA"
      },
      "source": [
        ""
      ],
      "execution_count": null,
      "outputs": []
    },
    {
      "cell_type": "code",
      "metadata": {
        "id": "2eSgEqq4qkiB"
      },
      "source": [
        ""
      ],
      "execution_count": null,
      "outputs": []
    },
    {
      "cell_type": "markdown",
      "metadata": {
        "id": "Rm49HPhWqkiB"
      },
      "source": [
        "**Get the Correlation Heatmap**"
      ]
    },
    {
      "cell_type": "code",
      "metadata": {
        "scrolled": false,
        "id": "Z3LeviuNqkiB"
      },
      "source": [
        ""
      ],
      "execution_count": null,
      "outputs": []
    },
    {
      "cell_type": "code",
      "metadata": {
        "id": "4Dz8jq14qkiB"
      },
      "source": [
        "# Let us create a new feature using the TAX and RAD.\n",
        "df['Rad/Tax'] = df['RAD']/df['TAX']"
      ],
      "execution_count": null,
      "outputs": []
    },
    {
      "cell_type": "markdown",
      "metadata": {
        "id": "AzJuX2rIqkiB"
      },
      "source": [
        "### <a id = \"link2\">Split the dataset</a>\n",
        "Let's split the data into the dependent and independent variables and further split it into train and test set in a ratio of 70:30 for train and test set."
      ]
    },
    {
      "cell_type": "code",
      "metadata": {
        "id": "e275MQh4qkiC"
      },
      "source": [
        ""
      ],
      "execution_count": null,
      "outputs": []
    },
    {
      "cell_type": "code",
      "metadata": {
        "id": "r6m3t_BfqkiC"
      },
      "source": [
        ""
      ],
      "execution_count": null,
      "outputs": []
    },
    {
      "cell_type": "markdown",
      "metadata": {
        "id": "uCTOI_BfqkiC"
      },
      "source": [
        "### <a id = \"link3\">Using Linear Model from Scikit learn library</a>"
      ]
    },
    {
      "cell_type": "markdown",
      "metadata": {
        "id": "sX5r3zbjqkiC"
      },
      "source": [
        "**Fit the model to the training set**"
      ]
    },
    {
      "cell_type": "code",
      "metadata": {
        "id": "NVaLs15OqkiC"
      },
      "source": [
        ""
      ],
      "execution_count": null,
      "outputs": []
    },
    {
      "cell_type": "markdown",
      "metadata": {
        "id": "Og4v2Qm0qkiD"
      },
      "source": [
        "**Get the score on training set**"
      ]
    },
    {
      "cell_type": "code",
      "metadata": {
        "id": "Uh9qcb8jqkiD"
      },
      "source": [
        ""
      ],
      "execution_count": null,
      "outputs": []
    },
    {
      "cell_type": "markdown",
      "metadata": {
        "id": "n1nwSJMhqkiD"
      },
      "source": [
        "**Write your own function for the r-squared score**"
      ]
    },
    {
      "cell_type": "code",
      "metadata": {
        "id": "ce5FF8CAqkiD"
      },
      "source": [
        ""
      ],
      "execution_count": null,
      "outputs": []
    },
    {
      "cell_type": "markdown",
      "metadata": {
        "id": "Pt8TLhOQqkiD"
      },
      "source": [
        "**Get the score on test set**"
      ]
    },
    {
      "cell_type": "code",
      "metadata": {
        "id": "Rdjn_Y42qkiD"
      },
      "source": [
        ""
      ],
      "execution_count": null,
      "outputs": []
    },
    {
      "cell_type": "markdown",
      "metadata": {
        "id": "5YXXLS7aqkiE"
      },
      "source": [
        "**Get the RMSE on test set**"
      ]
    },
    {
      "cell_type": "code",
      "metadata": {
        "scrolled": true,
        "id": "DemRGS5NqkiE"
      },
      "source": [
        ""
      ],
      "execution_count": null,
      "outputs": []
    },
    {
      "cell_type": "markdown",
      "metadata": {
        "id": "tUYAJox2qkiE"
      },
      "source": [
        "**Get model Coefficients**"
      ]
    },
    {
      "cell_type": "code",
      "metadata": {
        "scrolled": false,
        "id": "p_iH_L7sqkiE"
      },
      "source": [
        ""
      ],
      "execution_count": null,
      "outputs": []
    },
    {
      "cell_type": "markdown",
      "metadata": {
        "id": "PDDls517qkiE"
      },
      "source": [
        "**Automate the equation of the fit**"
      ]
    },
    {
      "cell_type": "code",
      "metadata": {
        "id": "pJMD8EcGqkiE"
      },
      "source": [
        ""
      ],
      "execution_count": null,
      "outputs": []
    },
    {
      "cell_type": "markdown",
      "metadata": {
        "id": "C5gkq7t2qkiE"
      },
      "source": [
        "## <a id = \"link4\">Bonus: Using Statsmodels OLS</a>"
      ]
    },
    {
      "cell_type": "code",
      "metadata": {
        "id": "hmVw3elZqkiF"
      },
      "source": [
        ""
      ],
      "execution_count": null,
      "outputs": []
    },
    {
      "cell_type": "markdown",
      "metadata": {
        "id": "BKExww-GqkiF"
      },
      "source": [
        "**Make the linear model using OLS**"
      ]
    },
    {
      "cell_type": "code",
      "metadata": {
        "id": "U1rj1nyvqkiF"
      },
      "source": [
        "\n"
      ],
      "execution_count": null,
      "outputs": []
    },
    {
      "cell_type": "markdown",
      "metadata": {
        "id": "0EqKiAbbqkiF"
      },
      "source": [
        "**Get the value of coefficient of determination**"
      ]
    },
    {
      "cell_type": "code",
      "metadata": {
        "id": "4lLYLGOOqkiF"
      },
      "source": [
        ""
      ],
      "execution_count": null,
      "outputs": []
    },
    {
      "cell_type": "markdown",
      "metadata": {
        "id": "cfWPaXvjqkiG"
      },
      "source": [
        "**Get the Predictions on test set**"
      ]
    },
    {
      "cell_type": "code",
      "metadata": {
        "id": "-Vkhly5fqkiG"
      },
      "source": [
        ""
      ],
      "execution_count": null,
      "outputs": []
    },
    {
      "cell_type": "markdown",
      "metadata": {
        "id": "VyuVLS15qkiG"
      },
      "source": [
        "**Calculate MSE for training set**"
      ]
    },
    {
      "cell_type": "code",
      "metadata": {
        "id": "SMjWIFIbqkiG"
      },
      "source": [
        ""
      ],
      "execution_count": null,
      "outputs": []
    },
    {
      "cell_type": "markdown",
      "metadata": {
        "id": "UXC829q8qkiG"
      },
      "source": [
        "**Get the RMSE on training set**"
      ]
    },
    {
      "cell_type": "code",
      "metadata": {
        "id": "ddlNtGIqqkiG"
      },
      "source": [
        ""
      ],
      "execution_count": null,
      "outputs": []
    },
    {
      "cell_type": "markdown",
      "metadata": {
        "id": "o1YiBcJ7qkiG"
      },
      "source": [
        "**Get the RMSE on test set**"
      ]
    },
    {
      "cell_type": "code",
      "metadata": {
        "scrolled": true,
        "id": "H2nVoaaaqkiH"
      },
      "source": [
        ""
      ],
      "execution_count": null,
      "outputs": []
    }
  ]
}