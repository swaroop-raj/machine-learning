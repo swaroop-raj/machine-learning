{
  "nbformat": 4,
  "nbformat_minor": 0,
  "metadata": {
    "kernelspec": {
      "display_name": "Python 3",
      "language": "python",
      "name": "python3"
    },
    "language_info": {
      "codemirror_mode": {
        "name": "ipython",
        "version": 3
      },
      "file_extension": ".py",
      "mimetype": "text/x-python",
      "name": "python",
      "nbconvert_exporter": "python",
      "pygments_lexer": "ipython3",
      "version": "3.8.3"
    },
    "colab": {
      "name": "Term Deposit Subscription.ipynb",
      "provenance": [],
      "collapsed_sections": [
        "2-ZNuUM-CyCU",
        "sRXLDJUVBoMl",
        "6HCv51pnBoMm",
        "TPunr664ny6W",
        "aavkmhzdBoNB",
        "v2zHQ8vHBoNC",
        "9ndAvxUGBoNM",
        "uzqKml4OBoNP",
        "HKjgpxH0BoNQ",
        "QY7JOcREBoNQ",
        "dfpktXkJBoNS",
        "FAwWiE_pBoNX",
        "JjoTQA6aBoNY"
      ],
      "include_colab_link": true
    }
  },
  "cells": [
    {
      "cell_type": "markdown",
      "metadata": {
        "id": "view-in-github",
        "colab_type": "text"
      },
      "source": [
        "<a href=\"https://colab.research.google.com/github/swaroop-raj/machine-learning/blob/main/Term_Deposit_Subscription.ipynb\" target=\"_parent\"><img src=\"https://colab.research.google.com/assets/colab-badge.svg\" alt=\"Open In Colab\"/></a>"
      ]
    },
    {
      "cell_type": "markdown",
      "metadata": {
        "id": "j3HRcFAtBoMd"
      },
      "source": [
        "# Problem statement (Term Deposit Sale)\n",
        "\n",
        "\n",
        "---\n",
        "\n",
        "\n",
        "We have data from a Portuguese bank on details of customers related to selling a term deposit. The objective of the project is to help the marketing team identify potential customers who are relatively more likely to subscribe to the term deposit and this increase the hit ratio.\n",
        "\n",
        "\n",
        "### What is a Term Deposit?\n",
        "A Term deposit is a deposit that a bank or a financial institution offers with a fixed rate (often better than just opening deposit account) in which your money will be returned back at a specific maturity time.\n",
        "\n",
        " \n",
        "\n",
        "### Resources Available\n",
        "\n",
        "The historical data for this project is available in file https://archive.ics.uci.edu/ml/datasets/Bank+Marketing\n",
        "\n",
        " \n",
        "\n",
        "### Deliverable –1 (Exploratory data analysis)–(15)\n",
        "\n",
        "**Univariate analysis (9marks)**\n",
        "* Data types and description of the independent attributes which should include (name,  range of values observed, central values (mean and median), standard deviation and quartiles, skewness). - 3 Marks\n",
        "* Make a function to plot ‘countplot’ if the variable is categorical and ‘distplot’ if the variable is numeric. - 3 Marks\n",
        "* Identify outliers using IQR and verify the same using plots. Also mention the percentage of data points which are considered outliers. Should we treat them, why or why not? - 3 Marks\n",
        "\n",
        "**Multivariate analysis (6marks)**\n",
        "* Make a function to plot boxplots for all continuous variables VS ‘Target’ variable and countplots for all categorical variables VS ‘Target’ variable? - 3 Marks\n",
        "* Bi-variate analysis between predictor variables and target column. Comment on your findings in terms of their relationship and degree of relation if any. Visualize the analysis using pair plots, heatmaps, histograms or density curves. - 3 Marks\n",
        " \n",
        "\n",
        "### Deliverable –2 (Prepare the data for analytics)–(5)\n",
        "\n",
        "* Label encode or create dummy variables for categorical variables. Give reason for selecting either of them. - 2 Marks\n",
        "* Create the training set and test set in a ratio of 70:30. Make sure and verify distribution of classes is the same in the full dataset and train test split data. - 3 Marks\n",
        " \n",
        "\n",
        "### Deliverable –3 (Create the ensemble model)–(30)\n",
        "\n",
        "* Build the ensemble models (Bagging and Boosting) and Decision Tree model (at least 4 models in total). Note the model performance by using different metrics. Use confusion matrix to evaluate class level metrics i.e. Precision/Recall. - 10 Marks\n",
        "* Also reflect the training and testing score of all the models. Build a dataframe with model names as row index and all the metrics calculated as columns - 5 Marks\n",
        "* Explain the confusion matrix related terms like recall, precision etc. Also, select the best metric to choose one of the models from above. Give your reason for the same. - 5 Marks\n",
        "* Answer the following questions : - 10 Marks\n",
        "What do you mean by recall and what information does it provide here?\n",
        "* Suggest some changes for the organization so that they can increase the number of customers who take term deposit.\n",
        "* How much influence does the previous campaign and mode of interaction have on financial performance.\n",
        "* Which features should be more/less focused by the bank to get better results and why?\n",
        "* What did you learn about banking industries from this data?\n",
        " \n",
        "\n",
        "** Note : ** Use random_state=7 (wherever the parameter can be used) so that we can compare all submissions."
      ]
    },
    {
      "cell_type": "markdown",
      "metadata": {
        "id": "2-ZNuUM-CyCU"
      },
      "source": [
        "## Attribute Information\n",
        "\n",
        "1. age\n",
        "2. job : type of job\n",
        "3. marital : marital status\n",
        "4. education\n",
        "5. default: has credit in default?\n",
        "6. housing: has housing loan?\n",
        "7. loan: has personal loan?\n",
        "8. balance in account\n",
        "9. contact: contact communication type\n",
        "10. month: last contact month of year\n",
        "11. day: last contact day of the month\n",
        "12. duration: last contact duration, in seconds\n",
        "13. campaign: number of contacts performed during this campaign and for this client\n",
        "14. pdays: number of days that passed by after the client was last contacted from a previous campaign\n",
        "15. previous: number of contacts performed before this campaign and for this client\n",
        "16. poutcome: outcome of the previous marketing campaign\n",
        "17. Output variable ('Target'): has the client subscribed a term deposit?"
      ]
    },
    {
      "cell_type": "markdown",
      "metadata": {
        "id": "sRXLDJUVBoMl"
      },
      "source": [
        "## `Index`\n",
        "\n",
        "----------------------\n",
        "- <a href = #link1>Import the datasets and libraries, check datatype, statistical summary, shape, null values or incorrect imputation</a>\n",
        "\n",
        "\n",
        "- <a href = #link2>Exploratory Data Analysis</a> \n",
        "\n",
        "    - <a href = #link3>Number of unique in each column?</a> \n",
        "  "
      ]
    },
    {
      "cell_type": "markdown",
      "metadata": {
        "id": "6HCv51pnBoMm"
      },
      "source": [
        "## <a id = \"link1\"></a> Import Libraries and Load Dataset"
      ]
    },
    {
      "cell_type": "code",
      "metadata": {
        "id": "UWpvQiY-BoMm"
      },
      "source": [
        "import warnings\n",
        "warnings.filterwarnings('ignore')"
      ],
      "execution_count": 329,
      "outputs": []
    },
    {
      "cell_type": "code",
      "metadata": {
        "id": "N7imv_cABoMn"
      },
      "source": [
        "import pandas as pd\n",
        "from sklearn.linear_model import LogisticRegression\n",
        "\n",
        "# Importing the libraries for ploting\n",
        "import matplotlib.pyplot as plt\n",
        "# To enable plotting graphs in Jupyter notebook\n",
        "%matplotlib inline\n",
        "\n",
        "#importing seaborn for statistical plots\n",
        "import seaborn as sns\n",
        "\n",
        "#importing train test split from sklearn for preraing traing and test dataset for the logistic model\n",
        "\n",
        "from sklearn.model_selection import train_test_split\n",
        "\n",
        "import numpy as np\n",
        "from scipy import stats\n",
        "\n",
        "# calculate accuracy measures and confusion matrix\n",
        "from sklearn import metrics"
      ],
      "execution_count": 330,
      "outputs": []
    },
    {
      "cell_type": "markdown",
      "metadata": {
        "id": "wGoTJAohBoMn"
      },
      "source": [
        "**Reading the dataset:**"
      ]
    },
    {
      "cell_type": "code",
      "metadata": {
        "scrolled": true,
        "id": "2bquBVLtBoMo"
      },
      "source": [
        "df = pd.read_csv('/content/bank-full.csv');\n",
        "data = df.copy()"
      ],
      "execution_count": 331,
      "outputs": []
    },
    {
      "cell_type": "markdown",
      "metadata": {
        "id": "TPunr664ny6W"
      },
      "source": [
        "## <a id = \"link2\"></a> Deliverable –1 (Exploratory data analysis)"
      ]
    },
    {
      "cell_type": "code",
      "metadata": {
        "colab": {
          "base_uri": "https://localhost:8080/",
          "height": 224
        },
        "id": "hpsmdvbPD8Lm",
        "outputId": "b036a40c-78c5-4e49-d81e-338a39c27ba8"
      },
      "source": [
        "data.head()"
      ],
      "execution_count": 332,
      "outputs": [
        {
          "output_type": "execute_result",
          "data": {
            "text/html": [
              "<div>\n",
              "<style scoped>\n",
              "    .dataframe tbody tr th:only-of-type {\n",
              "        vertical-align: middle;\n",
              "    }\n",
              "\n",
              "    .dataframe tbody tr th {\n",
              "        vertical-align: top;\n",
              "    }\n",
              "\n",
              "    .dataframe thead th {\n",
              "        text-align: right;\n",
              "    }\n",
              "</style>\n",
              "<table border=\"1\" class=\"dataframe\">\n",
              "  <thead>\n",
              "    <tr style=\"text-align: right;\">\n",
              "      <th></th>\n",
              "      <th>age</th>\n",
              "      <th>job</th>\n",
              "      <th>marital</th>\n",
              "      <th>education</th>\n",
              "      <th>default</th>\n",
              "      <th>balance</th>\n",
              "      <th>housing</th>\n",
              "      <th>loan</th>\n",
              "      <th>contact</th>\n",
              "      <th>day</th>\n",
              "      <th>month</th>\n",
              "      <th>duration</th>\n",
              "      <th>campaign</th>\n",
              "      <th>pdays</th>\n",
              "      <th>previous</th>\n",
              "      <th>poutcome</th>\n",
              "      <th>Target</th>\n",
              "    </tr>\n",
              "  </thead>\n",
              "  <tbody>\n",
              "    <tr>\n",
              "      <th>0</th>\n",
              "      <td>58</td>\n",
              "      <td>management</td>\n",
              "      <td>married</td>\n",
              "      <td>tertiary</td>\n",
              "      <td>no</td>\n",
              "      <td>2143</td>\n",
              "      <td>yes</td>\n",
              "      <td>no</td>\n",
              "      <td>unknown</td>\n",
              "      <td>5</td>\n",
              "      <td>may</td>\n",
              "      <td>261</td>\n",
              "      <td>1</td>\n",
              "      <td>-1</td>\n",
              "      <td>0</td>\n",
              "      <td>unknown</td>\n",
              "      <td>no</td>\n",
              "    </tr>\n",
              "    <tr>\n",
              "      <th>1</th>\n",
              "      <td>44</td>\n",
              "      <td>technician</td>\n",
              "      <td>single</td>\n",
              "      <td>secondary</td>\n",
              "      <td>no</td>\n",
              "      <td>29</td>\n",
              "      <td>yes</td>\n",
              "      <td>no</td>\n",
              "      <td>unknown</td>\n",
              "      <td>5</td>\n",
              "      <td>may</td>\n",
              "      <td>151</td>\n",
              "      <td>1</td>\n",
              "      <td>-1</td>\n",
              "      <td>0</td>\n",
              "      <td>unknown</td>\n",
              "      <td>no</td>\n",
              "    </tr>\n",
              "    <tr>\n",
              "      <th>2</th>\n",
              "      <td>33</td>\n",
              "      <td>entrepreneur</td>\n",
              "      <td>married</td>\n",
              "      <td>secondary</td>\n",
              "      <td>no</td>\n",
              "      <td>2</td>\n",
              "      <td>yes</td>\n",
              "      <td>yes</td>\n",
              "      <td>unknown</td>\n",
              "      <td>5</td>\n",
              "      <td>may</td>\n",
              "      <td>76</td>\n",
              "      <td>1</td>\n",
              "      <td>-1</td>\n",
              "      <td>0</td>\n",
              "      <td>unknown</td>\n",
              "      <td>no</td>\n",
              "    </tr>\n",
              "    <tr>\n",
              "      <th>3</th>\n",
              "      <td>47</td>\n",
              "      <td>blue-collar</td>\n",
              "      <td>married</td>\n",
              "      <td>unknown</td>\n",
              "      <td>no</td>\n",
              "      <td>1506</td>\n",
              "      <td>yes</td>\n",
              "      <td>no</td>\n",
              "      <td>unknown</td>\n",
              "      <td>5</td>\n",
              "      <td>may</td>\n",
              "      <td>92</td>\n",
              "      <td>1</td>\n",
              "      <td>-1</td>\n",
              "      <td>0</td>\n",
              "      <td>unknown</td>\n",
              "      <td>no</td>\n",
              "    </tr>\n",
              "    <tr>\n",
              "      <th>4</th>\n",
              "      <td>33</td>\n",
              "      <td>unknown</td>\n",
              "      <td>single</td>\n",
              "      <td>unknown</td>\n",
              "      <td>no</td>\n",
              "      <td>1</td>\n",
              "      <td>no</td>\n",
              "      <td>no</td>\n",
              "      <td>unknown</td>\n",
              "      <td>5</td>\n",
              "      <td>may</td>\n",
              "      <td>198</td>\n",
              "      <td>1</td>\n",
              "      <td>-1</td>\n",
              "      <td>0</td>\n",
              "      <td>unknown</td>\n",
              "      <td>no</td>\n",
              "    </tr>\n",
              "  </tbody>\n",
              "</table>\n",
              "</div>"
            ],
            "text/plain": [
              "   age           job  marital  education  ... pdays  previous poutcome Target\n",
              "0   58    management  married   tertiary  ...    -1         0  unknown     no\n",
              "1   44    technician   single  secondary  ...    -1         0  unknown     no\n",
              "2   33  entrepreneur  married  secondary  ...    -1         0  unknown     no\n",
              "3   47   blue-collar  married    unknown  ...    -1         0  unknown     no\n",
              "4   33       unknown   single    unknown  ...    -1         0  unknown     no\n",
              "\n",
              "[5 rows x 17 columns]"
            ]
          },
          "metadata": {
            "tags": []
          },
          "execution_count": 332
        }
      ]
    },
    {
      "cell_type": "code",
      "metadata": {
        "colab": {
          "base_uri": "https://localhost:8080/"
        },
        "id": "qXvsPD9dBoMw",
        "outputId": "c2658ad7-7d79-47a2-ed38-b8b1329c6d81"
      },
      "source": [
        "data.shape"
      ],
      "execution_count": 333,
      "outputs": [
        {
          "output_type": "execute_result",
          "data": {
            "text/plain": [
              "(45211, 17)"
            ]
          },
          "metadata": {
            "tags": []
          },
          "execution_count": 333
        }
      ]
    },
    {
      "cell_type": "markdown",
      "metadata": {
        "id": "qtFxl-9QGilz"
      },
      "source": [
        "Dataset has 45211 rows and 17 feature attributes."
      ]
    },
    {
      "cell_type": "markdown",
      "metadata": {
        "id": "dmxxZ-LzBoMz"
      },
      "source": [
        "**Null checks the dataset:**"
      ]
    },
    {
      "cell_type": "code",
      "metadata": {
        "colab": {
          "base_uri": "https://localhost:8080/"
        },
        "id": "MQKoGFqSBoM0",
        "outputId": "7be45721-9a1d-41cd-94ea-ddab8a3c21f4"
      },
      "source": [
        "data.info()"
      ],
      "execution_count": 334,
      "outputs": [
        {
          "output_type": "stream",
          "text": [
            "<class 'pandas.core.frame.DataFrame'>\n",
            "RangeIndex: 45211 entries, 0 to 45210\n",
            "Data columns (total 17 columns):\n",
            " #   Column     Non-Null Count  Dtype \n",
            "---  ------     --------------  ----- \n",
            " 0   age        45211 non-null  int64 \n",
            " 1   job        45211 non-null  object\n",
            " 2   marital    45211 non-null  object\n",
            " 3   education  45211 non-null  object\n",
            " 4   default    45211 non-null  object\n",
            " 5   balance    45211 non-null  int64 \n",
            " 6   housing    45211 non-null  object\n",
            " 7   loan       45211 non-null  object\n",
            " 8   contact    45211 non-null  object\n",
            " 9   day        45211 non-null  int64 \n",
            " 10  month      45211 non-null  object\n",
            " 11  duration   45211 non-null  int64 \n",
            " 12  campaign   45211 non-null  int64 \n",
            " 13  pdays      45211 non-null  int64 \n",
            " 14  previous   45211 non-null  int64 \n",
            " 15  poutcome   45211 non-null  object\n",
            " 16  Target     45211 non-null  object\n",
            "dtypes: int64(7), object(10)\n",
            "memory usage: 5.9+ MB\n"
          ],
          "name": "stdout"
        }
      ]
    },
    {
      "cell_type": "code",
      "metadata": {
        "colab": {
          "base_uri": "https://localhost:8080/"
        },
        "id": "kgpfJzc4GrqB",
        "outputId": "7e9d9ad6-34df-4085-f3b3-7915627de716"
      },
      "source": [
        "data.isnull().sum()"
      ],
      "execution_count": 335,
      "outputs": [
        {
          "output_type": "execute_result",
          "data": {
            "text/plain": [
              "age          0\n",
              "job          0\n",
              "marital      0\n",
              "education    0\n",
              "default      0\n",
              "balance      0\n",
              "housing      0\n",
              "loan         0\n",
              "contact      0\n",
              "day          0\n",
              "month        0\n",
              "duration     0\n",
              "campaign     0\n",
              "pdays        0\n",
              "previous     0\n",
              "poutcome     0\n",
              "Target       0\n",
              "dtype: int64"
            ]
          },
          "metadata": {
            "tags": []
          },
          "execution_count": 335
        }
      ]
    },
    {
      "cell_type": "markdown",
      "metadata": {
        "id": "rEgsZxX-GRrP"
      },
      "source": [
        "There are no NAN or null values in the dataset . However there are some unknown or missing data which we will be treating going forward."
      ]
    },
    {
      "cell_type": "markdown",
      "metadata": {
        "id": "vkwldRjlHZdt"
      },
      "source": [
        " **Unique values counts and domain values**"
      ]
    },
    {
      "cell_type": "code",
      "metadata": {
        "colab": {
          "base_uri": "https://localhost:8080/"
        },
        "id": "gV8taA1mG7xd",
        "outputId": "303f6840-774d-499c-b0af-bc073ef7077a"
      },
      "source": [
        "data.nunique()"
      ],
      "execution_count": 336,
      "outputs": [
        {
          "output_type": "execute_result",
          "data": {
            "text/plain": [
              "age            77\n",
              "job            12\n",
              "marital         3\n",
              "education       4\n",
              "default         2\n",
              "balance      7168\n",
              "housing         2\n",
              "loan            2\n",
              "contact         3\n",
              "day            31\n",
              "month          12\n",
              "duration     1573\n",
              "campaign       48\n",
              "pdays         559\n",
              "previous       41\n",
              "poutcome        4\n",
              "Target          2\n",
              "dtype: int64"
            ]
          },
          "metadata": {
            "tags": []
          },
          "execution_count": 336
        }
      ]
    },
    {
      "cell_type": "code",
      "metadata": {
        "colab": {
          "base_uri": "https://localhost:8080/"
        },
        "id": "HWOs6AB6BoM1",
        "outputId": "f40197f0-17e5-4d92-868a-3ea9a3431e86"
      },
      "source": [
        "print(data['contact'].value_counts())\n",
        "print()\n",
        "print(data['marital'].value_counts())\n",
        "print()\n",
        "print(data['education'].value_counts())\n",
        "print()\n",
        "print(data['month'].value_counts())\n",
        "print()\n",
        "print(data['poutcome'].value_counts())"
      ],
      "execution_count": 337,
      "outputs": [
        {
          "output_type": "stream",
          "text": [
            "cellular     29285\n",
            "unknown      13020\n",
            "telephone     2906\n",
            "Name: contact, dtype: int64\n",
            "\n",
            "married     27214\n",
            "single      12790\n",
            "divorced     5207\n",
            "Name: marital, dtype: int64\n",
            "\n",
            "secondary    23202\n",
            "tertiary     13301\n",
            "primary       6851\n",
            "unknown       1857\n",
            "Name: education, dtype: int64\n",
            "\n",
            "may    13766\n",
            "jul     6895\n",
            "aug     6247\n",
            "jun     5341\n",
            "nov     3970\n",
            "apr     2932\n",
            "feb     2649\n",
            "jan     1403\n",
            "oct      738\n",
            "sep      579\n",
            "mar      477\n",
            "dec      214\n",
            "Name: month, dtype: int64\n",
            "\n",
            "unknown    36959\n",
            "failure     4901\n",
            "other       1840\n",
            "success     1511\n",
            "Name: poutcome, dtype: int64\n"
          ],
          "name": "stdout"
        }
      ]
    },
    {
      "cell_type": "markdown",
      "metadata": {
        "id": "eMWMyTbmBoM1"
      },
      "source": [
        " **Insights:**\n",
        "- `For many customers there is unknown contact communication channel. These could be door to door or mail communication. We shall re-define these to two categories \"phone\" and \"others\" .`\n",
        "- `Q2 has the most amount of contacts to customers , May being the busiest month for the campaining team`\n",
        "- `Previous Outcome (poutcome) has many other and unknown values.We shall investigate more on data and see if we can categorize these values to success ot failure based on data.`"
      ]
    },
    {
      "cell_type": "code",
      "metadata": {
        "colab": {
          "base_uri": "https://localhost:8080/"
        },
        "id": "F-xvFBeA-qIV",
        "outputId": "054bbd02-db92-437e-da9a-92b5fffb5117"
      },
      "source": [
        "data['poutcome'] = data['poutcome'].replace(['other' , 'unknown'], 'nonexistent')\n",
        "\n",
        "# converting other and unknown category to nonexistent category.\n",
        "\n",
        "data['poutcome'].value_counts()"
      ],
      "execution_count": 338,
      "outputs": [
        {
          "output_type": "execute_result",
          "data": {
            "text/plain": [
              "nonexistent    38799\n",
              "failure         4901\n",
              "success         1511\n",
              "Name: poutcome, dtype: int64"
            ]
          },
          "metadata": {
            "tags": []
          },
          "execution_count": 338
        }
      ]
    },
    {
      "cell_type": "markdown",
      "metadata": {
        "id": "aavkmhzdBoNB"
      },
      "source": [
        "### <a id = \"link8\"></a> Univariate Analysis"
      ]
    },
    {
      "cell_type": "code",
      "metadata": {
        "colab": {
          "base_uri": "https://localhost:8080/"
        },
        "id": "VCLFEC2bF59X",
        "outputId": "d260f073-771b-47b5-85b5-7f3b756ac667"
      },
      "source": [
        "data.dtypes"
      ],
      "execution_count": 339,
      "outputs": [
        {
          "output_type": "execute_result",
          "data": {
            "text/plain": [
              "age           int64\n",
              "job          object\n",
              "marital      object\n",
              "education    object\n",
              "default      object\n",
              "balance       int64\n",
              "housing      object\n",
              "loan         object\n",
              "contact      object\n",
              "day           int64\n",
              "month        object\n",
              "duration      int64\n",
              "campaign      int64\n",
              "pdays         int64\n",
              "previous      int64\n",
              "poutcome     object\n",
              "Target       object\n",
              "dtype: object"
            ]
          },
          "metadata": {
            "tags": []
          },
          "execution_count": 339
        }
      ]
    },
    {
      "cell_type": "markdown",
      "metadata": {
        "id": "2ixzI0PtI1l2"
      },
      "source": [
        "**Insights:**\n",
        "- `The attributes which are of data type object have fixed domain values. We would be changing the data types for these to category types`"
      ]
    },
    {
      "cell_type": "markdown",
      "metadata": {
        "id": "iPczgDcUgl6F"
      },
      "source": [
        "**Statistical description of the data set**"
      ]
    },
    {
      "cell_type": "markdown",
      "metadata": {
        "id": "JORqblOCD26y"
      },
      "source": [
        "**Function to plot the plots based on data types**"
      ]
    },
    {
      "cell_type": "code",
      "metadata": {
        "id": "vbk-mCL0hP66"
      },
      "source": [
        "def univariatePlots(data) :\n",
        "  for col in data.columns :\n",
        "    if (data[col].dtypes == \"int64\") :\n",
        "      print(\"Distplot for numeric column : \" , col);\n",
        "      sns.displot(data[col], kde=True);\n",
        "    elif data[col].dtypes == \"object\" :\n",
        "      print(\"Countplot for categorical column : \" , col);\n",
        "      sns.countplot(data[col]);\n",
        "    plt.show()\n"
      ],
      "execution_count": 340,
      "outputs": []
    },
    {
      "cell_type": "code",
      "metadata": {
        "colab": {
          "base_uri": "https://localhost:8080/",
          "height": 1000
        },
        "id": "iMWpRaSNim1M",
        "outputId": "5c524618-31da-413c-be26-483970d07b70"
      },
      "source": [
        "univariatePlots(data)"
      ],
      "execution_count": 341,
      "outputs": [
        {
          "output_type": "stream",
          "text": [
            "Distplot for numeric column :  age\n"
          ],
          "name": "stdout"
        },
        {
          "output_type": "display_data",
          "data": {
            "image/png": "[encoded data removed]",
            "text/plain": [
              "<Figure size 360x360 with 1 Axes>"
            ]
          },
          "metadata": {
            "tags": [],
            "needs_background": "light"
          }
        },
        {
          "output_type": "stream",
          "text": [
            "Countplot for categorical column :  job\n"
          ],
          "name": "stdout"
        },
        {
          "output_type": "display_data",
          "data": {
            "image/png": "[encoded data removed]",
            "text/plain": [
              "<Figure size 432x288 with 1 Axes>"
            ]
          },
          "metadata": {
            "tags": [],
            "needs_background": "light"
          }
        },
        {
          "output_type": "stream",
          "text": [
            "Countplot for categorical column :  marital\n"
          ],
          "name": "stdout"
        },
        {
          "output_type": "display_data",
          "data": {
            "image/png": "[encoded data removed]",
            "text/plain": [
              "<Figure size 432x288 with 1 Axes>"
            ]
          },
          "metadata": {
            "tags": [],
            "needs_background": "light"
          }
        },
        {
          "output_type": "stream",
          "text": [
            "Countplot for categorical column :  education\n"
          ],
          "name": "stdout"
        },
        {
          "output_type": "display_data",
          "data": {
            "image/png": "[encoded data removed]",
            "text/plain": [
              "<Figure size 432x288 with 1 Axes>"
            ]
          },
          "metadata": {
            "tags": [],
            "needs_background": "light"
          }
        },
        {
          "output_type": "stream",
          "text": [
            "Countplot for categorical column :  default\n"
          ],
          "name": "stdout"
        },
        {
          "output_type": "display_data",
          "data": {
            "image/png": "[encoded data removed]",
            "text/plain": [
              "<Figure size 432x288 with 1 Axes>"
            ]
          },
          "metadata": {
            "tags": [],
            "needs_background": "light"
          }
        },
        {
          "output_type": "stream",
          "text": [
            "Distplot for numeric column :  balance\n"
          ],
          "name": "stdout"
        },
        {
          "output_type": "display_data",
          "data": {
            "image/png": "[encoded data removed]",
            "text/plain": [
              "<Figure size 360x360 with 1 Axes>"
            ]
          },
          "metadata": {
            "tags": [],
            "needs_background": "light"
          }
        },
        {
          "output_type": "stream",
          "text": [
            "Countplot for categorical column :  housing\n"
          ],
          "name": "stdout"
        },
        {
          "output_type": "display_data",
          "data": {
            "image/png": "[encoded data removed]",
            "text/plain": [
              "<Figure size 432x288 with 1 Axes>"
            ]
          },
          "metadata": {
            "tags": [],
            "needs_background": "light"
          }
        },
        {
          "output_type": "stream",
          "text": [
            "Countplot for categorical column :  loan\n"
          ],
          "name": "stdout"
        },
        {
          "output_type": "display_data",
          "data": {
            "image/png": "[encoded data removed]",
            "text/plain": [
              "<Figure size 432x288 with 1 Axes>"
            ]
          },
          "metadata": {
            "tags": [],
            "needs_background": "light"
          }
        },
        {
          "output_type": "stream",
          "text": [
            "Countplot for categorical column :  contact\n"
          ],
          "name": "stdout"
        },
        {
          "output_type": "display_data",
          "data": {
            "image/png": "[encoded data removed]",
            "text/plain": [
              "<Figure size 432x288 with 1 Axes>"
            ]
          },
          "metadata": {
            "tags": [],
            "needs_background": "light"
          }
        },
        {
          "output_type": "stream",
          "text": [
            "Distplot for numeric column :  day\n"
          ],
          "name": "stdout"
        },
        {
          "output_type": "display_data",
          "data": {
            "image/png": "[encoded data removed]",
            "text/plain": [
              "<Figure size 360x360 with 1 Axes>"
            ]
          },
          "metadata": {
            "tags": [],
            "needs_background": "light"
          }
        },
        {
          "output_type": "stream",
          "text": [
            "Countplot for categorical column :  month\n"
          ],
          "name": "stdout"
        },
        {
          "output_type": "display_data",
          "data": {
            "image/png": "[encoded data removed]",
            "text/plain": [
              "<Figure size 432x288 with 1 Axes>"
            ]
          },
          "metadata": {
            "tags": [],
            "needs_background": "light"
          }
        },
        {
          "output_type": "stream",
          "text": [
            "Distplot for numeric column :  duration\n"
          ],
          "name": "stdout"
        },
        {
          "output_type": "display_data",
          "data": {
            "image/png": "[encoded data removed]",
            "text/plain": [
              "<Figure size 360x360 with 1 Axes>"
            ]
          },
          "metadata": {
            "tags": [],
            "needs_background": "light"
          }
        },
        {
          "output_type": "stream",
          "text": [
            "Distplot for numeric column :  campaign\n"
          ],
          "name": "stdout"
        },
        {
          "output_type": "display_data",
          "data": {
            "image/png": "[encoded data removed]",
            "text/plain": [
              "<Figure size 360x360 with 1 Axes>"
            ]
          },
          "metadata": {
            "tags": [],
            "needs_background": "light"
          }
        },
        {
          "output_type": "stream",
          "text": [
            "Distplot for numeric column :  pdays\n"
          ],
          "name": "stdout"
        },
        {
          "output_type": "display_data",
          "data": {
            "image/png": "[encoded data removed]",
            "text/plain": [
              "<Figure size 360x360 with 1 Axes>"
            ]
          },
          "metadata": {
            "tags": [],
            "needs_background": "light"
          }
        },
        {
          "output_type": "stream",
          "text": [
            "Distplot for numeric column :  previous\n"
          ],
          "name": "stdout"
        },
        {
          "output_type": "display_data",
          "data": {
            "image/png": "[encoded data removed]",
            "text/plain": [
              "<Figure size 360x360 with 1 Axes>"
            ]
          },
          "metadata": {
            "tags": [],
            "needs_background": "light"
          }
        },
        {
          "output_type": "stream",
          "text": [
            "Countplot for categorical column :  poutcome\n"
          ],
          "name": "stdout"
        },
        {
          "output_type": "display_data",
          "data": {
            "image/png": "[encoded data removed]",
            "text/plain": [
              "<Figure size 432x288 with 1 Axes>"
            ]
          },
          "metadata": {
            "tags": [],
            "needs_background": "light"
          }
        },
        {
          "output_type": "stream",
          "text": [
            "Countplot for categorical column :  Target\n"
          ],
          "name": "stdout"
        },
        {
          "output_type": "display_data",
          "data": {
            "image/png": "[encoded data removed]",
            "text/plain": [
              "<Figure size 432x288 with 1 Axes>"
            ]
          },
          "metadata": {
            "tags": [],
            "needs_background": "light"
          }
        }
      ]
    },
    {
      "cell_type": "code",
      "metadata": {
        "colab": {
          "base_uri": "https://localhost:8080/"
        },
        "id": "7aQhPRJQhfpn",
        "outputId": "5fd489ee-cbd8-4d69-f232-6fe05eac7953"
      },
      "source": [
        "for col in data.columns :\n",
        "  if data[col].dtypes == 'object' :\n",
        "    print(data[col].value_counts(normalize = 'columns'))\n",
        "    print(\"--------------------------------------------\")"
      ],
      "execution_count": 342,
      "outputs": [
        {
          "output_type": "stream",
          "text": [
            "blue-collar      0.215257\n",
            "management       0.209197\n",
            "technician       0.168034\n",
            "admin.           0.114375\n",
            "services         0.091880\n",
            "retired          0.050076\n",
            "self-employed    0.034925\n",
            "entrepreneur     0.032890\n",
            "unemployed       0.028820\n",
            "housemaid        0.027427\n",
            "student          0.020747\n",
            "unknown          0.006370\n",
            "Name: job, dtype: float64\n",
            "--------------------------------------------\n",
            "married     0.601933\n",
            "single      0.282896\n",
            "divorced    0.115171\n",
            "Name: marital, dtype: float64\n",
            "--------------------------------------------\n",
            "secondary    0.513194\n",
            "tertiary     0.294198\n",
            "primary      0.151534\n",
            "unknown      0.041074\n",
            "Name: education, dtype: float64\n",
            "--------------------------------------------\n",
            "no     0.981973\n",
            "yes    0.018027\n",
            "Name: default, dtype: float64\n",
            "--------------------------------------------\n",
            "yes    0.555838\n",
            "no     0.444162\n",
            "Name: housing, dtype: float64\n",
            "--------------------------------------------\n",
            "no     0.839774\n",
            "yes    0.160226\n",
            "Name: loan, dtype: float64\n",
            "--------------------------------------------\n",
            "cellular     0.647741\n",
            "unknown      0.287983\n",
            "telephone    0.064276\n",
            "Name: contact, dtype: float64\n",
            "--------------------------------------------\n",
            "may    0.304483\n",
            "jul    0.152507\n",
            "aug    0.138174\n",
            "jun    0.118135\n",
            "nov    0.087810\n",
            "apr    0.064851\n",
            "feb    0.058592\n",
            "jan    0.031032\n",
            "oct    0.016323\n",
            "sep    0.012807\n",
            "mar    0.010551\n",
            "dec    0.004733\n",
            "Name: month, dtype: float64\n",
            "--------------------------------------------\n",
            "nonexistent    0.858176\n",
            "failure        0.108403\n",
            "success        0.033421\n",
            "Name: poutcome, dtype: float64\n",
            "--------------------------------------------\n",
            "no     0.883015\n",
            "yes    0.116985\n",
            "Name: Target, dtype: float64\n",
            "--------------------------------------------\n"
          ],
          "name": "stdout"
        }
      ]
    },
    {
      "cell_type": "markdown",
      "metadata": {
        "id": "RJmgRHsxEESp"
      },
      "source": [
        "**Insights:**\n",
        "- `The dataset has customers from various age groups. 30 - 40 years being the most common age group`\n",
        "- `Majority of people are married ( 60% married)`\n",
        "- `Majority of people are non defaulters (98%)`\n",
        "- `Majority of people donot have loans with the bank`\n",
        "- `Majority of the people have not subscribed to Term deposit from previous campains`\n",
        "- `Q2 has the most amount of contacts to customers , May being the busiest month for the campaining team . May has 30% of contact volumes`\n",
        "- `Majority of the customer have not subscribed to Term Deposit. Only 11.6% of target attribute has values as \"yes\".`"
      ]
    },
    {
      "cell_type": "code",
      "metadata": {
        "colab": {
          "base_uri": "https://localhost:8080/",
          "height": 266
        },
        "id": "dy-npPyPkmlR",
        "outputId": "67d7d0c6-175e-4c29-c54e-a010d1c88cf6"
      },
      "source": [
        "data.describe().transpose()"
      ],
      "execution_count": 343,
      "outputs": [
        {
          "output_type": "execute_result",
          "data": {
            "text/html": [
              "<div>\n",
              "<style scoped>\n",
              "    .dataframe tbody tr th:only-of-type {\n",
              "        vertical-align: middle;\n",
              "    }\n",
              "\n",
              "    .dataframe tbody tr th {\n",
              "        vertical-align: top;\n",
              "    }\n",
              "\n",
              "    .dataframe thead th {\n",
              "        text-align: right;\n",
              "    }\n",
              "</style>\n",
              "<table border=\"1\" class=\"dataframe\">\n",
              "  <thead>\n",
              "    <tr style=\"text-align: right;\">\n",
              "      <th></th>\n",
              "      <th>count</th>\n",
              "      <th>mean</th>\n",
              "      <th>std</th>\n",
              "      <th>min</th>\n",
              "      <th>25%</th>\n",
              "      <th>50%</th>\n",
              "      <th>75%</th>\n",
              "      <th>max</th>\n",
              "    </tr>\n",
              "  </thead>\n",
              "  <tbody>\n",
              "    <tr>\n",
              "      <th>age</th>\n",
              "      <td>45211.0</td>\n",
              "      <td>40.936210</td>\n",
              "      <td>10.618762</td>\n",
              "      <td>18.0</td>\n",
              "      <td>33.0</td>\n",
              "      <td>39.0</td>\n",
              "      <td>48.0</td>\n",
              "      <td>95.0</td>\n",
              "    </tr>\n",
              "    <tr>\n",
              "      <th>balance</th>\n",
              "      <td>45211.0</td>\n",
              "      <td>1362.272058</td>\n",
              "      <td>3044.765829</td>\n",
              "      <td>-8019.0</td>\n",
              "      <td>72.0</td>\n",
              "      <td>448.0</td>\n",
              "      <td>1428.0</td>\n",
              "      <td>102127.0</td>\n",
              "    </tr>\n",
              "    <tr>\n",
              "      <th>day</th>\n",
              "      <td>45211.0</td>\n",
              "      <td>15.806419</td>\n",
              "      <td>8.322476</td>\n",
              "      <td>1.0</td>\n",
              "      <td>8.0</td>\n",
              "      <td>16.0</td>\n",
              "      <td>21.0</td>\n",
              "      <td>31.0</td>\n",
              "    </tr>\n",
              "    <tr>\n",
              "      <th>duration</th>\n",
              "      <td>45211.0</td>\n",
              "      <td>258.163080</td>\n",
              "      <td>257.527812</td>\n",
              "      <td>0.0</td>\n",
              "      <td>103.0</td>\n",
              "      <td>180.0</td>\n",
              "      <td>319.0</td>\n",
              "      <td>4918.0</td>\n",
              "    </tr>\n",
              "    <tr>\n",
              "      <th>campaign</th>\n",
              "      <td>45211.0</td>\n",
              "      <td>2.763841</td>\n",
              "      <td>3.098021</td>\n",
              "      <td>1.0</td>\n",
              "      <td>1.0</td>\n",
              "      <td>2.0</td>\n",
              "      <td>3.0</td>\n",
              "      <td>63.0</td>\n",
              "    </tr>\n",
              "    <tr>\n",
              "      <th>pdays</th>\n",
              "      <td>45211.0</td>\n",
              "      <td>40.197828</td>\n",
              "      <td>100.128746</td>\n",
              "      <td>-1.0</td>\n",
              "      <td>-1.0</td>\n",
              "      <td>-1.0</td>\n",
              "      <td>-1.0</td>\n",
              "      <td>871.0</td>\n",
              "    </tr>\n",
              "    <tr>\n",
              "      <th>previous</th>\n",
              "      <td>45211.0</td>\n",
              "      <td>0.580323</td>\n",
              "      <td>2.303441</td>\n",
              "      <td>0.0</td>\n",
              "      <td>0.0</td>\n",
              "      <td>0.0</td>\n",
              "      <td>0.0</td>\n",
              "      <td>275.0</td>\n",
              "    </tr>\n",
              "  </tbody>\n",
              "</table>\n",
              "</div>"
            ],
            "text/plain": [
              "            count         mean          std  ...    50%     75%       max\n",
              "age       45211.0    40.936210    10.618762  ...   39.0    48.0      95.0\n",
              "balance   45211.0  1362.272058  3044.765829  ...  448.0  1428.0  102127.0\n",
              "day       45211.0    15.806419     8.322476  ...   16.0    21.0      31.0\n",
              "duration  45211.0   258.163080   257.527812  ...  180.0   319.0    4918.0\n",
              "campaign  45211.0     2.763841     3.098021  ...    2.0     3.0      63.0\n",
              "pdays     45211.0    40.197828   100.128746  ...   -1.0    -1.0     871.0\n",
              "previous  45211.0     0.580323     2.303441  ...    0.0     0.0     275.0\n",
              "\n",
              "[7 rows x 8 columns]"
            ]
          },
          "metadata": {
            "tags": []
          },
          "execution_count": 343
        }
      ]
    },
    {
      "cell_type": "code",
      "metadata": {
        "id": "OS2y4wNkIRTF"
      },
      "source": [
        "def calculateIQR(col) :\n",
        "  Q1 = np.percentile(col, 25, interpolation='midpoint')\n",
        "  Q3 = np.percentile(col, 75, interpolation='midpoint')\n",
        "  IQR = Q3-Q1\n",
        "  lower_bound = Q1 -(1.5 * IQR)\n",
        "  upper_bound = Q3 + (1.5 * IQR)\n",
        "  return lower_bound, upper_bound "
      ],
      "execution_count": 344,
      "outputs": []
    },
    {
      "cell_type": "code",
      "metadata": {
        "colab": {
          "base_uri": "https://localhost:8080/"
        },
        "id": "jzOdLt_ZJHFt",
        "outputId": "c2bbc281-3592-4456-c603-b0bfd7c3baa4"
      },
      "source": [
        "print(\"Outliers details for the dataset :\")\n",
        "for col in data.columns :\n",
        "  if data[col].dtypes == 'int64' :\n",
        "    lower_range, upper_range = calculateIQR(data[col])\n",
        "    print(\"---------------- \" + col +  \"--------------------------------------------\")\n",
        "    print(\"Count of upper-range outliers - \", data[data[col] > upper_range].shape[0])\n",
        "    print(\"Percentage of upper-range outliers - \", (data[data[col] > upper_range].shape[0] / data.shape[0])* 100)\n",
        "    print(\"Count of lower-range outliers - \", data[data[col] < lower_range].shape[0])\n",
        "    print(\"Percentage of lower-range outliers - \", (data[data[col] < lower_range].shape[0] / data.shape[0]) * 100)\n",
        "    print(\"---------------------------------------------------------------------\")"
      ],
      "execution_count": 345,
      "outputs": [
        {
          "output_type": "stream",
          "text": [
            "Outliers details for the dataset :\n",
            "---------------- age--------------------------------------------\n",
            "Count of upper-range outliers -  487\n",
            "Percentage of upper-range outliers -  1.0771714848156422\n",
            "Count of lower-range outliers -  0\n",
            "Percentage of lower-range outliers -  0.0\n",
            "---------------------------------------------------------------------\n",
            "---------------- balance--------------------------------------------\n",
            "Count of upper-range outliers -  4712\n",
            "Percentage of upper-range outliers -  10.42224237464334\n",
            "Count of lower-range outliers -  17\n",
            "Percentage of lower-range outliers -  0.03760146866912919\n",
            "---------------------------------------------------------------------\n",
            "---------------- day--------------------------------------------\n",
            "Count of upper-range outliers -  0\n",
            "Percentage of upper-range outliers -  0.0\n",
            "Count of lower-range outliers -  0\n",
            "Percentage of lower-range outliers -  0.0\n",
            "---------------------------------------------------------------------\n",
            "---------------- duration--------------------------------------------\n",
            "Count of upper-range outliers -  3235\n",
            "Percentage of upper-range outliers -  7.155338302625467\n",
            "Count of lower-range outliers -  0\n",
            "Percentage of lower-range outliers -  0.0\n",
            "---------------------------------------------------------------------\n",
            "---------------- campaign--------------------------------------------\n",
            "Count of upper-range outliers -  3064\n",
            "Percentage of upper-range outliers -  6.7771117648359915\n",
            "Count of lower-range outliers -  0\n",
            "Percentage of lower-range outliers -  0.0\n",
            "---------------------------------------------------------------------\n",
            "---------------- pdays--------------------------------------------\n",
            "Count of upper-range outliers -  8257\n",
            "Percentage of upper-range outliers -  18.263254517705867\n",
            "Count of lower-range outliers -  0\n",
            "Percentage of lower-range outliers -  0.0\n",
            "---------------------------------------------------------------------\n",
            "---------------- previous--------------------------------------------\n",
            "Count of upper-range outliers -  8257\n",
            "Percentage of upper-range outliers -  18.263254517705867\n",
            "Count of lower-range outliers -  0\n",
            "Percentage of lower-range outliers -  0.0\n",
            "---------------------------------------------------------------------\n"
          ],
          "name": "stdout"
        }
      ]
    },
    {
      "cell_type": "markdown",
      "metadata": {
        "id": "__Cz-Fg1N5vh"
      },
      "source": [
        "**Insights:**\n",
        "- `The data set has multiple outliers as calculated above and same can be seen in below box plots`\n",
        "- `**balance** - This feature has 10% upper range outliers and multiple negative balances. We shall treat these in either of below two ways and gauge which approach contributes more towards the model prediction :`\n",
        "     - `make negative balances to zero values`\n",
        "     - `Categorize the balance to multiple ranges , negative , 0 - 10000 and more than 10000`\n",
        "- `**pdays** - This has many values as -1 . It is a good chance -1 represented as no contact . So we shall be converting -1 to 0's`\n",
        "- `**previous** - This has outliers however it seems some of these outliers have resulted in a term deposit subscription. Hence we shall keep these and see any corelation with target variable.`\n",
        "\n"
      ]
    },
    {
      "cell_type": "code",
      "metadata": {
        "colab": {
          "base_uri": "https://localhost:8080/",
          "height": 266
        },
        "id": "xAR047o-cPGU",
        "outputId": "0dad2040-9822-4f55-9f3f-66cadf000322"
      },
      "source": [
        "data.describe().transpose()\n"
      ],
      "execution_count": 346,
      "outputs": [
        {
          "output_type": "execute_result",
          "data": {
            "text/html": [
              "<div>\n",
              "<style scoped>\n",
              "    .dataframe tbody tr th:only-of-type {\n",
              "        vertical-align: middle;\n",
              "    }\n",
              "\n",
              "    .dataframe tbody tr th {\n",
              "        vertical-align: top;\n",
              "    }\n",
              "\n",
              "    .dataframe thead th {\n",
              "        text-align: right;\n",
              "    }\n",
              "</style>\n",
              "<table border=\"1\" class=\"dataframe\">\n",
              "  <thead>\n",
              "    <tr style=\"text-align: right;\">\n",
              "      <th></th>\n",
              "      <th>count</th>\n",
              "      <th>mean</th>\n",
              "      <th>std</th>\n",
              "      <th>min</th>\n",
              "      <th>25%</th>\n",
              "      <th>50%</th>\n",
              "      <th>75%</th>\n",
              "      <th>max</th>\n",
              "    </tr>\n",
              "  </thead>\n",
              "  <tbody>\n",
              "    <tr>\n",
              "      <th>age</th>\n",
              "      <td>45211.0</td>\n",
              "      <td>40.936210</td>\n",
              "      <td>10.618762</td>\n",
              "      <td>18.0</td>\n",
              "      <td>33.0</td>\n",
              "      <td>39.0</td>\n",
              "      <td>48.0</td>\n",
              "      <td>95.0</td>\n",
              "    </tr>\n",
              "    <tr>\n",
              "      <th>balance</th>\n",
              "      <td>45211.0</td>\n",
              "      <td>1362.272058</td>\n",
              "      <td>3044.765829</td>\n",
              "      <td>-8019.0</td>\n",
              "      <td>72.0</td>\n",
              "      <td>448.0</td>\n",
              "      <td>1428.0</td>\n",
              "      <td>102127.0</td>\n",
              "    </tr>\n",
              "    <tr>\n",
              "      <th>day</th>\n",
              "      <td>45211.0</td>\n",
              "      <td>15.806419</td>\n",
              "      <td>8.322476</td>\n",
              "      <td>1.0</td>\n",
              "      <td>8.0</td>\n",
              "      <td>16.0</td>\n",
              "      <td>21.0</td>\n",
              "      <td>31.0</td>\n",
              "    </tr>\n",
              "    <tr>\n",
              "      <th>duration</th>\n",
              "      <td>45211.0</td>\n",
              "      <td>258.163080</td>\n",
              "      <td>257.527812</td>\n",
              "      <td>0.0</td>\n",
              "      <td>103.0</td>\n",
              "      <td>180.0</td>\n",
              "      <td>319.0</td>\n",
              "      <td>4918.0</td>\n",
              "    </tr>\n",
              "    <tr>\n",
              "      <th>campaign</th>\n",
              "      <td>45211.0</td>\n",
              "      <td>2.763841</td>\n",
              "      <td>3.098021</td>\n",
              "      <td>1.0</td>\n",
              "      <td>1.0</td>\n",
              "      <td>2.0</td>\n",
              "      <td>3.0</td>\n",
              "      <td>63.0</td>\n",
              "    </tr>\n",
              "    <tr>\n",
              "      <th>pdays</th>\n",
              "      <td>45211.0</td>\n",
              "      <td>40.197828</td>\n",
              "      <td>100.128746</td>\n",
              "      <td>-1.0</td>\n",
              "      <td>-1.0</td>\n",
              "      <td>-1.0</td>\n",
              "      <td>-1.0</td>\n",
              "      <td>871.0</td>\n",
              "    </tr>\n",
              "    <tr>\n",
              "      <th>previous</th>\n",
              "      <td>45211.0</td>\n",
              "      <td>0.580323</td>\n",
              "      <td>2.303441</td>\n",
              "      <td>0.0</td>\n",
              "      <td>0.0</td>\n",
              "      <td>0.0</td>\n",
              "      <td>0.0</td>\n",
              "      <td>275.0</td>\n",
              "    </tr>\n",
              "  </tbody>\n",
              "</table>\n",
              "</div>"
            ],
            "text/plain": [
              "            count         mean          std  ...    50%     75%       max\n",
              "age       45211.0    40.936210    10.618762  ...   39.0    48.0      95.0\n",
              "balance   45211.0  1362.272058  3044.765829  ...  448.0  1428.0  102127.0\n",
              "day       45211.0    15.806419     8.322476  ...   16.0    21.0      31.0\n",
              "duration  45211.0   258.163080   257.527812  ...  180.0   319.0    4918.0\n",
              "campaign  45211.0     2.763841     3.098021  ...    2.0     3.0      63.0\n",
              "pdays     45211.0    40.197828   100.128746  ...   -1.0    -1.0     871.0\n",
              "previous  45211.0     0.580323     2.303441  ...    0.0     0.0     275.0\n",
              "\n",
              "[7 rows x 8 columns]"
            ]
          },
          "metadata": {
            "tags": []
          },
          "execution_count": 346
        }
      ]
    },
    {
      "cell_type": "code",
      "metadata": {
        "colab": {
          "base_uri": "https://localhost:8080/",
          "height": 1000
        },
        "id": "kwz29AK2od9B",
        "outputId": "36a70872-15ad-4ff8-ea56-a7853693b04e"
      },
      "source": [
        "for col in data.columns :\n",
        "    if (data[col].dtypes == \"int64\") :\n",
        "      sns.boxplot(data[col] , orient=\"h\")\n",
        "      plt.show()"
      ],
      "execution_count": 347,
      "outputs": [
        {
          "output_type": "display_data",
          "data": {
            "image/png": "[encoded data removed]",
            "text/plain": [
              "<Figure size 432x288 with 1 Axes>"
            ]
          },
          "metadata": {
            "tags": [],
            "needs_background": "light"
          }
        },
        {
          "output_type": "display_data",
          "data": {
            "image/png": "[encoded data removed]",
            "text/plain": [
              "<Figure size 432x288 with 1 Axes>"
            ]
          },
          "metadata": {
            "tags": [],
            "needs_background": "light"
          }
        },
        {
          "output_type": "display_data",
          "data": {
            "image/png": "[encoded data removed]",
            "text/plain": [
              "<Figure size 432x288 with 1 Axes>"
            ]
          },
          "metadata": {
            "tags": [],
            "needs_background": "light"
          }
        },
        {
          "output_type": "display_data",
          "data": {
            "image/png": "[encoded data removed]",
            "text/plain": [
              "<Figure size 432x288 with 1 Axes>"
            ]
          },
          "metadata": {
            "tags": [],
            "needs_background": "light"
          }
        },
        {
          "output_type": "display_data",
          "data": {
            "image/png": "[encoded data removed]",
            "text/plain": [
              "<Figure size 432x288 with 1 Axes>"
            ]
          },
          "metadata": {
            "tags": [],
            "needs_background": "light"
          }
        },
        {
          "output_type": "display_data",
          "data": {
            "image/png": "[encoded data removed]",
            "text/plain": [
              "<Figure size 432x288 with 1 Axes>"
            ]
          },
          "metadata": {
            "tags": [],
            "needs_background": "light"
          }
        },
        {
          "output_type": "display_data",
          "data": {
            "image/png": "[encoded data removed]",
            "text/plain": [
              "<Figure size 432x288 with 1 Axes>"
            ]
          },
          "metadata": {
            "tags": [],
            "needs_background": "light"
          }
        }
      ]
    },
    {
      "cell_type": "markdown",
      "metadata": {
        "id": "v2zHQ8vHBoNC"
      },
      "source": [
        "### <a id = \"link10\"></a> Bivariate & Multivariate Analysis"
      ]
    },
    {
      "cell_type": "code",
      "metadata": {
        "id": "K7aRmxYRk5qz"
      },
      "source": [
        "# function to plot the boxplot and countplot against the target variable accordingly \n",
        "def multiVariate(data) :\n",
        "  for col in data.columns :\n",
        "    if data[col].dtypes == 'int64' :\n",
        "      showBoxPlot(col)\n",
        "  for col in data.columns :\n",
        "    if data[col].dtypes == 'object' :\n",
        "      showCountPlot(col)\n",
        "\n",
        "def showBoxPlot(col) :\n",
        "   print(\"Box-Plot for attribute \"+ col + \" against target attribute\")\n",
        "   sns.boxplot(x=data[col] , y=data['Target'], data=data)\n",
        "   plt.show()\n",
        "\n",
        "def showCountPlot(col) :\n",
        "  print(\"Count-Plot for attribute \"+ col + \" against target attribute\")\n",
        "  sns.countplot(x=data[col], hue='Target', data=data)\n",
        "  plt.show()"
      ],
      "execution_count": 348,
      "outputs": []
    },
    {
      "cell_type": "code",
      "metadata": {
        "colab": {
          "base_uri": "https://localhost:8080/",
          "height": 1000
        },
        "id": "tSXYp-BnmIdW",
        "outputId": "970efc3c-0e33-48b1-c5c3-e2f847030590"
      },
      "source": [
        "multiVariate(data)"
      ],
      "execution_count": 349,
      "outputs": [
        {
          "output_type": "stream",
          "text": [
            "Box-Plot for attribute age against target attribute\n"
          ],
          "name": "stdout"
        },
        {
          "output_type": "display_data",
          "data": {
            "image/png": "[encoded data removed]",
            "text/plain": [
              "<Figure size 432x288 with 1 Axes>"
            ]
          },
          "metadata": {
            "tags": [],
            "needs_background": "light"
          }
        },
        {
          "output_type": "stream",
          "text": [
            "Box-Plot for attribute balance against target attribute\n"
          ],
          "name": "stdout"
        },
        {
          "output_type": "display_data",
          "data": {
            "image/png": "[encoded data removed]",
            "text/plain": [
              "<Figure size 432x288 with 1 Axes>"
            ]
          },
          "metadata": {
            "tags": [],
            "needs_background": "light"
          }
        },
        {
          "output_type": "stream",
          "text": [
            "Box-Plot for attribute day against target attribute\n"
          ],
          "name": "stdout"
        },
        {
          "output_type": "display_data",
          "data": {
            "image/png": "[encoded data removed]",
            "text/plain": [
              "<Figure size 432x288 with 1 Axes>"
            ]
          },
          "metadata": {
            "tags": [],
            "needs_background": "light"
          }
        },
        {
          "output_type": "stream",
          "text": [
            "Box-Plot for attribute duration against target attribute\n"
          ],
          "name": "stdout"
        },
        {
          "output_type": "display_data",
          "data": {
            "image/png": "[encoded data removed]",
            "text/plain": [
              "<Figure size 432x288 with 1 Axes>"
            ]
          },
          "metadata": {
            "tags": [],
            "needs_background": "light"
          }
        },
        {
          "output_type": "stream",
          "text": [
            "Box-Plot for attribute campaign against target attribute\n"
          ],
          "name": "stdout"
        },
        {
          "output_type": "display_data",
          "data": {
            "image/png": "[encoded data removed]",
            "text/plain": [
              "<Figure size 432x288 with 1 Axes>"
            ]
          },
          "metadata": {
            "tags": [],
            "needs_background": "light"
          }
        },
        {
          "output_type": "stream",
          "text": [
            "Box-Plot for attribute pdays against target attribute\n"
          ],
          "name": "stdout"
        },
        {
          "output_type": "display_data",
          "data": {
            "image/png": "[encoded data removed]",
            "text/plain": [
              "<Figure size 432x288 with 1 Axes>"
            ]
          },
          "metadata": {
            "tags": [],
            "needs_background": "light"
          }
        },
        {
          "output_type": "stream",
          "text": [
            "Box-Plot for attribute previous against target attribute\n"
          ],
          "name": "stdout"
        },
        {
          "output_type": "display_data",
          "data": {
            "image/png": "[encoded data removed]",
            "text/plain": [
              "<Figure size 432x288 with 1 Axes>"
            ]
          },
          "metadata": {
            "tags": [],
            "needs_background": "light"
          }
        },
        {
          "output_type": "stream",
          "text": [
            "Count-Plot for attribute job against target attribute\n"
          ],
          "name": "stdout"
        },
        {
          "output_type": "display_data",
          "data": {
            "image/png": "[encoded data removed]",
            "text/plain": [
              "<Figure size 432x288 with 1 Axes>"
            ]
          },
          "metadata": {
            "tags": [],
            "needs_background": "light"
          }
        },
        {
          "output_type": "stream",
          "text": [
            "Count-Plot for attribute marital against target attribute\n"
          ],
          "name": "stdout"
        },
        {
          "output_type": "display_data",
          "data": {
            "image/png": "[encoded data removed]",
            "text/plain": [
              "<Figure size 432x288 with 1 Axes>"
            ]
          },
          "metadata": {
            "tags": [],
            "needs_background": "light"
          }
        },
        {
          "output_type": "stream",
          "text": [
            "Count-Plot for attribute education against target attribute\n"
          ],
          "name": "stdout"
        },
        {
          "output_type": "display_data",
          "data": {
            "image/png": "[encoded data removed]",
            "text/plain": [
              "<Figure size 432x288 with 1 Axes>"
            ]
          },
          "metadata": {
            "tags": [],
            "needs_background": "light"
          }
        },
        {
          "output_type": "stream",
          "text": [
            "Count-Plot for attribute default against target attribute\n"
          ],
          "name": "stdout"
        },
        {
          "output_type": "display_data",
          "data": {
            "image/png": "[encoded data removed]",
            "text/plain": [
              "<Figure size 432x288 with 1 Axes>"
            ]
          },
          "metadata": {
            "tags": [],
            "needs_background": "light"
          }
        },
        {
          "output_type": "stream",
          "text": [
            "Count-Plot for attribute housing against target attribute\n"
          ],
          "name": "stdout"
        },
        {
          "output_type": "display_data",
          "data": {
            "image/png": "[encoded data removed]",
            "text/plain": [
              "<Figure size 432x288 with 1 Axes>"
            ]
          },
          "metadata": {
            "tags": [],
            "needs_background": "light"
          }
        },
        {
          "output_type": "stream",
          "text": [
            "Count-Plot for attribute loan against target attribute\n"
          ],
          "name": "stdout"
        },
        {
          "output_type": "display_data",
          "data": {
            "image/png": "[encoded data removed]",
            "text/plain": [
              "<Figure size 432x288 with 1 Axes>"
            ]
          },
          "metadata": {
            "tags": [],
            "needs_background": "light"
          }
        },
        {
          "output_type": "stream",
          "text": [
            "Count-Plot for attribute contact against target attribute\n"
          ],
          "name": "stdout"
        },
        {
          "output_type": "display_data",
          "data": {
            "image/png": "[encoded data removed]",
            "text/plain": [
              "<Figure size 432x288 with 1 Axes>"
            ]
          },
          "metadata": {
            "tags": [],
            "needs_background": "light"
          }
        },
        {
          "output_type": "stream",
          "text": [
            "Count-Plot for attribute month against target attribute\n"
          ],
          "name": "stdout"
        },
        {
          "output_type": "display_data",
          "data": {
            "image/png": "[encoded data removed]",
            "text/plain": [
              "<Figure size 432x288 with 1 Axes>"
            ]
          },
          "metadata": {
            "tags": [],
            "needs_background": "light"
          }
        },
        {
          "output_type": "stream",
          "text": [
            "Count-Plot for attribute poutcome against target attribute\n"
          ],
          "name": "stdout"
        },
        {
          "output_type": "display_data",
          "data": {
            "image/png": "[encoded data removed]",
            "text/plain": [
              "<Figure size 432x288 with 1 Axes>"
            ]
          },
          "metadata": {
            "tags": [],
            "needs_background": "light"
          }
        },
        {
          "output_type": "stream",
          "text": [
            "Count-Plot for attribute Target against target attribute\n"
          ],
          "name": "stdout"
        },
        {
          "output_type": "display_data",
          "data": {
            "image/png": "[encoded data removed]",
            "text/plain": [
              "<Figure size 432x288 with 1 Axes>"
            ]
          },
          "metadata": {
            "tags": [],
            "needs_background": "light"
          }
        }
      ]
    },
    {
      "cell_type": "code",
      "metadata": {
        "id": "qXbVYaAdn5c8"
      },
      "source": [
        "sns.pairplot(data)\n",
        "plt.show()"
      ],
      "execution_count": null,
      "outputs": []
    },
    {
      "cell_type": "markdown",
      "metadata": {
        "id": "HTjZG4ki7dnq"
      },
      "source": [
        "Comparing the features against the Traget variable"
      ]
    },
    {
      "cell_type": "code",
      "metadata": {
        "id": "g1mi964UwJJp"
      },
      "source": [
        "pd.crosstab(data['Target'], data['poutcome'],normalize='columns')\n",
        "\n",
        "# poutcome with \"success\" has most customers subscribed to term deposit ( target -> yes )."
      ],
      "execution_count": null,
      "outputs": []
    },
    {
      "cell_type": "code",
      "metadata": {
        "id": "-Rp1pimB6YjC"
      },
      "source": [
        "pd.crosstab(data['Target'], data['loan'],normalize='columns')"
      ],
      "execution_count": null,
      "outputs": []
    },
    {
      "cell_type": "code",
      "metadata": {
        "id": "m7Nm1Lk56i7C"
      },
      "source": [
        "pd.crosstab(data['Target'], data['default'],normalize='columns')"
      ],
      "execution_count": null,
      "outputs": []
    },
    {
      "cell_type": "code",
      "metadata": {
        "id": "1lwJ_eprSGAS"
      },
      "source": [
        "pd.crosstab(data['Target'], data['education'],normalize='columns')"
      ],
      "execution_count": null,
      "outputs": []
    },
    {
      "cell_type": "markdown",
      "metadata": {
        "id": "3E8YRgpGSS61"
      },
      "source": [
        "- `Education has unknown values which has a fair amount of distribution for customer who took term deposits.Hence we cannot delete unknown values for edication`\n",
        "- `We would be replacing unknown with the most occuring education category (mode) , i.e secondary`"
      ]
    },
    {
      "cell_type": "code",
      "metadata": {
        "id": "cWSV3X5oS5tO"
      },
      "source": [
        "# Replacing \"unknown\" with most mode of eduation ( secondary)\n",
        "\n",
        "most_freq_category = data['education'].mode()[0]\n",
        "data['education'] = data['education'].replace(['unknown'],most_freq_category)\n",
        "print(\"After data conversion\")\n",
        "pd.crosstab(data['Target'], data['education'],normalize='columns')"
      ],
      "execution_count": null,
      "outputs": []
    },
    {
      "cell_type": "code",
      "metadata": {
        "id": "BU0alkkr6rRN"
      },
      "source": [
        "pd.crosstab(data['Target'], data['contact'],normalize='columns')"
      ],
      "execution_count": null,
      "outputs": []
    },
    {
      "cell_type": "markdown",
      "metadata": {
        "id": "w-B2u4vuDkcU"
      },
      "source": [
        "`For contact the distribution of target variable is almost the same therefore dropping contact`\n",
        "\n"
      ]
    },
    {
      "cell_type": "code",
      "metadata": {
        "id": "V7hewD8_E5OO"
      },
      "source": [
        "data.drop(labels='contact',axis=1,inplace=True)"
      ],
      "execution_count": null,
      "outputs": []
    },
    {
      "cell_type": "code",
      "metadata": {
        "id": "U_YE3hzA6vb8"
      },
      "source": [
        "pd.crosstab(data['Target'], data['month'],normalize='columns')"
      ],
      "execution_count": null,
      "outputs": []
    },
    {
      "cell_type": "code",
      "metadata": {
        "id": "o1dflRtFFlq2"
      },
      "source": [
        "data.dtypes"
      ],
      "execution_count": null,
      "outputs": []
    },
    {
      "cell_type": "code",
      "metadata": {
        "id": "J1-sVjRH2PBh"
      },
      "source": [
        "# function to show the distribution of continious attributes agaisnt the target attribute (Yes/No)\n",
        "def showContDisPlot (col) :\n",
        "  sns.distplot(data[data['Target']=='yes'][col],color='g',label='Yes')\n",
        "  sns.distplot(data[data['Target']=='no'][col],color='r',label='No')\n",
        "  plt.legend()\n",
        "  plt.show()"
      ],
      "execution_count": null,
      "outputs": []
    },
    {
      "cell_type": "code",
      "metadata": {
        "id": "IRmaxnEnGgAo"
      },
      "source": [
        "for col in data.columns :\n",
        "  if data[col].dtypes == 'int64' :\n",
        "    showContDisPlot(col)"
      ],
      "execution_count": null,
      "outputs": []
    },
    {
      "cell_type": "markdown",
      "metadata": {
        "id": "izVPTCusJg2r"
      },
      "source": [
        "Heatmap for the correlation"
      ]
    },
    {
      "cell_type": "code",
      "metadata": {
        "id": "FQcXkwWVJLWk"
      },
      "source": [
        "plt.figure(figsize=(10,10))\n",
        "sns.heatmap(data.corr(), annot=True, fmt=\".2\")\n",
        "plt.show()"
      ],
      "execution_count": null,
      "outputs": []
    },
    {
      "cell_type": "markdown",
      "metadata": {
        "id": "w72Av8R3Jp1K"
      },
      "source": [
        "**Insights**\n",
        "- `Mostly all the attributes are independent of each other and less correlation`\n",
        "- `pdays and previous having the max coreleartion of 0.45 , so we can keep all of them.`"
      ]
    },
    {
      "cell_type": "markdown",
      "metadata": {
        "id": "NDzBRu0oKe9b"
      },
      "source": [
        "## Deliverable –2 (Prepare the data for analytics)"
      ]
    },
    {
      "cell_type": "code",
      "metadata": {
        "id": "G5CN4T9NKtbP"
      },
      "source": [
        "# Convert the attributes with data types as object to categorical types\n",
        "\n",
        "for col in data.columns :\n",
        "  if data[col].dtypes == 'object' :\n",
        "    data[col] = data[col].astype('category')\n",
        "\n",
        "data.dtypes\n"
      ],
      "execution_count": null,
      "outputs": []
    },
    {
      "cell_type": "code",
      "metadata": {
        "id": "xHu8nTxxQiNW"
      },
      "source": [
        "# Spliting the data in x and y , having Target attribute only in y and x having rest attributes.\n",
        "\n",
        "x = data.drop('Target', axis=1)\n",
        "y = data['Target']\n"
      ],
      "execution_count": null,
      "outputs": []
    },
    {
      "cell_type": "markdown",
      "metadata": {
        "id": "ihaYjeTqQXbL"
      },
      "source": [
        "One Hot Encoding for categorical attributes"
      ]
    },
    {
      "cell_type": "code",
      "metadata": {
        "id": "hrjGfv_NV5Q_"
      },
      "source": [
        "print(\"Shape before encoding \" , x.shape)\n",
        "x = pd.get_dummies(x);\n",
        "print(\"Shape after encoding \" , x.shape)"
      ],
      "execution_count": null,
      "outputs": []
    },
    {
      "cell_type": "code",
      "metadata": {
        "id": "yuqySy5q-xnQ"
      },
      "source": [
        "print(\"Before conversion\")\n",
        "print(y.dtypes)\n",
        "print(y.value_counts())"
      ],
      "execution_count": null,
      "outputs": []
    },
    {
      "cell_type": "code",
      "metadata": {
        "id": "y5VM9e669yiN"
      },
      "source": [
        "# converting target attribute to binary values for better ingestion to scoring metrics \n",
        "\n",
        "y = y.replace(['yes'],1)\n",
        "y = y.replace(['no'],0)\n",
        "print(\"After conversion\")\n",
        "print(y.dtypes)\n",
        "print(y.value_counts())"
      ],
      "execution_count": null,
      "outputs": []
    },
    {
      "cell_type": "markdown",
      "metadata": {
        "id": "6k3bVyIhBoNN"
      },
      "source": [
        "### <a id = \"link12\"></a> Split the data into training and test set in the ratio of 70:30 respectively"
      ]
    },
    {
      "cell_type": "code",
      "metadata": {
        "id": "JFqwloPKQGxu"
      },
      "source": [
        "#importing train test split from sklearn for preraing traing and test dataset for the logistic model\n",
        "\n",
        "from sklearn.model_selection import train_test_split\n",
        "\n",
        "x_train, x_test, y_train, y_test = train_test_split(x, y, test_size=0.30, random_state=7)"
      ],
      "execution_count": null,
      "outputs": []
    },
    {
      "cell_type": "code",
      "metadata": {
        "id": "A11LmqvBXozy"
      },
      "source": [
        "print(\"Distribution of target variable in original data\")\n",
        "print(data['Target'].value_counts(normalize=True))\n",
        "print()\n",
        "print(\"Distribution of target variable in training data\")\n",
        "print(y_train.value_counts(normalize=True))\n",
        "print()\n",
        "print(\"Distribution of target variable in original data\")\n",
        "print(y_test.value_counts(normalize=True))"
      ],
      "execution_count": null,
      "outputs": []
    },
    {
      "cell_type": "markdown",
      "metadata": {
        "id": "6_brlPFVYcEI"
      },
      "source": [
        "**Note**\n",
        "- `The distribution of yes / no values for target attribute is preserved across the training and test data set`"
      ]
    },
    {
      "cell_type": "markdown",
      "metadata": {
        "id": "tv3gb96jZ3TF"
      },
      "source": [
        "## Deliverable –3 (Create the ensemble model)\n",
        "\n"
      ]
    },
    {
      "cell_type": "markdown",
      "metadata": {
        "id": "9ndAvxUGBoNM"
      },
      "source": [
        "#### <a id = \"link11\"></a> Model building using Decision Tree Classifier from sklearn"
      ]
    },
    {
      "cell_type": "code",
      "metadata": {
        "id": "4gnzh20qZ71W"
      },
      "source": [
        "# importing the sklearn packages\n",
        "from sklearn.tree import DecisionTreeClassifier \n",
        "\n",
        "dTree = DecisionTreeClassifier(criterion ='entropy')"
      ],
      "execution_count": null,
      "outputs": []
    },
    {
      "cell_type": "code",
      "metadata": {
        "id": "w03_t8p_bZYM"
      },
      "source": [
        "dTree.fit(x_train, y_train)\n",
        "print(\"Max Depth of Tree \" , dTree.get_depth())\n",
        "print(\"Score on train data \" , dTree.score(x_train, y_train))\n",
        "print(\"Score on test data \" , dTree.score(x_test, y_test))"
      ],
      "execution_count": null,
      "outputs": []
    },
    {
      "cell_type": "code",
      "metadata": {
        "id": "mix3wD0uf71U"
      },
      "source": [
        "dTree_pruned = DecisionTreeClassifier(criterion='entropy' , max_depth=4)\n",
        "dTree_pruned.fit(x_train, y_train)\n",
        "print(\"Max Depth of Tree \" , dTree_pruned.get_depth())\n",
        "print(\"Score on train data \" , dTree_pruned.score(x_train, y_train))\n",
        "print(\"Score on test data \" , dTree_pruned.score(x_test, y_test))"
      ],
      "execution_count": null,
      "outputs": []
    },
    {
      "cell_type": "markdown",
      "metadata": {
        "id": "uzqKml4OBoNP"
      },
      "source": [
        "### <a id = \"link14\"></a> Metrics related to evaluating the model performance (accuracy, recall, precision, f1score, and roc_auc_score)"
      ]
    },
    {
      "cell_type": "code",
      "metadata": {
        "id": "T5pRe3-BiHw2"
      },
      "source": [
        "# importing the scoring metrics from sklearn\n",
        "from sklearn.metrics import recall_score, precision_score, f1_score, roc_auc_score, accuracy_score\n",
        "from IPython.display import display, HTML\n",
        "\n",
        "# function to print all scoring metrics for the model\n",
        "def getScores(model, x_train, y_train, x_test, y_test, pred) :\n",
        "  tempRes = pd.DataFrame(columns = ['Model Type', 'Accuracy', 'Recall', 'Precision', 'F1', 'ROC AUC'])\n",
        "  print(\"Model Type : \", type(model).__name__)\n",
        "  print()\n",
        "  print(\"Training data score Accuracy : \",model.score(x_train, y_train))\n",
        "  print()\n",
        "  print(\"Test data score Accuracy : \",model.score(x_test, y_test))\n",
        "  print()\n",
        "  accuracy = accuracy_score(y_test, pred)\n",
        "  print(\"Accuracy Score : \", accuracy)\n",
        "  print()\n",
        "  recall = recall_score(y_test, pred)\n",
        "  print(\"Recall Score : \", recall)\n",
        "  print()\n",
        "  precision = precision_score(y_test, pred)\n",
        "  print(\"Precision Score : \", precision)\n",
        "  print()\n",
        "  f1 = f1_score(y_test, pred)\n",
        "  print(\"F1 Score : \", f1)\n",
        "  print()\n",
        "  rocauc = roc_auc_score(y_test, pred)\n",
        "  print(\"ROC AUC Score : \", rocauc)\n",
        "  tempRes = tempRes.append({'Model Type' : type(model).__name__, 'Accuracy' : accuracy, \n",
        "                                      'Recall' : recall, 'Precision' : precision, 'F1' : f1, 'ROC AUC' : rocauc},  \n",
        "                ignore_index = True)\n",
        "  return tempRes"
      ],
      "execution_count": null,
      "outputs": []
    },
    {
      "cell_type": "code",
      "metadata": {
        "id": "ytKK9UwHlDl1"
      },
      "source": [
        "modelResults = pd.DataFrame()\n",
        "dTree_pred = dTree_pruned.predict(x_test)\n",
        "tempRes = getScores(dTree_pruned, x_train, y_train, x_test, y_test, dTree_pred)\n",
        "modelResults = pd.concat([modelResults, tempRes])\n",
        "modelResults\n"
      ],
      "execution_count": null,
      "outputs": []
    },
    {
      "cell_type": "markdown",
      "metadata": {
        "id": "HKjgpxH0BoNQ"
      },
      "source": [
        "### <a id = \"link15\"></a> Heatmap to display confusion matrix "
      ]
    },
    {
      "cell_type": "code",
      "metadata": {
        "id": "u_x7U4KuAM4X"
      },
      "source": [
        "from sklearn.metrics import confusion_matrix\n",
        "\n",
        "def confusion_martix1 (y_test, y_predict) :\n",
        "  print(metrics.confusion_matrix(y_test, y_predict, labels=[1, 0]))\n",
        "  cm=metrics.confusion_matrix(y_test, y_predict, labels=[1, 0])\n",
        "  df_cm = pd.DataFrame(cm, index = [i for i in [\"1\",\"0\"]],\n",
        "                  columns = [i for i in [\"Predict 1\",\"Predict 0\"]])\n",
        "  plt.figure(figsize = (7,5))\n",
        "  sns.heatmap(df_cm, annot=True)"
      ],
      "execution_count": null,
      "outputs": []
    },
    {
      "cell_type": "code",
      "metadata": {
        "id": "WUb9941SEXZm"
      },
      "source": [
        "# Constructing the confusion matrix.\n",
        "from sklearn.metrics import confusion_matrix, classification_report\n",
        "\n",
        "def confusion_martix (y_test, y_predict) : \n",
        "  cf_matrix = confusion_matrix(y_test, y_predict)\n",
        "  sns.heatmap(cf_matrix, linewidths=1, annot=True, fmt='g')"
      ],
      "execution_count": null,
      "outputs": []
    },
    {
      "cell_type": "code",
      "metadata": {
        "id": "vo25rYACAi6K"
      },
      "source": [
        "confusion_martix(y_test, dTree_pred)"
      ],
      "execution_count": null,
      "outputs": []
    },
    {
      "cell_type": "markdown",
      "metadata": {
        "id": "QY7JOcREBoNQ"
      },
      "source": [
        "### <a id = \"link16\"></a> Graph to show the ROC Curve"
      ]
    },
    {
      "cell_type": "code",
      "metadata": {
        "id": "sXFCoT7pA1VO"
      },
      "source": [
        "#AUC ROC curve\n",
        "from sklearn.metrics import roc_auc_score\n",
        "from sklearn.metrics import roc_curve\n",
        "\n",
        "def draw_auc_roc_curve (y_test, y_pred, logit_roc_auc) :\n",
        "  fpr, tpr, thresholds = roc_curve(y_test, y_pred)\n",
        "  plt.figure()\n",
        "  plt.plot(fpr, tpr, label='Logistic Regression (area = %0.2f)' % logit_roc_auc)\n",
        "  plt.plot([0, 1], [0, 1],'r--')\n",
        "  plt.xlim([0.0, 1.0])\n",
        "  plt.ylim([0.0, 1.05])\n",
        "  plt.xlabel('False Positive Rate')\n",
        "  plt.ylabel('True Positive Rate')\n",
        "  plt.title('Receiver operating characteristic')\n",
        "  plt.legend(loc=\"lower right\")\n",
        "  plt.savefig('Log_ROC')\n",
        "  plt.show()"
      ],
      "execution_count": null,
      "outputs": []
    },
    {
      "cell_type": "code",
      "metadata": {
        "id": "QTuoTmFdBXH_"
      },
      "source": [
        "draw_auc_roc_curve(y_test, dTree_pred, roc_auc_score(y_test, dTree_pred))"
      ],
      "execution_count": null,
      "outputs": []
    },
    {
      "cell_type": "markdown",
      "metadata": {
        "id": "dfpktXkJBoNS"
      },
      "source": [
        "### <a id = \"link17\"></a> Coefficients of the attrbutes"
      ]
    },
    {
      "cell_type": "code",
      "metadata": {
        "id": "zZ8R149KFDm2"
      },
      "source": [
        "features = [col for col in x_train.columns if col != 'Target']\n",
        "\n",
        "feat_imp_dict = dict(zip(features, dTree_pruned.feature_importances_))\n",
        "feat_imp = pd.DataFrame.from_dict(feat_imp_dict, orient='index')\n",
        "feat_imp.sort_values(by=0, ascending=False)"
      ],
      "execution_count": null,
      "outputs": []
    },
    {
      "cell_type": "markdown",
      "metadata": {
        "id": "-_Gk_r5JI7DJ"
      },
      "source": [
        "Ensemble Method - Random Forest "
      ]
    },
    {
      "cell_type": "code",
      "metadata": {
        "id": "qgF--JCvI3pY"
      },
      "source": [
        "from sklearn.ensemble import RandomForestClassifier \n",
        "\n",
        "dTree_rf = RandomForestClassifier(n_estimators=150 , criterion='gini')"
      ],
      "execution_count": null,
      "outputs": []
    },
    {
      "cell_type": "code",
      "metadata": {
        "id": "CdMAlbhSJbVc"
      },
      "source": [
        "dTree_rf.fit(x_train, y_train)\n",
        "dTree_rf_pred = dTree_rf.predict(x_test)"
      ],
      "execution_count": null,
      "outputs": []
    },
    {
      "cell_type": "code",
      "metadata": {
        "id": "HYtaARyYJq90"
      },
      "source": [
        "tempRes = getScores(dTree_rf, x_train, y_train, x_test, y_test, dTree_rf_pred)\n",
        "modelResults = pd.concat([modelResults, tempRes])\n",
        "print(\"Comparision of all the models\")\n",
        "modelResults"
      ],
      "execution_count": null,
      "outputs": []
    },
    {
      "cell_type": "markdown",
      "metadata": {
        "id": "a6ZUx5EqSonD"
      },
      "source": [
        "Confusion Matrix for Random Forest"
      ]
    },
    {
      "cell_type": "code",
      "metadata": {
        "id": "ffUW1wXDSetz"
      },
      "source": [
        "confusion_martix(y_test, dTree_rf_pred)"
      ],
      "execution_count": null,
      "outputs": []
    },
    {
      "cell_type": "markdown",
      "metadata": {
        "id": "_y1PRJGoSwkH"
      },
      "source": [
        "ROC AUC Curve for Random Forest"
      ]
    },
    {
      "cell_type": "code",
      "metadata": {
        "id": "l0B5RA34S0Qq"
      },
      "source": [
        "from yellowbrick.classifier import ClassificationReport, ROCAUC\n",
        "\n",
        "roc = ROCAUC(RandomForestClassifier(n_estimators = 150))\n",
        "roc.fit(x_train, y_train)\n",
        "roc.score(x_test, y_test)\n",
        "roc"
      ],
      "execution_count": null,
      "outputs": []
    },
    {
      "cell_type": "markdown",
      "metadata": {
        "id": "w6N48KkAU52s"
      },
      "source": [
        "Ensemble Method - Ada Boost "
      ]
    },
    {
      "cell_type": "code",
      "metadata": {
        "id": "LV3ELLMyU-EG"
      },
      "source": [
        "from sklearn.ensemble import AdaBoostClassifier \n",
        "\n",
        "dTree_adaboost = AdaBoostClassifier(n_estimators=150, learning_rate=0.1 , random_state=7)\n",
        "dTree_adaboost.fit(x_train, y_train)"
      ],
      "execution_count": null,
      "outputs": []
    },
    {
      "cell_type": "code",
      "metadata": {
        "id": "xsMpBGGaVr9D"
      },
      "source": [
        "dTree_adaboost_pred = dTree_adaboost.predict(x_test)"
      ],
      "execution_count": null,
      "outputs": []
    },
    {
      "cell_type": "code",
      "metadata": {
        "id": "ttF9BHqDVldD"
      },
      "source": [
        "tempRes = getScores(dTree_adaboost, x_train, y_train, x_test, y_test, dTree_rf_pred)\n",
        "modelResults = pd.concat([modelResults, tempRes])\n",
        "print(\"Comparision of all the models\")\n",
        "modelResults"
      ],
      "execution_count": null,
      "outputs": []
    },
    {
      "cell_type": "markdown",
      "metadata": {
        "id": "RPmeP5G4U5ss"
      },
      "source": [
        ""
      ]
    },
    {
      "cell_type": "markdown",
      "metadata": {
        "id": "FAwWiE_pBoNX"
      },
      "source": [
        "### <a id = \"link18\"></a> Rows where the predicted class is not equal to the observed class"
      ]
    },
    {
      "cell_type": "markdown",
      "metadata": {
        "id": "z6S43ZAQBoNX"
      },
      "source": [
        "## <a id = \"link19\"></a> Conclusion Buisness Insights"
      ]
    },
    {
      "cell_type": "markdown",
      "metadata": {
        "id": "JjoTQA6aBoNY"
      },
      "source": [
        "##### `Confusion matrix means`\n",
        "\n",
        "*True Positive (observed=1,predicted=1):*\n",
        "\n",
        "Predicted that customr will accept the personal loan and the customer accepted the personal loan\n",
        "\n",
        "*False Positive (observed=0,predicted=1):*\n",
        "\n",
        "Predicted that customr will accept the personal loan and the customer did not accepted the personal loan\n",
        "\n",
        "*True Negative (observed=0,predicted=0):*\n",
        "\n",
        "Predicted that customr will not accept the personal loan and the customer did not accepted the personal loan\n",
        "\n",
        "*False Negative (observed=1,predicted=0):*\n",
        "\n",
        "Predicted that customr will not accept the personal loan and the customer accepted the personal loan\n",
        "\n",
        "\n",
        "##### `Important Features`\n",
        "\n",
        "\"Education\" with value \"Undergrad\" , \"CD Account\" , \"Family\" , \"Credit Card\" \n",
        "\n",
        "are the top features which influence the model's output. This is based on the coefficient value.\n",
        "\n",
        "\"Mortgage\" - has coefficients value as 0 so this feature doesn't help model in predicting target variable.\n",
        "\n",
        "\n",
        "##### `Important Metric`\n",
        "\n",
        "The objective here is for the bank to predict potential customers who can accept the personal loan campain. Hence the key metrric would be **less number of False Negative**, since if False Negative is high the bank might loose potential customers who are good candidates for accepting personal loan , loosing significant loan intrest renevenue stream . \n",
        "\n",
        "Hence **Recall is the most important metric**.\n",
        "\n",
        "In case of False Positive the bank might might not have the customers accept the loan , but those customers are very good target audience to make some customized advertisement for personal loan. As model predicts that those customers have higher chances of accepting personal loan.\n",
        "\n",
        "Hence **F1 Score is also an valuable metric**.\n",
        "\n"
      ]
    },
    {
      "cell_type": "code",
      "metadata": {
        "id": "-OoqoChMBoNY"
      },
      "source": [
        ""
      ],
      "execution_count": null,
      "outputs": []
    }
  ]
}