{
  "nbformat": 4,
  "nbformat_minor": 0,
  "metadata": {
    "kernelspec": {
      "display_name": "Python 3",
      "language": "python",
      "name": "python3"
    },
    "language_info": {
      "codemirror_mode": {
        "name": "ipython",
        "version": 3
      },
      "file_extension": ".py",
      "mimetype": "text/x-python",
      "name": "python",
      "nbconvert_exporter": "python",
      "pygments_lexer": "ipython3",
      "version": "3.8.3"
    },
    "colab": {
      "name": "Term Deposit Subscription.ipynb",
      "provenance": [],
      "toc_visible": true,
      "include_colab_link": true
    }
  },
  "cells": [
    {
      "cell_type": "markdown",
      "metadata": {
        "id": "view-in-github",
        "colab_type": "text"
      },
      "source": [
        "<a href=\"https://colab.research.google.com/github/swaroop-raj/machine-learning/blob/main/Term_Deposit_Subscription.ipynb\" target=\"_parent\"><img src=\"https://colab.research.google.com/assets/colab-badge.svg\" alt=\"Open In Colab\"/></a>"
      ]
    },
    {
      "cell_type": "markdown",
      "metadata": {
        "id": "j3HRcFAtBoMd"
      },
      "source": [
        "# Problem statement (Term Deposit Sale)\n",
        "\n",
        "\n",
        "---\n",
        "\n",
        "\n",
        "We have data from a Portuguese bank on details of customers related to selling a term deposit. The objective of the project is to help the marketing team identify potential customers who are relatively more likely to subscribe to the term deposit and this increase the hit ratio.\n",
        "\n",
        "\n",
        "### What is a Term Deposit?\n",
        "A Term deposit is a deposit that a bank or a financial institution offers with a fixed rate (often better than just opening deposit account) in which your money will be returned back at a specific maturity time.\n",
        "\n",
        " \n",
        "\n",
        "### Resources Available\n",
        "\n",
        "The historical data for this project is available in file https://archive.ics.uci.edu/ml/datasets/Bank+Marketing\n",
        "\n",
        " \n",
        "\n",
        "### Deliverable –1 (Exploratory data analysis)–(15)\n",
        "\n",
        "**Univariate analysis (9marks)**\n",
        "* Data types and description of the independent attributes which should include (name,  range of values observed, central values (mean and median), standard deviation and quartiles, skewness). - 3 Marks\n",
        "* Make a function to plot ‘countplot’ if the variable is categorical and ‘distplot’ if the variable is numeric. - 3 Marks\n",
        "* Identify outliers using IQR and verify the same using plots. Also mention the percentage of data points which are considered outliers. Should we treat them, why or why not? - 3 Marks\n",
        "\n",
        "**Multivariate analysis (6marks)**\n",
        "* Make a function to plot boxplots for all continuous variables VS ‘Target’ variable and countplots for all categorical variables VS ‘Target’ variable? - 3 Marks\n",
        "* Bi-variate analysis between predictor variables and target column. Comment on your findings in terms of their relationship and degree of relation if any. Visualize the analysis using pair plots, heatmaps, histograms or density curves. - 3 Marks\n",
        " \n",
        "\n",
        "### Deliverable –2 (Prepare the data for analytics)–(5)\n",
        "\n",
        "* Label encode or create dummy variables for categorical variables. Give reason for selecting either of them. - 2 Marks\n",
        "* Create the training set and test set in a ratio of 70:30. Make sure and verify distribution of classes is the same in the full dataset and train test split data. - 3 Marks\n",
        " \n",
        "\n",
        "### Deliverable –3 (Create the ensemble model)–(30)\n",
        "\n",
        "* Build the ensemble models (Bagging and Boosting) and Decision Tree model (at least 4 models in total). Note the model performance by using different metrics. Use confusion matrix to evaluate class level metrics i.e. Precision/Recall. - 10 Marks\n",
        "* Also reflect the training and testing score of all the models. Build a dataframe with model names as row index and all the metrics calculated as columns - 5 Marks\n",
        "* Explain the confusion matrix related terms like recall, precision etc. Also, select the best metric to choose one of the models from above. Give your reason for the same. - 5 Marks\n",
        "* Answer the following questions : - 10 Marks\n",
        "What do you mean by recall and what information does it provide here?\n",
        "* Suggest some changes for the organization so that they can increase the number of customers who take term deposit.\n",
        "* How much influence does the previous campaign and mode of interaction have on financial performance.\n",
        "* Which features should be more/less focused by the bank to get better results and why?\n",
        "* What did you learn about banking industries from this data?\n",
        " \n",
        "\n",
        "** Note : ** Use random_state=7 (wherever the parameter can be used) so that we can compare all submissions."
      ]
    },
    {
      "cell_type": "markdown",
      "metadata": {
        "id": "2-ZNuUM-CyCU"
      },
      "source": [
        "## Attribute Information\n",
        "\n",
        "1. age\n",
        "2. job : type of job\n",
        "3. marital : marital status\n",
        "4. education\n",
        "5. default: has credit in default?\n",
        "6. housing: has housing loan?\n",
        "7. loan: has personal loan?\n",
        "8. balance in account\n",
        "9. contact: contact communication type\n",
        "10. month: last contact month of year\n",
        "11. day: last contact day of the month\n",
        "12. duration: last contact duration, in seconds\n",
        "13. campaign: number of contacts performed during this campaign and for this client\n",
        "14. pdays: number of days that passed by after the client was last contacted from a previous campaign\n",
        "15. previous: number of contacts performed before this campaign and for this client\n",
        "16. poutcome: outcome of the previous marketing campaign\n",
        "17. Output variable ('Target'): has the client subscribed a term deposit?"
      ]
    },
    {
      "cell_type": "markdown",
      "metadata": {
        "id": "sRXLDJUVBoMl"
      },
      "source": [
        "## `Index`\n",
        "\n",
        "----------------------\n",
        "- <a href = #link1>Import the datasets and libraries, check datatype, statistical summary, shape, null values or incorrect imputation</a>\n",
        "\n",
        "\n",
        "- <a href = #link2>Exploratory Data Analysis</a> \n",
        "\n",
        "    - <a href = #link3>Number of unique in each column?</a> \n",
        "  "
      ]
    },
    {
      "cell_type": "markdown",
      "metadata": {
        "id": "6HCv51pnBoMm"
      },
      "source": [
        "## <a id = \"link1\"></a> Import Libraries and Load Dataset"
      ]
    },
    {
      "cell_type": "code",
      "metadata": {
        "id": "UWpvQiY-BoMm"
      },
      "source": [
        "import warnings\n",
        "warnings.filterwarnings('ignore')"
      ],
      "execution_count": 19,
      "outputs": []
    },
    {
      "cell_type": "code",
      "metadata": {
        "id": "N7imv_cABoMn"
      },
      "source": [
        "import pandas as pd\n",
        "from sklearn.linear_model import LogisticRegression\n",
        "\n",
        "# Importing the libraries for ploting\n",
        "import matplotlib.pyplot as plt\n",
        "# To enable plotting graphs in Jupyter notebook\n",
        "%matplotlib inline\n",
        "\n",
        "#importing seaborn for statistical plots\n",
        "import seaborn as sns\n",
        "\n",
        "#importing train test split from sklearn for preraing traing and test dataset for the logistic model\n",
        "\n",
        "from sklearn.model_selection import train_test_split\n",
        "\n",
        "import numpy as np\n",
        "from scipy import stats\n",
        "\n",
        "# calculate accuracy measures and confusion matrix\n",
        "from sklearn import metrics"
      ],
      "execution_count": 20,
      "outputs": []
    },
    {
      "cell_type": "markdown",
      "metadata": {
        "id": "wGoTJAohBoMn"
      },
      "source": [
        "**Reading the dataset:**"
      ]
    },
    {
      "cell_type": "code",
      "metadata": {
        "scrolled": true,
        "id": "2bquBVLtBoMo"
      },
      "source": [
        "data = pd.read_csv('/content/bank-full.csv');"
      ],
      "execution_count": 21,
      "outputs": []
    },
    {
      "cell_type": "markdown",
      "metadata": {
        "id": "TPunr664ny6W"
      },
      "source": [
        "## <a id = \"link2\"></a> Deliverable –1 (Exploratory data analysis)"
      ]
    },
    {
      "cell_type": "code",
      "metadata": {
        "colab": {
          "base_uri": "https://localhost:8080/",
          "height": 224
        },
        "id": "hpsmdvbPD8Lm",
        "outputId": "d04e76e9-62ed-4e01-ca13-8856561ba756"
      },
      "source": [
        "data.head()"
      ],
      "execution_count": 22,
      "outputs": [
        {
          "output_type": "execute_result",
          "data": {
            "text/html": [
              "<div>\n",
              "<style scoped>\n",
              "    .dataframe tbody tr th:only-of-type {\n",
              "        vertical-align: middle;\n",
              "    }\n",
              "\n",
              "    .dataframe tbody tr th {\n",
              "        vertical-align: top;\n",
              "    }\n",
              "\n",
              "    .dataframe thead th {\n",
              "        text-align: right;\n",
              "    }\n",
              "</style>\n",
              "<table border=\"1\" class=\"dataframe\">\n",
              "  <thead>\n",
              "    <tr style=\"text-align: right;\">\n",
              "      <th></th>\n",
              "      <th>age</th>\n",
              "      <th>job</th>\n",
              "      <th>marital</th>\n",
              "      <th>education</th>\n",
              "      <th>default</th>\n",
              "      <th>balance</th>\n",
              "      <th>housing</th>\n",
              "      <th>loan</th>\n",
              "      <th>contact</th>\n",
              "      <th>day</th>\n",
              "      <th>month</th>\n",
              "      <th>duration</th>\n",
              "      <th>campaign</th>\n",
              "      <th>pdays</th>\n",
              "      <th>previous</th>\n",
              "      <th>poutcome</th>\n",
              "      <th>Target</th>\n",
              "    </tr>\n",
              "  </thead>\n",
              "  <tbody>\n",
              "    <tr>\n",
              "      <th>0</th>\n",
              "      <td>58</td>\n",
              "      <td>management</td>\n",
              "      <td>married</td>\n",
              "      <td>tertiary</td>\n",
              "      <td>no</td>\n",
              "      <td>2143</td>\n",
              "      <td>yes</td>\n",
              "      <td>no</td>\n",
              "      <td>unknown</td>\n",
              "      <td>5</td>\n",
              "      <td>may</td>\n",
              "      <td>261</td>\n",
              "      <td>1</td>\n",
              "      <td>-1</td>\n",
              "      <td>0</td>\n",
              "      <td>unknown</td>\n",
              "      <td>no</td>\n",
              "    </tr>\n",
              "    <tr>\n",
              "      <th>1</th>\n",
              "      <td>44</td>\n",
              "      <td>technician</td>\n",
              "      <td>single</td>\n",
              "      <td>secondary</td>\n",
              "      <td>no</td>\n",
              "      <td>29</td>\n",
              "      <td>yes</td>\n",
              "      <td>no</td>\n",
              "      <td>unknown</td>\n",
              "      <td>5</td>\n",
              "      <td>may</td>\n",
              "      <td>151</td>\n",
              "      <td>1</td>\n",
              "      <td>-1</td>\n",
              "      <td>0</td>\n",
              "      <td>unknown</td>\n",
              "      <td>no</td>\n",
              "    </tr>\n",
              "    <tr>\n",
              "      <th>2</th>\n",
              "      <td>33</td>\n",
              "      <td>entrepreneur</td>\n",
              "      <td>married</td>\n",
              "      <td>secondary</td>\n",
              "      <td>no</td>\n",
              "      <td>2</td>\n",
              "      <td>yes</td>\n",
              "      <td>yes</td>\n",
              "      <td>unknown</td>\n",
              "      <td>5</td>\n",
              "      <td>may</td>\n",
              "      <td>76</td>\n",
              "      <td>1</td>\n",
              "      <td>-1</td>\n",
              "      <td>0</td>\n",
              "      <td>unknown</td>\n",
              "      <td>no</td>\n",
              "    </tr>\n",
              "    <tr>\n",
              "      <th>3</th>\n",
              "      <td>47</td>\n",
              "      <td>blue-collar</td>\n",
              "      <td>married</td>\n",
              "      <td>unknown</td>\n",
              "      <td>no</td>\n",
              "      <td>1506</td>\n",
              "      <td>yes</td>\n",
              "      <td>no</td>\n",
              "      <td>unknown</td>\n",
              "      <td>5</td>\n",
              "      <td>may</td>\n",
              "      <td>92</td>\n",
              "      <td>1</td>\n",
              "      <td>-1</td>\n",
              "      <td>0</td>\n",
              "      <td>unknown</td>\n",
              "      <td>no</td>\n",
              "    </tr>\n",
              "    <tr>\n",
              "      <th>4</th>\n",
              "      <td>33</td>\n",
              "      <td>unknown</td>\n",
              "      <td>single</td>\n",
              "      <td>unknown</td>\n",
              "      <td>no</td>\n",
              "      <td>1</td>\n",
              "      <td>no</td>\n",
              "      <td>no</td>\n",
              "      <td>unknown</td>\n",
              "      <td>5</td>\n",
              "      <td>may</td>\n",
              "      <td>198</td>\n",
              "      <td>1</td>\n",
              "      <td>-1</td>\n",
              "      <td>0</td>\n",
              "      <td>unknown</td>\n",
              "      <td>no</td>\n",
              "    </tr>\n",
              "  </tbody>\n",
              "</table>\n",
              "</div>"
            ],
            "text/plain": [
              "   age           job  marital  education  ... pdays  previous poutcome Target\n",
              "0   58    management  married   tertiary  ...    -1         0  unknown     no\n",
              "1   44    technician   single  secondary  ...    -1         0  unknown     no\n",
              "2   33  entrepreneur  married  secondary  ...    -1         0  unknown     no\n",
              "3   47   blue-collar  married    unknown  ...    -1         0  unknown     no\n",
              "4   33       unknown   single    unknown  ...    -1         0  unknown     no\n",
              "\n",
              "[5 rows x 17 columns]"
            ]
          },
          "metadata": {
            "tags": []
          },
          "execution_count": 22
        }
      ]
    },
    {
      "cell_type": "code",
      "metadata": {
        "colab": {
          "base_uri": "https://localhost:8080/",
          "height": 224
        },
        "id": "cgdHM_dCokFJ",
        "outputId": "886279f5-5b95-4cd4-cc71-418e83729b99"
      },
      "source": [
        "data.tail()"
      ],
      "execution_count": 24,
      "outputs": [
        {
          "output_type": "execute_result",
          "data": {
            "text/html": [
              "<div>\n",
              "<style scoped>\n",
              "    .dataframe tbody tr th:only-of-type {\n",
              "        vertical-align: middle;\n",
              "    }\n",
              "\n",
              "    .dataframe tbody tr th {\n",
              "        vertical-align: top;\n",
              "    }\n",
              "\n",
              "    .dataframe thead th {\n",
              "        text-align: right;\n",
              "    }\n",
              "</style>\n",
              "<table border=\"1\" class=\"dataframe\">\n",
              "  <thead>\n",
              "    <tr style=\"text-align: right;\">\n",
              "      <th></th>\n",
              "      <th>age</th>\n",
              "      <th>job</th>\n",
              "      <th>marital</th>\n",
              "      <th>education</th>\n",
              "      <th>default</th>\n",
              "      <th>balance</th>\n",
              "      <th>housing</th>\n",
              "      <th>loan</th>\n",
              "      <th>contact</th>\n",
              "      <th>day</th>\n",
              "      <th>month</th>\n",
              "      <th>duration</th>\n",
              "      <th>campaign</th>\n",
              "      <th>pdays</th>\n",
              "      <th>previous</th>\n",
              "      <th>poutcome</th>\n",
              "      <th>Target</th>\n",
              "    </tr>\n",
              "  </thead>\n",
              "  <tbody>\n",
              "    <tr>\n",
              "      <th>45206</th>\n",
              "      <td>51</td>\n",
              "      <td>technician</td>\n",
              "      <td>married</td>\n",
              "      <td>tertiary</td>\n",
              "      <td>no</td>\n",
              "      <td>825</td>\n",
              "      <td>no</td>\n",
              "      <td>no</td>\n",
              "      <td>cellular</td>\n",
              "      <td>17</td>\n",
              "      <td>nov</td>\n",
              "      <td>977</td>\n",
              "      <td>3</td>\n",
              "      <td>-1</td>\n",
              "      <td>0</td>\n",
              "      <td>unknown</td>\n",
              "      <td>yes</td>\n",
              "    </tr>\n",
              "    <tr>\n",
              "      <th>45207</th>\n",
              "      <td>71</td>\n",
              "      <td>retired</td>\n",
              "      <td>divorced</td>\n",
              "      <td>primary</td>\n",
              "      <td>no</td>\n",
              "      <td>1729</td>\n",
              "      <td>no</td>\n",
              "      <td>no</td>\n",
              "      <td>cellular</td>\n",
              "      <td>17</td>\n",
              "      <td>nov</td>\n",
              "      <td>456</td>\n",
              "      <td>2</td>\n",
              "      <td>-1</td>\n",
              "      <td>0</td>\n",
              "      <td>unknown</td>\n",
              "      <td>yes</td>\n",
              "    </tr>\n",
              "    <tr>\n",
              "      <th>45208</th>\n",
              "      <td>72</td>\n",
              "      <td>retired</td>\n",
              "      <td>married</td>\n",
              "      <td>secondary</td>\n",
              "      <td>no</td>\n",
              "      <td>5715</td>\n",
              "      <td>no</td>\n",
              "      <td>no</td>\n",
              "      <td>cellular</td>\n",
              "      <td>17</td>\n",
              "      <td>nov</td>\n",
              "      <td>1127</td>\n",
              "      <td>5</td>\n",
              "      <td>184</td>\n",
              "      <td>3</td>\n",
              "      <td>success</td>\n",
              "      <td>yes</td>\n",
              "    </tr>\n",
              "    <tr>\n",
              "      <th>45209</th>\n",
              "      <td>57</td>\n",
              "      <td>blue-collar</td>\n",
              "      <td>married</td>\n",
              "      <td>secondary</td>\n",
              "      <td>no</td>\n",
              "      <td>668</td>\n",
              "      <td>no</td>\n",
              "      <td>no</td>\n",
              "      <td>telephone</td>\n",
              "      <td>17</td>\n",
              "      <td>nov</td>\n",
              "      <td>508</td>\n",
              "      <td>4</td>\n",
              "      <td>-1</td>\n",
              "      <td>0</td>\n",
              "      <td>unknown</td>\n",
              "      <td>no</td>\n",
              "    </tr>\n",
              "    <tr>\n",
              "      <th>45210</th>\n",
              "      <td>37</td>\n",
              "      <td>entrepreneur</td>\n",
              "      <td>married</td>\n",
              "      <td>secondary</td>\n",
              "      <td>no</td>\n",
              "      <td>2971</td>\n",
              "      <td>no</td>\n",
              "      <td>no</td>\n",
              "      <td>cellular</td>\n",
              "      <td>17</td>\n",
              "      <td>nov</td>\n",
              "      <td>361</td>\n",
              "      <td>2</td>\n",
              "      <td>188</td>\n",
              "      <td>11</td>\n",
              "      <td>other</td>\n",
              "      <td>no</td>\n",
              "    </tr>\n",
              "  </tbody>\n",
              "</table>\n",
              "</div>"
            ],
            "text/plain": [
              "       age           job   marital  education  ... pdays  previous poutcome Target\n",
              "45206   51    technician   married   tertiary  ...    -1         0  unknown    yes\n",
              "45207   71       retired  divorced    primary  ...    -1         0  unknown    yes\n",
              "45208   72       retired   married  secondary  ...   184         3  success    yes\n",
              "45209   57   blue-collar   married  secondary  ...    -1         0  unknown     no\n",
              "45210   37  entrepreneur   married  secondary  ...   188        11    other     no\n",
              "\n",
              "[5 rows x 17 columns]"
            ]
          },
          "metadata": {
            "tags": []
          },
          "execution_count": 24
        }
      ]
    },
    {
      "cell_type": "code",
      "metadata": {
        "colab": {
          "base_uri": "https://localhost:8080/"
        },
        "id": "qXvsPD9dBoMw",
        "outputId": "749c99ce-67b0-4457-ab94-9352d524058d"
      },
      "source": [
        "data.shape"
      ],
      "execution_count": 23,
      "outputs": [
        {
          "output_type": "execute_result",
          "data": {
            "text/plain": [
              "(45211, 17)"
            ]
          },
          "metadata": {
            "tags": []
          },
          "execution_count": 23
        }
      ]
    },
    {
      "cell_type": "code",
      "metadata": {
        "colab": {
          "base_uri": "https://localhost:8080/"
        },
        "id": "lGvmGtCwpb8E",
        "outputId": "eb3f4572-a5fb-4bbc-cd07-6f1f709bb13e"
      },
      "source": [
        "data.nunique()"
      ],
      "execution_count": 26,
      "outputs": [
        {
          "output_type": "execute_result",
          "data": {
            "text/plain": [
              "age            77\n",
              "job            12\n",
              "marital         3\n",
              "education       4\n",
              "default         2\n",
              "balance      7168\n",
              "housing         2\n",
              "loan            2\n",
              "contact         3\n",
              "day            31\n",
              "month          12\n",
              "duration     1573\n",
              "campaign       48\n",
              "pdays         559\n",
              "previous       41\n",
              "poutcome        4\n",
              "Target          2\n",
              "dtype: int64"
            ]
          },
          "metadata": {
            "tags": []
          },
          "execution_count": 26
        }
      ]
    },
    {
      "cell_type": "markdown",
      "metadata": {
        "id": "dmxxZ-LzBoMz"
      },
      "source": [
        "**Null checks the dataset:**"
      ]
    },
    {
      "cell_type": "code",
      "metadata": {
        "colab": {
          "base_uri": "https://localhost:8080/"
        },
        "id": "MQKoGFqSBoM0",
        "outputId": "6cf062ae-8f27-4319-8e6b-9563f5cb133c"
      },
      "source": [
        "data.info()"
      ],
      "execution_count": 27,
      "outputs": [
        {
          "output_type": "stream",
          "text": [
            "<class 'pandas.core.frame.DataFrame'>\n",
            "RangeIndex: 45211 entries, 0 to 45210\n",
            "Data columns (total 17 columns):\n",
            " #   Column     Non-Null Count  Dtype \n",
            "---  ------     --------------  ----- \n",
            " 0   age        45211 non-null  int64 \n",
            " 1   job        45211 non-null  object\n",
            " 2   marital    45211 non-null  object\n",
            " 3   education  45211 non-null  object\n",
            " 4   default    45211 non-null  object\n",
            " 5   balance    45211 non-null  int64 \n",
            " 6   housing    45211 non-null  object\n",
            " 7   loan       45211 non-null  object\n",
            " 8   contact    45211 non-null  object\n",
            " 9   day        45211 non-null  int64 \n",
            " 10  month      45211 non-null  object\n",
            " 11  duration   45211 non-null  int64 \n",
            " 12  campaign   45211 non-null  int64 \n",
            " 13  pdays      45211 non-null  int64 \n",
            " 14  previous   45211 non-null  int64 \n",
            " 15  poutcome   45211 non-null  object\n",
            " 16  Target     45211 non-null  object\n",
            "dtypes: int64(7), object(10)\n",
            "memory usage: 5.9+ MB\n"
          ],
          "name": "stdout"
        }
      ]
    },
    {
      "cell_type": "code",
      "metadata": {
        "colab": {
          "base_uri": "https://localhost:8080/"
        },
        "id": "HWOs6AB6BoM1",
        "outputId": "a07e81ae-134b-4a22-d6b1-3c3ac69fd3ad"
      },
      "source": [
        "print(data['contact'].value_counts())\n",
        "print()\n",
        "print(data['marital'].value_counts())\n",
        "print()\n",
        "print(data['education'].value_counts())\n",
        "print()\n",
        "print(data['month'].value_counts())\n",
        "print()\n",
        "print(data['poutcome'].value_counts())"
      ],
      "execution_count": 44,
      "outputs": [
        {
          "output_type": "stream",
          "text": [
            "cellular     29285\n",
            "unknown      13020\n",
            "telephone     2906\n",
            "Name: contact, dtype: int64\n",
            "\n",
            "married     27214\n",
            "single      12790\n",
            "divorced     5207\n",
            "Name: marital, dtype: int64\n",
            "\n",
            "secondary    23202\n",
            "tertiary     13301\n",
            "primary       6851\n",
            "unknown       1857\n",
            "Name: education, dtype: int64\n",
            "\n",
            "may    13766\n",
            "jul     6895\n",
            "aug     6247\n",
            "jun     5341\n",
            "nov     3970\n",
            "apr     2932\n",
            "feb     2649\n",
            "jan     1403\n",
            "oct      738\n",
            "sep      579\n",
            "mar      477\n",
            "dec      214\n",
            "Name: month, dtype: int64\n",
            "\n",
            "unknown    36959\n",
            "failure     4901\n",
            "other       1840\n",
            "success     1511\n",
            "Name: poutcome, dtype: int64\n"
          ],
          "name": "stdout"
        }
      ]
    },
    {
      "cell_type": "markdown",
      "metadata": {
        "id": "eMWMyTbmBoM1"
      },
      "source": [
        " **Insights:**\n",
        "- `For many customers there is unknown contact communication channel. These could be door to door or mail communication. We shall re-define these to two categories \"phone\" and \"others\" .`\n",
        "- `Q2 has the most amount of contacts to customers , May being the busiest month for the campaining team`\n",
        "- `Previous Outcome (poutcome) has many other and unknown values.We shall investigate more on data and see if we can categorize these values to success ot failure based on data.`"
      ]
    },
    {
      "cell_type": "markdown",
      "metadata": {
        "id": "ZHYMiO3LBoM1"
      },
      "source": [
        "**Stastical description of the dataset:**"
      ]
    },
    {
      "cell_type": "code",
      "metadata": {
        "id": "j7e6UBBOBoM2"
      },
      "source": [
        ""
      ],
      "execution_count": 22,
      "outputs": []
    },
    {
      "cell_type": "markdown",
      "metadata": {
        "id": "uAvoGQKRBoM2"
      },
      "source": [
        "## <a id = \"link2\"></a> Exploratory Data Analysis"
      ]
    },
    {
      "cell_type": "markdown",
      "metadata": {
        "id": "56NL-fo8BoM3"
      },
      "source": [
        "### <a id = \"link3\"></a> Number of unique in each column?"
      ]
    },
    {
      "cell_type": "markdown",
      "metadata": {
        "id": "aavkmhzdBoNB"
      },
      "source": [
        "### <a id = \"link8\"></a> Univariate Analysis"
      ]
    },
    {
      "cell_type": "markdown",
      "metadata": {
        "id": "v2zHQ8vHBoNC"
      },
      "source": [
        "### <a id = \"link10\"></a> Bivariate Analysis"
      ]
    },
    {
      "cell_type": "markdown",
      "metadata": {
        "id": "13xRaECKBoNG"
      },
      "source": [
        "**Insights:**\n",
        "- `Income, CCAvg and Mortgage values are higher for people who have taken loan `"
      ]
    },
    {
      "cell_type": "markdown",
      "metadata": {
        "id": "9ndAvxUGBoNM"
      },
      "source": [
        "## <a id = \"link11\"></a> Model building using Logistic Regression from Sklearn "
      ]
    },
    {
      "cell_type": "markdown",
      "metadata": {
        "id": "6k3bVyIhBoNN"
      },
      "source": [
        "### <a id = \"link12\"></a> Split the data into training and test set in the ratio of 70:30 respectively"
      ]
    },
    {
      "cell_type": "markdown",
      "metadata": {
        "id": "uzqKml4OBoNP"
      },
      "source": [
        "### <a id = \"link14\"></a> Metrics related to evaluating the model performance (accuracy, recall, precision, f1score, and roc_auc_score)"
      ]
    },
    {
      "cell_type": "markdown",
      "metadata": {
        "id": "HKjgpxH0BoNQ"
      },
      "source": [
        "### <a id = \"link15\"></a> Heatmap to display confusion matrix "
      ]
    },
    {
      "cell_type": "markdown",
      "metadata": {
        "id": "QY7JOcREBoNQ"
      },
      "source": [
        "### <a id = \"link16\"></a> Graph to show the ROC Curve"
      ]
    },
    {
      "cell_type": "markdown",
      "metadata": {
        "id": "dfpktXkJBoNS"
      },
      "source": [
        "### <a id = \"link17\"></a> Coefficients of the attrbutes"
      ]
    },
    {
      "cell_type": "markdown",
      "metadata": {
        "id": "FAwWiE_pBoNX"
      },
      "source": [
        "### <a id = \"link18\"></a> Rows where the predicted class is not equal to the observed class"
      ]
    },
    {
      "cell_type": "markdown",
      "metadata": {
        "id": "z6S43ZAQBoNX"
      },
      "source": [
        "## <a id = \"link19\"></a> Conclusion Buisness Insights"
      ]
    },
    {
      "cell_type": "markdown",
      "metadata": {
        "id": "JjoTQA6aBoNY"
      },
      "source": [
        "##### `Confusion matrix means`\n",
        "\n",
        "*True Positive (observed=1,predicted=1):*\n",
        "\n",
        "Predicted that customr will accept the personal loan and the customer accepted the personal loan\n",
        "\n",
        "*False Positive (observed=0,predicted=1):*\n",
        "\n",
        "Predicted that customr will accept the personal loan and the customer did not accepted the personal loan\n",
        "\n",
        "*True Negative (observed=0,predicted=0):*\n",
        "\n",
        "Predicted that customr will not accept the personal loan and the customer did not accepted the personal loan\n",
        "\n",
        "*False Negative (observed=1,predicted=0):*\n",
        "\n",
        "Predicted that customr will not accept the personal loan and the customer accepted the personal loan\n",
        "\n",
        "\n",
        "##### `Important Features`\n",
        "\n",
        "\"Education\" with value \"Undergrad\" , \"CD Account\" , \"Family\" , \"Credit Card\" \n",
        "\n",
        "are the top features which influence the model's output. This is based on the coefficient value.\n",
        "\n",
        "\"Mortgage\" - has coefficients value as 0 so this feature doesn't help model in predicting target variable.\n",
        "\n",
        "\n",
        "##### `Important Metric`\n",
        "\n",
        "The objective here is for the bank to predict potential customers who can accept the personal loan campain. Hence the key metrric would be **less number of False Negative**, since if False Negative is high the bank might loose potential customers who are good candidates for accepting personal loan , loosing significant loan intrest renevenue stream . \n",
        "\n",
        "Hence **Recall is the most important metric**.\n",
        "\n",
        "In case of False Positive the bank might might not have the customers accept the loan , but those customers are very good target audience to make some customized advertisement for personal loan. As model predicts that those customers have higher chances of accepting personal loan.\n",
        "\n",
        "Hence **F1 Score is also an valuable metric**.\n",
        "\n"
      ]
    },
    {
      "cell_type": "code",
      "metadata": {
        "id": "-OoqoChMBoNY"
      },
      "source": [
        ""
      ],
      "execution_count": 22,
      "outputs": []
    }
  ]
}