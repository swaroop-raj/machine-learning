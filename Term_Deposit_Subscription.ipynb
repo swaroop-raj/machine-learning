{
  "nbformat": 4,
  "nbformat_minor": 0,
  "metadata": {
    "kernelspec": {
      "display_name": "Python 3",
      "language": "python",
      "name": "python3"
    },
    "language_info": {
      "codemirror_mode": {
        "name": "ipython",
        "version": 3
      },
      "file_extension": ".py",
      "mimetype": "text/x-python",
      "name": "python",
      "nbconvert_exporter": "python",
      "pygments_lexer": "ipython3",
      "version": "3.8.3"
    },
    "colab": {
      "name": "Term Deposit Subscription.ipynb",
      "provenance": [],
      "toc_visible": true,
      "include_colab_link": true
    }
  },
  "cells": [
    {
      "cell_type": "markdown",
      "metadata": {
        "id": "view-in-github",
        "colab_type": "text"
      },
      "source": [
        "<a href=\"https://colab.research.google.com/github/swaroop-raj/machine-learning/blob/main/Term_Deposit_Subscription.ipynb\" target=\"_parent\"><img src=\"https://colab.research.google.com/assets/colab-badge.svg\" alt=\"Open In Colab\"/></a>"
      ]
    },
    {
      "cell_type": "markdown",
      "metadata": {
        "id": "j3HRcFAtBoMd"
      },
      "source": [
        "# Problem statement (Term Deposit Sale)\n",
        "\n",
        "We have data from a Portuguese bank on details of customers related to selling a term deposit. The objective of the project is to help the marketing team identify potential customers who are relatively more likely to subscribe to the term deposit and this increase the hit ratio.\n",
        "\n",
        "\n",
        "### What is a Term Deposit?\n",
        "A Term deposit is a deposit that a bank or a financial institution offers with a fixed rate (often better than just opening deposit account) in which your money will be returned back at a specific maturity time.\n",
        "\n",
        " \n",
        "\n",
        "### Resources Available\n",
        "\n",
        "The historical data for this project is available in file https://archive.ics.uci.edu/ml/datasets/Bank+Marketing\n",
        "\n",
        " \n",
        "\n",
        "### Deliverable –1 (Exploratory data analysis)–(15)\n",
        "\n",
        "** Univariate analysis (9marks) **\n",
        "Data types and description of the independent attributes which should include (name,  range of values observed, central values (mean and median), standard deviation and quartiles, skewness). - 3 Marks\n",
        "Make a function to plot ‘countplot’ if the variable is categorical and ‘distplot’ if the variable is numeric. - 3 Marks\n",
        "Identify outliers using IQR and verify the same using plots. Also mention the percentage of data points which are considered outliers. Should we treat them, why or why not? - 3 Marks\n",
        "\n",
        "** Multivariate analysis (6marks) **\n",
        "Make a function to plot boxplots for all continuous variables VS ‘Target’ variable and countplots for all categorical variables VS ‘Target’ variable? - 3 Marks\n",
        "Bi-variate analysis between predictor variables and target column. Comment on your findings in terms of their relationship and degree of relation if any. Visualize the analysis using pair plots, heatmaps, histograms or density curves. - 3 Marks\n",
        " \n",
        "\n",
        "### Deliverable –2 (Prepare the data for analytics)–(5)\n",
        "\n",
        "Label encode or create dummy variables for categorical variables. Give reason for selecting either of them. - 2 Marks\n",
        "Create the training set and test set in a ratio of 70:30. Make sure and verify distribution of classes is the same in the full dataset and train test split data. - 3 Marks\n",
        " \n",
        "\n",
        "### Deliverable –3 (Create the ensemble model)–(30)\n",
        "\n",
        "Build the ensemble models (Bagging and Boosting) and Decision Tree model (at least 4 models in total). Note the model performance by using different metrics. Use confusion matrix to evaluate class level metrics i.e. Precision/Recall. - 10 Marks\n",
        "Also reflect the training and testing score of all the models. Build a dataframe with model names as row index and all the metrics calculated as columns - 5 Marks\n",
        "Explain the confusion matrix related terms like recall, precision etc. Also, select the best metric to choose one of the models from above. Give your reason for the same. - 5 Marks\n",
        "Answer the following questions : - 10 Marks\n",
        "What do you mean by recall and what information does it provide here?\n",
        "Suggest some changes for the organization so that they can increase the number of customers who take term deposit.\n",
        "How much influence does the previous campaign and mode of interaction have on financial performance.\n",
        "Which features should be more/less focused by the bank to get better results and why?\n",
        "What did you learn about banking industries from this data?\n",
        " \n",
        "\n",
        "** Note : ** Use random_state=7 (wherever the parameter can be used) so that we can compare all submissions."
      ]
    },
    {
      "cell_type": "markdown",
      "metadata": {
        "id": "2-ZNuUM-CyCU"
      },
      "source": [
        "## Attribute Information\n",
        "\n",
        "1. age\n",
        "2. job : type of job\n",
        "3. marital : marital status\n",
        "4. education\n",
        "5. default: has credit in default?\n",
        "6. housing: has housing loan?\n",
        "7. loan: has personal loan?\n",
        "8. balance in account\n",
        "9. contact: contact communication type\n",
        "10. month: last contact month of year\n",
        "11. day: last contact day of the month\n",
        "12. duration: last contact duration, in seconds\n",
        "13. campaign: number of contacts performed during this campaign and for this client\n",
        "14. pdays: number of days that passed by after the client was last contacted from a previous campaign\n",
        "15. previous: number of contacts performed before this campaign and for this client\n",
        "16. poutcome: outcome of the previous marketing campaign\n",
        "17. Output variable ('Target'): has the client subscribed a term deposit?"
      ]
    },
    {
      "cell_type": "markdown",
      "metadata": {
        "id": "sRXLDJUVBoMl"
      },
      "source": [
        "## `Index`\n",
        "\n",
        "----------------------\n",
        "- <a href = #link1>Import the datasets and libraries, check datatype, statistical summary, shape, null values or incorrect imputation</a>\n",
        "\n",
        "\n",
        "- <a href = #link2>Exploratory Data Analysis</a> \n",
        "\n",
        "    - <a href = #link3>Number of unique in each column?</a> \n",
        "    - <a href = #link4>Number of people with zero mortgage?</a> \n",
        "    - <a href = #link5>Number of people with zero credit card spending per month?</a> \n",
        "    - <a href = #link6>Value counts of all categorical columns.</a> \n",
        "    - <a href = #link7>Getting Data Model ready</a> \n",
        "    - <a href = #link8>Univariate Analysis</a> \n",
        "    - <a href = #link10>Bivariate Analysis</a> \n",
        "\n",
        "- <a href = #link11>Model building using Logistic Regression from Sklearn</a>\n",
        "\n",
        "    - <a href = #link12>Split the data into training and test set in the ratio of 70:30 respectively</a> \n",
        "\n",
        "\n",
        "- <a href = #link13>Use the Logistic Regression model to predict whether the customer will take a personal loan or not.</a> \n",
        "\n",
        "- <a href = #link14>Metrics related to evaluating the model performance (accuracy, recall, precision, f1score, and roc_auc_score)</a> \n",
        "\n",
        "- <a href = #link15>Heatmap to display confusion matrix</a> \n",
        "\n",
        "- <a href = #link16>Graph to show the ROC Curve</a>\n",
        "\n",
        "- <a href = #link17>Coefficients of the attrbutes</a>\n",
        "\n",
        "- <a href = #link18>Rows where the predicted class is not equal to the observed class</a>\n",
        "\n",
        "- <a href = #link19>Conclusion Buisness Insights</a>"
      ]
    },
    {
      "cell_type": "markdown",
      "metadata": {
        "id": "6HCv51pnBoMm"
      },
      "source": [
        "## <a id = \"link1\"></a> Import Libraries and Load Dataset"
      ]
    },
    {
      "cell_type": "code",
      "metadata": {
        "id": "UWpvQiY-BoMm"
      },
      "source": [
        "import warnings\n",
        "warnings.filterwarnings('ignore')"
      ],
      "execution_count": 3,
      "outputs": []
    },
    {
      "cell_type": "code",
      "metadata": {
        "id": "N7imv_cABoMn"
      },
      "source": [
        "import pandas as pd\n",
        "from sklearn.linear_model import LogisticRegression\n",
        "\n",
        "# Importing the libraries for ploting\n",
        "import matplotlib.pyplot as plt\n",
        "# To enable plotting graphs in Jupyter notebook\n",
        "%matplotlib inline\n",
        "\n",
        "#importing seaborn for statistical plots\n",
        "import seaborn as sns\n",
        "\n",
        "#importing train test split from sklearn for preraing traing and test dataset for the logistic model\n",
        "\n",
        "from sklearn.model_selection import train_test_split\n",
        "\n",
        "import numpy as np\n",
        "from scipy import stats\n",
        "\n",
        "# calculate accuracy measures and confusion matrix\n",
        "from sklearn import metrics"
      ],
      "execution_count": 2,
      "outputs": []
    },
    {
      "cell_type": "markdown",
      "metadata": {
        "id": "wGoTJAohBoMn"
      },
      "source": [
        "**Reading the dataset:**"
      ]
    },
    {
      "cell_type": "code",
      "metadata": {
        "scrolled": true,
        "colab": {
          "base_uri": "https://localhost:8080/",
          "height": 224
        },
        "id": "2bquBVLtBoMo",
        "outputId": "5195762a-2119-416c-dd9e-06125365c66b"
      },
      "source": [
        "df = pd.read_csv('/content/bank-full.csv')\n",
        "df.head()"
      ],
      "execution_count": 4,
      "outputs": [
        {
          "output_type": "execute_result",
          "data": {
            "text/html": [
              "<div>\n",
              "<style scoped>\n",
              "    .dataframe tbody tr th:only-of-type {\n",
              "        vertical-align: middle;\n",
              "    }\n",
              "\n",
              "    .dataframe tbody tr th {\n",
              "        vertical-align: top;\n",
              "    }\n",
              "\n",
              "    .dataframe thead th {\n",
              "        text-align: right;\n",
              "    }\n",
              "</style>\n",
              "<table border=\"1\" class=\"dataframe\">\n",
              "  <thead>\n",
              "    <tr style=\"text-align: right;\">\n",
              "      <th></th>\n",
              "      <th>age</th>\n",
              "      <th>job</th>\n",
              "      <th>marital</th>\n",
              "      <th>education</th>\n",
              "      <th>default</th>\n",
              "      <th>balance</th>\n",
              "      <th>housing</th>\n",
              "      <th>loan</th>\n",
              "      <th>contact</th>\n",
              "      <th>day</th>\n",
              "      <th>month</th>\n",
              "      <th>duration</th>\n",
              "      <th>campaign</th>\n",
              "      <th>pdays</th>\n",
              "      <th>previous</th>\n",
              "      <th>poutcome</th>\n",
              "      <th>Target</th>\n",
              "    </tr>\n",
              "  </thead>\n",
              "  <tbody>\n",
              "    <tr>\n",
              "      <th>0</th>\n",
              "      <td>58</td>\n",
              "      <td>management</td>\n",
              "      <td>married</td>\n",
              "      <td>tertiary</td>\n",
              "      <td>no</td>\n",
              "      <td>2143</td>\n",
              "      <td>yes</td>\n",
              "      <td>no</td>\n",
              "      <td>unknown</td>\n",
              "      <td>5</td>\n",
              "      <td>may</td>\n",
              "      <td>261</td>\n",
              "      <td>1</td>\n",
              "      <td>-1</td>\n",
              "      <td>0</td>\n",
              "      <td>unknown</td>\n",
              "      <td>no</td>\n",
              "    </tr>\n",
              "    <tr>\n",
              "      <th>1</th>\n",
              "      <td>44</td>\n",
              "      <td>technician</td>\n",
              "      <td>single</td>\n",
              "      <td>secondary</td>\n",
              "      <td>no</td>\n",
              "      <td>29</td>\n",
              "      <td>yes</td>\n",
              "      <td>no</td>\n",
              "      <td>unknown</td>\n",
              "      <td>5</td>\n",
              "      <td>may</td>\n",
              "      <td>151</td>\n",
              "      <td>1</td>\n",
              "      <td>-1</td>\n",
              "      <td>0</td>\n",
              "      <td>unknown</td>\n",
              "      <td>no</td>\n",
              "    </tr>\n",
              "    <tr>\n",
              "      <th>2</th>\n",
              "      <td>33</td>\n",
              "      <td>entrepreneur</td>\n",
              "      <td>married</td>\n",
              "      <td>secondary</td>\n",
              "      <td>no</td>\n",
              "      <td>2</td>\n",
              "      <td>yes</td>\n",
              "      <td>yes</td>\n",
              "      <td>unknown</td>\n",
              "      <td>5</td>\n",
              "      <td>may</td>\n",
              "      <td>76</td>\n",
              "      <td>1</td>\n",
              "      <td>-1</td>\n",
              "      <td>0</td>\n",
              "      <td>unknown</td>\n",
              "      <td>no</td>\n",
              "    </tr>\n",
              "    <tr>\n",
              "      <th>3</th>\n",
              "      <td>47</td>\n",
              "      <td>blue-collar</td>\n",
              "      <td>married</td>\n",
              "      <td>unknown</td>\n",
              "      <td>no</td>\n",
              "      <td>1506</td>\n",
              "      <td>yes</td>\n",
              "      <td>no</td>\n",
              "      <td>unknown</td>\n",
              "      <td>5</td>\n",
              "      <td>may</td>\n",
              "      <td>92</td>\n",
              "      <td>1</td>\n",
              "      <td>-1</td>\n",
              "      <td>0</td>\n",
              "      <td>unknown</td>\n",
              "      <td>no</td>\n",
              "    </tr>\n",
              "    <tr>\n",
              "      <th>4</th>\n",
              "      <td>33</td>\n",
              "      <td>unknown</td>\n",
              "      <td>single</td>\n",
              "      <td>unknown</td>\n",
              "      <td>no</td>\n",
              "      <td>1</td>\n",
              "      <td>no</td>\n",
              "      <td>no</td>\n",
              "      <td>unknown</td>\n",
              "      <td>5</td>\n",
              "      <td>may</td>\n",
              "      <td>198</td>\n",
              "      <td>1</td>\n",
              "      <td>-1</td>\n",
              "      <td>0</td>\n",
              "      <td>unknown</td>\n",
              "      <td>no</td>\n",
              "    </tr>\n",
              "  </tbody>\n",
              "</table>\n",
              "</div>"
            ],
            "text/plain": [
              "   age           job  marital  education  ... pdays  previous poutcome Target\n",
              "0   58    management  married   tertiary  ...    -1         0  unknown     no\n",
              "1   44    technician   single  secondary  ...    -1         0  unknown     no\n",
              "2   33  entrepreneur  married  secondary  ...    -1         0  unknown     no\n",
              "3   47   blue-collar  married    unknown  ...    -1         0  unknown     no\n",
              "4   33       unknown   single    unknown  ...    -1         0  unknown     no\n",
              "\n",
              "[5 rows x 17 columns]"
            ]
          },
          "metadata": {
            "tags": []
          },
          "execution_count": 4
        }
      ]
    },
    {
      "cell_type": "code",
      "metadata": {
        "colab": {
          "base_uri": "https://localhost:8080/"
        },
        "id": "hpsmdvbPD8Lm",
        "outputId": "b1ca0d9f-d9c2-44fc-be54-3a98e20988aa"
      },
      "source": [
        "df.nunique()"
      ],
      "execution_count": 8,
      "outputs": [
        {
          "output_type": "execute_result",
          "data": {
            "text/plain": [
              "age            77\n",
              "job            12\n",
              "marital         3\n",
              "education       4\n",
              "default         2\n",
              "balance      7168\n",
              "housing         2\n",
              "loan            2\n",
              "contact         3\n",
              "day            31\n",
              "month          12\n",
              "duration     1573\n",
              "campaign       48\n",
              "pdays         559\n",
              "previous       41\n",
              "poutcome        4\n",
              "Target          2\n",
              "dtype: int64"
            ]
          },
          "metadata": {
            "tags": []
          },
          "execution_count": 8
        }
      ]
    },
    {
      "cell_type": "code",
      "metadata": {
        "colab": {
          "base_uri": "https://localhost:8080/"
        },
        "id": "qXvsPD9dBoMw",
        "outputId": "9a4f0309-8a3e-49a6-e363-a6b634e2667f"
      },
      "source": [
        "df.shape"
      ],
      "execution_count": 5,
      "outputs": [
        {
          "output_type": "execute_result",
          "data": {
            "text/plain": [
              "(45211, 17)"
            ]
          },
          "metadata": {
            "tags": []
          },
          "execution_count": 5
        }
      ]
    },
    {
      "cell_type": "markdown",
      "metadata": {
        "id": "dmxxZ-LzBoMz"
      },
      "source": [
        "**Null checks the dataset:**"
      ]
    },
    {
      "cell_type": "code",
      "metadata": {
        "colab": {
          "base_uri": "https://localhost:8080/"
        },
        "id": "MQKoGFqSBoM0",
        "outputId": "31f2ee15-7100-453d-c5c1-d9c61fb1ba2e"
      },
      "source": [
        "df.info()"
      ],
      "execution_count": 6,
      "outputs": [
        {
          "output_type": "stream",
          "text": [
            "<class 'pandas.core.frame.DataFrame'>\n",
            "RangeIndex: 45211 entries, 0 to 45210\n",
            "Data columns (total 17 columns):\n",
            " #   Column     Non-Null Count  Dtype \n",
            "---  ------     --------------  ----- \n",
            " 0   age        45211 non-null  int64 \n",
            " 1   job        45211 non-null  object\n",
            " 2   marital    45211 non-null  object\n",
            " 3   education  45211 non-null  object\n",
            " 4   default    45211 non-null  object\n",
            " 5   balance    45211 non-null  int64 \n",
            " 6   housing    45211 non-null  object\n",
            " 7   loan       45211 non-null  object\n",
            " 8   contact    45211 non-null  object\n",
            " 9   day        45211 non-null  int64 \n",
            " 10  month      45211 non-null  object\n",
            " 11  duration   45211 non-null  int64 \n",
            " 12  campaign   45211 non-null  int64 \n",
            " 13  pdays      45211 non-null  int64 \n",
            " 14  previous   45211 non-null  int64 \n",
            " 15  poutcome   45211 non-null  object\n",
            " 16  Target     45211 non-null  object\n",
            "dtypes: int64(7), object(10)\n",
            "memory usage: 5.9+ MB\n"
          ],
          "name": "stdout"
        }
      ]
    },
    {
      "cell_type": "code",
      "metadata": {
        "colab": {
          "base_uri": "https://localhost:8080/"
        },
        "id": "HWOs6AB6BoM1",
        "outputId": "720ba34f-4b81-4f1a-f7a0-3d083d86014e"
      },
      "source": [
        "# There are no null values in the sample dataset\n",
        "df.isnull().sum()"
      ],
      "execution_count": 7,
      "outputs": [
        {
          "output_type": "execute_result",
          "data": {
            "text/plain": [
              "age          0\n",
              "job          0\n",
              "marital      0\n",
              "education    0\n",
              "default      0\n",
              "balance      0\n",
              "housing      0\n",
              "loan         0\n",
              "contact      0\n",
              "day          0\n",
              "month        0\n",
              "duration     0\n",
              "campaign     0\n",
              "pdays        0\n",
              "previous     0\n",
              "poutcome     0\n",
              "Target       0\n",
              "dtype: int64"
            ]
          },
          "metadata": {
            "tags": []
          },
          "execution_count": 7
        }
      ]
    },
    {
      "cell_type": "markdown",
      "metadata": {
        "id": "eMWMyTbmBoM1"
      },
      "source": [
        "**Insights:**\n",
        "- `There are no null vaues in the data set`"
      ]
    },
    {
      "cell_type": "markdown",
      "metadata": {
        "id": "ZHYMiO3LBoM1"
      },
      "source": [
        "**Stastical description of the dataset:**"
      ]
    },
    {
      "cell_type": "code",
      "metadata": {
        "id": "j7e6UBBOBoM2",
        "outputId": "34dc005e-2d61-4c81-ce7a-724f268932e4"
      },
      "source": [
        "df.describe().transpose()"
      ],
      "execution_count": null,
      "outputs": [
        {
          "output_type": "execute_result",
          "data": {
            "text/html": [
              "<div>\n",
              "<style scoped>\n",
              "    .dataframe tbody tr th:only-of-type {\n",
              "        vertical-align: middle;\n",
              "    }\n",
              "\n",
              "    .dataframe tbody tr th {\n",
              "        vertical-align: top;\n",
              "    }\n",
              "\n",
              "    .dataframe thead th {\n",
              "        text-align: right;\n",
              "    }\n",
              "</style>\n",
              "<table border=\"1\" class=\"dataframe\">\n",
              "  <thead>\n",
              "    <tr style=\"text-align: right;\">\n",
              "      <th></th>\n",
              "      <th>count</th>\n",
              "      <th>mean</th>\n",
              "      <th>std</th>\n",
              "      <th>min</th>\n",
              "      <th>25%</th>\n",
              "      <th>50%</th>\n",
              "      <th>75%</th>\n",
              "      <th>max</th>\n",
              "    </tr>\n",
              "  </thead>\n",
              "  <tbody>\n",
              "    <tr>\n",
              "      <th>ID</th>\n",
              "      <td>5000.0</td>\n",
              "      <td>2500.500000</td>\n",
              "      <td>1443.520003</td>\n",
              "      <td>1.0</td>\n",
              "      <td>1250.75</td>\n",
              "      <td>2500.5</td>\n",
              "      <td>3750.25</td>\n",
              "      <td>5000.0</td>\n",
              "    </tr>\n",
              "    <tr>\n",
              "      <th>Age</th>\n",
              "      <td>5000.0</td>\n",
              "      <td>45.338400</td>\n",
              "      <td>11.463166</td>\n",
              "      <td>23.0</td>\n",
              "      <td>35.00</td>\n",
              "      <td>45.0</td>\n",
              "      <td>55.00</td>\n",
              "      <td>67.0</td>\n",
              "    </tr>\n",
              "    <tr>\n",
              "      <th>Experience</th>\n",
              "      <td>5000.0</td>\n",
              "      <td>20.104600</td>\n",
              "      <td>11.467954</td>\n",
              "      <td>-3.0</td>\n",
              "      <td>10.00</td>\n",
              "      <td>20.0</td>\n",
              "      <td>30.00</td>\n",
              "      <td>43.0</td>\n",
              "    </tr>\n",
              "    <tr>\n",
              "      <th>Income</th>\n",
              "      <td>5000.0</td>\n",
              "      <td>73.774200</td>\n",
              "      <td>46.033729</td>\n",
              "      <td>8.0</td>\n",
              "      <td>39.00</td>\n",
              "      <td>64.0</td>\n",
              "      <td>98.00</td>\n",
              "      <td>224.0</td>\n",
              "    </tr>\n",
              "    <tr>\n",
              "      <th>ZIP Code</th>\n",
              "      <td>5000.0</td>\n",
              "      <td>93152.503000</td>\n",
              "      <td>2121.852197</td>\n",
              "      <td>9307.0</td>\n",
              "      <td>91911.00</td>\n",
              "      <td>93437.0</td>\n",
              "      <td>94608.00</td>\n",
              "      <td>96651.0</td>\n",
              "    </tr>\n",
              "    <tr>\n",
              "      <th>Family</th>\n",
              "      <td>5000.0</td>\n",
              "      <td>2.396400</td>\n",
              "      <td>1.147663</td>\n",
              "      <td>1.0</td>\n",
              "      <td>1.00</td>\n",
              "      <td>2.0</td>\n",
              "      <td>3.00</td>\n",
              "      <td>4.0</td>\n",
              "    </tr>\n",
              "    <tr>\n",
              "      <th>CCAvg</th>\n",
              "      <td>5000.0</td>\n",
              "      <td>1.937938</td>\n",
              "      <td>1.747659</td>\n",
              "      <td>0.0</td>\n",
              "      <td>0.70</td>\n",
              "      <td>1.5</td>\n",
              "      <td>2.50</td>\n",
              "      <td>10.0</td>\n",
              "    </tr>\n",
              "    <tr>\n",
              "      <th>Education</th>\n",
              "      <td>5000.0</td>\n",
              "      <td>1.881000</td>\n",
              "      <td>0.839869</td>\n",
              "      <td>1.0</td>\n",
              "      <td>1.00</td>\n",
              "      <td>2.0</td>\n",
              "      <td>3.00</td>\n",
              "      <td>3.0</td>\n",
              "    </tr>\n",
              "    <tr>\n",
              "      <th>Mortgage</th>\n",
              "      <td>5000.0</td>\n",
              "      <td>56.498800</td>\n",
              "      <td>101.713802</td>\n",
              "      <td>0.0</td>\n",
              "      <td>0.00</td>\n",
              "      <td>0.0</td>\n",
              "      <td>101.00</td>\n",
              "      <td>635.0</td>\n",
              "    </tr>\n",
              "    <tr>\n",
              "      <th>Personal Loan</th>\n",
              "      <td>5000.0</td>\n",
              "      <td>0.096000</td>\n",
              "      <td>0.294621</td>\n",
              "      <td>0.0</td>\n",
              "      <td>0.00</td>\n",
              "      <td>0.0</td>\n",
              "      <td>0.00</td>\n",
              "      <td>1.0</td>\n",
              "    </tr>\n",
              "    <tr>\n",
              "      <th>Securities Account</th>\n",
              "      <td>5000.0</td>\n",
              "      <td>0.104400</td>\n",
              "      <td>0.305809</td>\n",
              "      <td>0.0</td>\n",
              "      <td>0.00</td>\n",
              "      <td>0.0</td>\n",
              "      <td>0.00</td>\n",
              "      <td>1.0</td>\n",
              "    </tr>\n",
              "    <tr>\n",
              "      <th>CD Account</th>\n",
              "      <td>5000.0</td>\n",
              "      <td>0.060400</td>\n",
              "      <td>0.238250</td>\n",
              "      <td>0.0</td>\n",
              "      <td>0.00</td>\n",
              "      <td>0.0</td>\n",
              "      <td>0.00</td>\n",
              "      <td>1.0</td>\n",
              "    </tr>\n",
              "    <tr>\n",
              "      <th>Online</th>\n",
              "      <td>5000.0</td>\n",
              "      <td>0.596800</td>\n",
              "      <td>0.490589</td>\n",
              "      <td>0.0</td>\n",
              "      <td>0.00</td>\n",
              "      <td>1.0</td>\n",
              "      <td>1.00</td>\n",
              "      <td>1.0</td>\n",
              "    </tr>\n",
              "    <tr>\n",
              "      <th>CreditCard</th>\n",
              "      <td>5000.0</td>\n",
              "      <td>0.294000</td>\n",
              "      <td>0.455637</td>\n",
              "      <td>0.0</td>\n",
              "      <td>0.00</td>\n",
              "      <td>0.0</td>\n",
              "      <td>1.00</td>\n",
              "      <td>1.0</td>\n",
              "    </tr>\n",
              "  </tbody>\n",
              "</table>\n",
              "</div>"
            ],
            "text/plain": [
              "                     count          mean          std     min       25%  \\\n",
              "ID                  5000.0   2500.500000  1443.520003     1.0   1250.75   \n",
              "Age                 5000.0     45.338400    11.463166    23.0     35.00   \n",
              "Experience          5000.0     20.104600    11.467954    -3.0     10.00   \n",
              "Income              5000.0     73.774200    46.033729     8.0     39.00   \n",
              "ZIP Code            5000.0  93152.503000  2121.852197  9307.0  91911.00   \n",
              "Family              5000.0      2.396400     1.147663     1.0      1.00   \n",
              "CCAvg               5000.0      1.937938     1.747659     0.0      0.70   \n",
              "Education           5000.0      1.881000     0.839869     1.0      1.00   \n",
              "Mortgage            5000.0     56.498800   101.713802     0.0      0.00   \n",
              "Personal Loan       5000.0      0.096000     0.294621     0.0      0.00   \n",
              "Securities Account  5000.0      0.104400     0.305809     0.0      0.00   \n",
              "CD Account          5000.0      0.060400     0.238250     0.0      0.00   \n",
              "Online              5000.0      0.596800     0.490589     0.0      0.00   \n",
              "CreditCard          5000.0      0.294000     0.455637     0.0      0.00   \n",
              "\n",
              "                        50%       75%      max  \n",
              "ID                   2500.5   3750.25   5000.0  \n",
              "Age                    45.0     55.00     67.0  \n",
              "Experience             20.0     30.00     43.0  \n",
              "Income                 64.0     98.00    224.0  \n",
              "ZIP Code            93437.0  94608.00  96651.0  \n",
              "Family                  2.0      3.00      4.0  \n",
              "CCAvg                   1.5      2.50     10.0  \n",
              "Education               2.0      3.00      3.0  \n",
              "Mortgage                0.0    101.00    635.0  \n",
              "Personal Loan           0.0      0.00      1.0  \n",
              "Securities Account      0.0      0.00      1.0  \n",
              "CD Account              0.0      0.00      1.0  \n",
              "Online                  1.0      1.00      1.0  \n",
              "CreditCard              0.0      1.00      1.0  "
            ]
          },
          "metadata": {
            "tags": []
          },
          "execution_count": 185
        }
      ]
    },
    {
      "cell_type": "markdown",
      "metadata": {
        "id": "uAvoGQKRBoM2"
      },
      "source": [
        "## <a id = \"link2\"></a> Exploratory Data Analysis"
      ]
    },
    {
      "cell_type": "markdown",
      "metadata": {
        "id": "56NL-fo8BoM3"
      },
      "source": [
        "### <a id = \"link3\"></a> Number of unique in each column?"
      ]
    },
    {
      "cell_type": "code",
      "metadata": {
        "id": "t3qrN3I4BoM3",
        "outputId": "6add8ebb-2c0a-4344-c3e0-a9d6714ff1cb"
      },
      "source": [
        "print ('-------Unique value for the complete dataset---------')\n",
        "print (df.nunique())\n",
        "print()\n",
        "print ('-------Unique value for only customers who have accepted personal loan---------')\n",
        "df[df['Personal Loan']==1].nunique()"
      ],
      "execution_count": null,
      "outputs": [
        {
          "output_type": "stream",
          "text": [
            "-------Unique value for the complete dataset---------\n",
            "ID                    5000\n",
            "Age                     45\n",
            "Experience              47\n",
            "Income                 162\n",
            "ZIP Code               467\n",
            "Family                   4\n",
            "CCAvg                  108\n",
            "Education                3\n",
            "Mortgage               347\n",
            "Personal Loan            2\n",
            "Securities Account       2\n",
            "CD Account               2\n",
            "Online                   2\n",
            "CreditCard               2\n",
            "dtype: int64\n",
            "\n",
            "-------Unique value for only customers who have accepted personal loan---------\n"
          ],
          "name": "stdout"
        },
        {
          "output_type": "execute_result",
          "data": {
            "text/plain": [
              "ID                    480\n",
              "Age                    40\n",
              "Experience             42\n",
              "Income                102\n",
              "ZIP Code              238\n",
              "Family                  4\n",
              "CCAvg                  95\n",
              "Education               3\n",
              "Mortgage              141\n",
              "Personal Loan           1\n",
              "Securities Account      2\n",
              "CD Account              2\n",
              "Online                  2\n",
              "CreditCard              2\n",
              "dtype: int64"
            ]
          },
          "metadata": {
            "tags": []
          },
          "execution_count": 90
        }
      ]
    },
    {
      "cell_type": "markdown",
      "metadata": {
        "id": "93vBfA7BBoM4"
      },
      "source": [
        "**Insights:**\n",
        "- `ID / Customer is basically the unique ID for the customer which is not adding much value to the model.Hence it can be dropped.`\n",
        "- `Customers who accepted the Personal Loan campain are located 238 unique zip codes, which is almost 50% spread for all unique zip codes in the data sample. This implies customer's geography / location doesnt affects much on the acceptance of personal loan . Hence zip code can be dropped.`\n",
        "- `Family, Education, Personal Loan, Securities Account, CD Account, Online, Credit Card are all categorical features as it has very less unique values`\n"
      ]
    },
    {
      "cell_type": "code",
      "metadata": {
        "id": "TdPB_aL0BoM6",
        "outputId": "292fe023-ecb6-4cd9-ae4b-dd3be30d4cc1"
      },
      "source": [
        "# Dropping ID & Zip Code column as mentioned in above Insights\n",
        "lg_df = df.drop(['ID' , 'ZIP Code'], axis =1 ) \n",
        "#Converting Family, Education, Personal Loan, Securities Account, CD Account, Online, Credit Card to categorial data type.\n",
        "lg_df['Family'] = lg_df['Family'].astype('category')\n",
        "lg_df['Personal Loan'] = lg_df['Personal Loan'].astype('category')\n",
        "lg_df['Securities Account'] = lg_df['Securities Account'].astype('category')\n",
        "lg_df['CD Account'] = lg_df['CD Account'].astype('category')\n",
        "lg_df['Online'] = lg_df['Online'].astype('category')\n",
        "lg_df['CreditCard'] = lg_df['CreditCard'].astype('category')\n",
        "lg_df.dtypes"
      ],
      "execution_count": null,
      "outputs": [
        {
          "output_type": "execute_result",
          "data": {
            "text/plain": [
              "Age                      int64\n",
              "Experience               int64\n",
              "Income                   int64\n",
              "Family                category\n",
              "CCAvg                  float64\n",
              "Education                int64\n",
              "Mortgage                 int64\n",
              "Personal Loan         category\n",
              "Securities Account    category\n",
              "CD Account            category\n",
              "Online                category\n",
              "CreditCard            category\n",
              "dtype: object"
            ]
          },
          "metadata": {
            "tags": []
          },
          "execution_count": 7
        }
      ]
    },
    {
      "cell_type": "markdown",
      "metadata": {
        "id": "X0H8kOh6BoM8"
      },
      "source": [
        "### <a id = \"link4\"></a> Number of people with zero mortgage?"
      ]
    },
    {
      "cell_type": "code",
      "metadata": {
        "id": "YZqzjWUjBoM8",
        "outputId": "d38eed95-7277-4252-e671-ce7d07299cbf"
      },
      "source": [
        "print ('Number of people with Zero Mortgage : ') \n",
        "print(df[df['Mortgage'] == 0].shape[0])"
      ],
      "execution_count": null,
      "outputs": [
        {
          "output_type": "stream",
          "text": [
            "Number of people with Zero Mortgage : \n",
            "3462\n"
          ],
          "name": "stdout"
        }
      ]
    },
    {
      "cell_type": "markdown",
      "metadata": {
        "id": "SoUg44sqBoM9"
      },
      "source": [
        "### <a id = \"link5\"></a> Number of people with zero credit card spending per month?"
      ]
    },
    {
      "cell_type": "code",
      "metadata": {
        "id": "8KsUkF7nBoM-",
        "outputId": "a9c0a72e-ec71-476b-881c-47b0b17c2f8d"
      },
      "source": [
        "print ('Number of people with Zero credit card spending per month : ') \n",
        "print(df[df['CCAvg'] == 0].shape[0])"
      ],
      "execution_count": null,
      "outputs": [
        {
          "output_type": "stream",
          "text": [
            "Number of people with Zero credit card spending per month : \n",
            "106\n"
          ],
          "name": "stdout"
        }
      ]
    },
    {
      "cell_type": "markdown",
      "metadata": {
        "id": "-1yADyqBBoM_"
      },
      "source": [
        "### <a id = \"link6\"></a> Value counts of all categorical columns."
      ]
    },
    {
      "cell_type": "code",
      "metadata": {
        "id": "b2rj_2C9BoM_",
        "outputId": "6082d74d-78d6-41a3-8ca9-b5bb65616d2e"
      },
      "source": [
        " #  value counts of all category type columns\n",
        "for i in list(lg_df.columns[lg_df.dtypes=='category']):  \n",
        "    print(lg_df[i].value_counts(normalize=True))\n",
        "    print()"
      ],
      "execution_count": null,
      "outputs": [
        {
          "output_type": "stream",
          "text": [
            "1    0.2944\n",
            "2    0.2592\n",
            "4    0.2444\n",
            "3    0.2020\n",
            "Name: Family, dtype: float64\n",
            "\n",
            "0    0.904\n",
            "1    0.096\n",
            "Name: Personal Loan, dtype: float64\n",
            "\n",
            "0    0.8956\n",
            "1    0.1044\n",
            "Name: Securities Account, dtype: float64\n",
            "\n",
            "0    0.9396\n",
            "1    0.0604\n",
            "Name: CD Account, dtype: float64\n",
            "\n",
            "1    0.5968\n",
            "0    0.4032\n",
            "Name: Online, dtype: float64\n",
            "\n",
            "0    0.706\n",
            "1    0.294\n",
            "Name: CreditCard, dtype: float64\n",
            "\n"
          ],
          "name": "stdout"
        }
      ]
    },
    {
      "cell_type": "markdown",
      "metadata": {
        "id": "fASSiG20BoNA"
      },
      "source": [
        "### <a id = \"link7\"></a> Getting Data Model ready"
      ]
    },
    {
      "cell_type": "code",
      "metadata": {
        "id": "AmvdE1mcBoNA",
        "outputId": "9a56bb9d-fadf-44b0-8994-27ba280570fa"
      },
      "source": [
        "# Dropping ID & Zip Code column as mentioned in above Insights\n",
        "lg_df = df.drop(['ID' , 'ZIP Code'], axis =1 ) \n",
        "lg_df['Education'].replace({1:'Undergrad', 2:'Graduate' , 3:'Advanced/Professional'},inplace=True)\n",
        "lg_df.head()"
      ],
      "execution_count": null,
      "outputs": [
        {
          "output_type": "execute_result",
          "data": {
            "text/html": [
              "<div>\n",
              "<style scoped>\n",
              "    .dataframe tbody tr th:only-of-type {\n",
              "        vertical-align: middle;\n",
              "    }\n",
              "\n",
              "    .dataframe tbody tr th {\n",
              "        vertical-align: top;\n",
              "    }\n",
              "\n",
              "    .dataframe thead th {\n",
              "        text-align: right;\n",
              "    }\n",
              "</style>\n",
              "<table border=\"1\" class=\"dataframe\">\n",
              "  <thead>\n",
              "    <tr style=\"text-align: right;\">\n",
              "      <th></th>\n",
              "      <th>Age</th>\n",
              "      <th>Experience</th>\n",
              "      <th>Income</th>\n",
              "      <th>Family</th>\n",
              "      <th>CCAvg</th>\n",
              "      <th>Education</th>\n",
              "      <th>Mortgage</th>\n",
              "      <th>Personal Loan</th>\n",
              "      <th>Securities Account</th>\n",
              "      <th>CD Account</th>\n",
              "      <th>Online</th>\n",
              "      <th>CreditCard</th>\n",
              "    </tr>\n",
              "  </thead>\n",
              "  <tbody>\n",
              "    <tr>\n",
              "      <th>0</th>\n",
              "      <td>25</td>\n",
              "      <td>1</td>\n",
              "      <td>49</td>\n",
              "      <td>4</td>\n",
              "      <td>1.6</td>\n",
              "      <td>Undergrad</td>\n",
              "      <td>0</td>\n",
              "      <td>0</td>\n",
              "      <td>1</td>\n",
              "      <td>0</td>\n",
              "      <td>0</td>\n",
              "      <td>0</td>\n",
              "    </tr>\n",
              "    <tr>\n",
              "      <th>1</th>\n",
              "      <td>45</td>\n",
              "      <td>19</td>\n",
              "      <td>34</td>\n",
              "      <td>3</td>\n",
              "      <td>1.5</td>\n",
              "      <td>Undergrad</td>\n",
              "      <td>0</td>\n",
              "      <td>0</td>\n",
              "      <td>1</td>\n",
              "      <td>0</td>\n",
              "      <td>0</td>\n",
              "      <td>0</td>\n",
              "    </tr>\n",
              "    <tr>\n",
              "      <th>2</th>\n",
              "      <td>39</td>\n",
              "      <td>15</td>\n",
              "      <td>11</td>\n",
              "      <td>1</td>\n",
              "      <td>1.0</td>\n",
              "      <td>Undergrad</td>\n",
              "      <td>0</td>\n",
              "      <td>0</td>\n",
              "      <td>0</td>\n",
              "      <td>0</td>\n",
              "      <td>0</td>\n",
              "      <td>0</td>\n",
              "    </tr>\n",
              "    <tr>\n",
              "      <th>3</th>\n",
              "      <td>35</td>\n",
              "      <td>9</td>\n",
              "      <td>100</td>\n",
              "      <td>1</td>\n",
              "      <td>2.7</td>\n",
              "      <td>Graduate</td>\n",
              "      <td>0</td>\n",
              "      <td>0</td>\n",
              "      <td>0</td>\n",
              "      <td>0</td>\n",
              "      <td>0</td>\n",
              "      <td>0</td>\n",
              "    </tr>\n",
              "    <tr>\n",
              "      <th>4</th>\n",
              "      <td>35</td>\n",
              "      <td>8</td>\n",
              "      <td>45</td>\n",
              "      <td>4</td>\n",
              "      <td>1.0</td>\n",
              "      <td>Graduate</td>\n",
              "      <td>0</td>\n",
              "      <td>0</td>\n",
              "      <td>0</td>\n",
              "      <td>0</td>\n",
              "      <td>0</td>\n",
              "      <td>1</td>\n",
              "    </tr>\n",
              "  </tbody>\n",
              "</table>\n",
              "</div>"
            ],
            "text/plain": [
              "   Age  Experience  Income  Family  CCAvg  Education  Mortgage  Personal Loan  \\\n",
              "0   25           1      49       4    1.6  Undergrad         0              0   \n",
              "1   45          19      34       3    1.5  Undergrad         0              0   \n",
              "2   39          15      11       1    1.0  Undergrad         0              0   \n",
              "3   35           9     100       1    2.7   Graduate         0              0   \n",
              "4   35           8      45       4    1.0   Graduate         0              0   \n",
              "\n",
              "   Securities Account  CD Account  Online  CreditCard  \n",
              "0                   1           0       0           0  \n",
              "1                   1           0       0           0  \n",
              "2                   0           0       0           0  \n",
              "3                   0           0       0           0  \n",
              "4                   0           0       0           1  "
            ]
          },
          "metadata": {
            "tags": []
          },
          "execution_count": 12
        }
      ]
    },
    {
      "cell_type": "markdown",
      "metadata": {
        "id": "aavkmhzdBoNB"
      },
      "source": [
        "### <a id = \"link8\"></a> Univariate Analysis"
      ]
    },
    {
      "cell_type": "code",
      "metadata": {
        "id": "O5ID2v56BoNB",
        "outputId": "5e4d5c3e-9ac4-49b7-8204-88b02e968d1c"
      },
      "source": [
        "sns.distplot(df['Income'])\n",
        "plt.show()\n",
        "sns.distplot(df['CCAvg'])\n",
        "plt.show()\n",
        "sns.distplot(df['Mortgage'])\n",
        "plt.show()\n",
        "sns.distplot(df['Experience'])\n",
        "plt.show()"
      ],
      "execution_count": null,
      "outputs": [
        {
          "output_type": "display_data",
          "data": {
            "image/png": "[encoded data removed]",
            "text/plain": [
              "<Figure size 432x288 with 1 Axes>"
            ]
          },
          "metadata": {
            "tags": [],
            "needs_background": "light"
          }
        },
        {
          "output_type": "display_data",
          "data": {
            "image/png": "[encoded data removed]",
            "text/plain": [
              "<Figure size 432x288 with 1 Axes>"
            ]
          },
          "metadata": {
            "tags": [],
            "needs_background": "light"
          }
        },
        {
          "output_type": "display_data",
          "data": {
            "image/png": "[encoded data removed]",
            "text/plain": [
              "<Figure size 432x288 with 1 Axes>"
            ]
          },
          "metadata": {
            "tags": [],
            "needs_background": "light"
          }
        },
        {
          "output_type": "display_data",
          "data": {
            "image/png": "[encoded data removed]",
            "text/plain": [
              "<Figure size 432x288 with 1 Axes>"
            ]
          },
          "metadata": {
            "tags": [],
            "needs_background": "light"
          }
        }
      ]
    },
    {
      "cell_type": "code",
      "metadata": {
        "id": "gZS-bNX6BoNB",
        "outputId": "78cf53bf-eb66-43af-a62c-d70e209d58e4"
      },
      "source": [
        "lg_df['Personal Loan'].value_counts(normalize=True)"
      ],
      "execution_count": null,
      "outputs": [
        {
          "output_type": "execute_result",
          "data": {
            "text/plain": [
              "0    0.904\n",
              "1    0.096\n",
              "Name: Personal Loan, dtype: float64"
            ]
          },
          "metadata": {
            "tags": []
          },
          "execution_count": 14
        }
      ]
    },
    {
      "cell_type": "markdown",
      "metadata": {
        "id": "MDzla_2iBoNC"
      },
      "source": [
        "**Insights:**\n",
        "- `There is huge dis proportionate beetween personal loan values . As only 9.6 percent of data has customer taken personal loan"
      ]
    },
    {
      "cell_type": "markdown",
      "metadata": {
        "id": "v2zHQ8vHBoNC"
      },
      "source": [
        "### <a id = \"link10\"></a> Bivariate Analysis"
      ]
    },
    {
      "cell_type": "code",
      "metadata": {
        "id": "rspkI8RWBoNC",
        "outputId": "3bbaeae0-2be6-4bae-daef-c02c5ad39c00"
      },
      "source": [
        "lg_df.groupby(['Personal Loan']).mean()"
      ],
      "execution_count": null,
      "outputs": [
        {
          "output_type": "execute_result",
          "data": {
            "text/html": [
              "<div>\n",
              "<style scoped>\n",
              "    .dataframe tbody tr th:only-of-type {\n",
              "        vertical-align: middle;\n",
              "    }\n",
              "\n",
              "    .dataframe tbody tr th {\n",
              "        vertical-align: top;\n",
              "    }\n",
              "\n",
              "    .dataframe thead th {\n",
              "        text-align: right;\n",
              "    }\n",
              "</style>\n",
              "<table border=\"1\" class=\"dataframe\">\n",
              "  <thead>\n",
              "    <tr style=\"text-align: right;\">\n",
              "      <th></th>\n",
              "      <th>Age</th>\n",
              "      <th>Experience</th>\n",
              "      <th>Income</th>\n",
              "      <th>Family</th>\n",
              "      <th>CCAvg</th>\n",
              "      <th>Mortgage</th>\n",
              "      <th>Securities Account</th>\n",
              "      <th>CD Account</th>\n",
              "      <th>Online</th>\n",
              "      <th>CreditCard</th>\n",
              "    </tr>\n",
              "    <tr>\n",
              "      <th>Personal Loan</th>\n",
              "      <th></th>\n",
              "      <th></th>\n",
              "      <th></th>\n",
              "      <th></th>\n",
              "      <th></th>\n",
              "      <th></th>\n",
              "      <th></th>\n",
              "      <th></th>\n",
              "      <th></th>\n",
              "      <th></th>\n",
              "    </tr>\n",
              "  </thead>\n",
              "  <tbody>\n",
              "    <tr>\n",
              "      <th>0</th>\n",
              "      <td>45.367257</td>\n",
              "      <td>20.132301</td>\n",
              "      <td>66.237389</td>\n",
              "      <td>2.373451</td>\n",
              "      <td>1.729009</td>\n",
              "      <td>51.789381</td>\n",
              "      <td>0.102212</td>\n",
              "      <td>0.035841</td>\n",
              "      <td>0.595796</td>\n",
              "      <td>0.293584</td>\n",
              "    </tr>\n",
              "    <tr>\n",
              "      <th>1</th>\n",
              "      <td>45.066667</td>\n",
              "      <td>19.843750</td>\n",
              "      <td>144.745833</td>\n",
              "      <td>2.612500</td>\n",
              "      <td>3.905354</td>\n",
              "      <td>100.845833</td>\n",
              "      <td>0.125000</td>\n",
              "      <td>0.291667</td>\n",
              "      <td>0.606250</td>\n",
              "      <td>0.297917</td>\n",
              "    </tr>\n",
              "  </tbody>\n",
              "</table>\n",
              "</div>"
            ],
            "text/plain": [
              "                     Age  Experience      Income    Family     CCAvg  \\\n",
              "Personal Loan                                                          \n",
              "0              45.367257   20.132301   66.237389  2.373451  1.729009   \n",
              "1              45.066667   19.843750  144.745833  2.612500  3.905354   \n",
              "\n",
              "                 Mortgage  Securities Account  CD Account    Online  \\\n",
              "Personal Loan                                                         \n",
              "0               51.789381            0.102212    0.035841  0.595796   \n",
              "1              100.845833            0.125000    0.291667  0.606250   \n",
              "\n",
              "               CreditCard  \n",
              "Personal Loan              \n",
              "0                0.293584  \n",
              "1                0.297917  "
            ]
          },
          "metadata": {
            "tags": []
          },
          "execution_count": 15
        }
      ]
    },
    {
      "cell_type": "code",
      "metadata": {
        "id": "_kJM2azfBoNF",
        "outputId": "e5a25926-7712-4cff-884b-47a78fd6cda2"
      },
      "source": [
        "lg_df.groupby(['Personal Loan']).median()"
      ],
      "execution_count": null,
      "outputs": [
        {
          "output_type": "execute_result",
          "data": {
            "text/html": [
              "<div>\n",
              "<style scoped>\n",
              "    .dataframe tbody tr th:only-of-type {\n",
              "        vertical-align: middle;\n",
              "    }\n",
              "\n",
              "    .dataframe tbody tr th {\n",
              "        vertical-align: top;\n",
              "    }\n",
              "\n",
              "    .dataframe thead th {\n",
              "        text-align: right;\n",
              "    }\n",
              "</style>\n",
              "<table border=\"1\" class=\"dataframe\">\n",
              "  <thead>\n",
              "    <tr style=\"text-align: right;\">\n",
              "      <th></th>\n",
              "      <th>Age</th>\n",
              "      <th>Experience</th>\n",
              "      <th>Income</th>\n",
              "      <th>Family</th>\n",
              "      <th>CCAvg</th>\n",
              "      <th>Mortgage</th>\n",
              "      <th>Securities Account</th>\n",
              "      <th>CD Account</th>\n",
              "      <th>Online</th>\n",
              "      <th>CreditCard</th>\n",
              "    </tr>\n",
              "    <tr>\n",
              "      <th>Personal Loan</th>\n",
              "      <th></th>\n",
              "      <th></th>\n",
              "      <th></th>\n",
              "      <th></th>\n",
              "      <th></th>\n",
              "      <th></th>\n",
              "      <th></th>\n",
              "      <th></th>\n",
              "      <th></th>\n",
              "      <th></th>\n",
              "    </tr>\n",
              "  </thead>\n",
              "  <tbody>\n",
              "    <tr>\n",
              "      <th>0</th>\n",
              "      <td>45.0</td>\n",
              "      <td>20.0</td>\n",
              "      <td>59.0</td>\n",
              "      <td>2.0</td>\n",
              "      <td>1.4</td>\n",
              "      <td>0.0</td>\n",
              "      <td>0.0</td>\n",
              "      <td>0.0</td>\n",
              "      <td>1.0</td>\n",
              "      <td>0.0</td>\n",
              "    </tr>\n",
              "    <tr>\n",
              "      <th>1</th>\n",
              "      <td>45.0</td>\n",
              "      <td>20.0</td>\n",
              "      <td>142.5</td>\n",
              "      <td>3.0</td>\n",
              "      <td>3.8</td>\n",
              "      <td>0.0</td>\n",
              "      <td>0.0</td>\n",
              "      <td>0.0</td>\n",
              "      <td>1.0</td>\n",
              "      <td>0.0</td>\n",
              "    </tr>\n",
              "  </tbody>\n",
              "</table>\n",
              "</div>"
            ],
            "text/plain": [
              "                Age  Experience  Income  Family  CCAvg  Mortgage  \\\n",
              "Personal Loan                                                      \n",
              "0              45.0        20.0    59.0     2.0    1.4       0.0   \n",
              "1              45.0        20.0   142.5     3.0    3.8       0.0   \n",
              "\n",
              "               Securities Account  CD Account  Online  CreditCard  \n",
              "Personal Loan                                                      \n",
              "0                             0.0         0.0     1.0         0.0  \n",
              "1                             0.0         0.0     1.0         0.0  "
            ]
          },
          "metadata": {
            "tags": []
          },
          "execution_count": 16
        }
      ]
    },
    {
      "cell_type": "markdown",
      "metadata": {
        "id": "13xRaECKBoNG"
      },
      "source": [
        "**Insights:**\n",
        "- `Income, CCAvg and Mortgage values are higher for people who have taken loan `"
      ]
    },
    {
      "cell_type": "code",
      "metadata": {
        "id": "EIB9vHc7BoNG",
        "outputId": "55ce1a4f-2d8a-4bf5-a7c4-c3b925a8807b"
      },
      "source": [
        "pd.crosstab(lg_df['Family'],lg_df['Personal Loan'],normalize='columns')"
      ],
      "execution_count": null,
      "outputs": [
        {
          "output_type": "execute_result",
          "data": {
            "text/html": [
              "<div>\n",
              "<style scoped>\n",
              "    .dataframe tbody tr th:only-of-type {\n",
              "        vertical-align: middle;\n",
              "    }\n",
              "\n",
              "    .dataframe tbody tr th {\n",
              "        vertical-align: top;\n",
              "    }\n",
              "\n",
              "    .dataframe thead th {\n",
              "        text-align: right;\n",
              "    }\n",
              "</style>\n",
              "<table border=\"1\" class=\"dataframe\">\n",
              "  <thead>\n",
              "    <tr style=\"text-align: right;\">\n",
              "      <th>Personal Loan</th>\n",
              "      <th>0</th>\n",
              "      <th>1</th>\n",
              "    </tr>\n",
              "    <tr>\n",
              "      <th>Family</th>\n",
              "      <th></th>\n",
              "      <th></th>\n",
              "    </tr>\n",
              "  </thead>\n",
              "  <tbody>\n",
              "    <tr>\n",
              "      <th>1</th>\n",
              "      <td>0.301991</td>\n",
              "      <td>0.222917</td>\n",
              "    </tr>\n",
              "    <tr>\n",
              "      <th>2</th>\n",
              "      <td>0.263274</td>\n",
              "      <td>0.220833</td>\n",
              "    </tr>\n",
              "    <tr>\n",
              "      <th>3</th>\n",
              "      <td>0.194027</td>\n",
              "      <td>0.277083</td>\n",
              "    </tr>\n",
              "    <tr>\n",
              "      <th>4</th>\n",
              "      <td>0.240708</td>\n",
              "      <td>0.279167</td>\n",
              "    </tr>\n",
              "  </tbody>\n",
              "</table>\n",
              "</div>"
            ],
            "text/plain": [
              "Personal Loan         0         1\n",
              "Family                           \n",
              "1              0.301991  0.222917\n",
              "2              0.263274  0.220833\n",
              "3              0.194027  0.277083\n",
              "4              0.240708  0.279167"
            ]
          },
          "metadata": {
            "tags": []
          },
          "execution_count": 17
        }
      ]
    },
    {
      "cell_type": "markdown",
      "metadata": {
        "id": "M96ggz4ABoNK"
      },
      "source": [
        "**Insights:**\n",
        "- `Customer who have taken Personal loan have equal family distribution`"
      ]
    },
    {
      "cell_type": "code",
      "metadata": {
        "id": "fe84toCoBoNK",
        "outputId": "c8fc0625-d290-4562-8fca-32e68264a1a4"
      },
      "source": [
        "pd.crosstab(lg_df['Securities Account'],lg_df['Personal Loan'],normalize='columns')"
      ],
      "execution_count": null,
      "outputs": [
        {
          "output_type": "execute_result",
          "data": {
            "text/html": [
              "<div>\n",
              "<style scoped>\n",
              "    .dataframe tbody tr th:only-of-type {\n",
              "        vertical-align: middle;\n",
              "    }\n",
              "\n",
              "    .dataframe tbody tr th {\n",
              "        vertical-align: top;\n",
              "    }\n",
              "\n",
              "    .dataframe thead th {\n",
              "        text-align: right;\n",
              "    }\n",
              "</style>\n",
              "<table border=\"1\" class=\"dataframe\">\n",
              "  <thead>\n",
              "    <tr style=\"text-align: right;\">\n",
              "      <th>Personal Loan</th>\n",
              "      <th>0</th>\n",
              "      <th>1</th>\n",
              "    </tr>\n",
              "    <tr>\n",
              "      <th>Securities Account</th>\n",
              "      <th></th>\n",
              "      <th></th>\n",
              "    </tr>\n",
              "  </thead>\n",
              "  <tbody>\n",
              "    <tr>\n",
              "      <th>0</th>\n",
              "      <td>0.897788</td>\n",
              "      <td>0.875</td>\n",
              "    </tr>\n",
              "    <tr>\n",
              "      <th>1</th>\n",
              "      <td>0.102212</td>\n",
              "      <td>0.125</td>\n",
              "    </tr>\n",
              "  </tbody>\n",
              "</table>\n",
              "</div>"
            ],
            "text/plain": [
              "Personal Loan              0      1\n",
              "Securities Account                 \n",
              "0                   0.897788  0.875\n",
              "1                   0.102212  0.125"
            ]
          },
          "metadata": {
            "tags": []
          },
          "execution_count": 18
        }
      ]
    },
    {
      "cell_type": "markdown",
      "metadata": {
        "id": "ugWiLAqPBoNL"
      },
      "source": [
        "**Insights:**\n",
        "- `Customer who dont have a securities account have a higher rate of taking personal loan `"
      ]
    },
    {
      "cell_type": "code",
      "metadata": {
        "id": "6yLThfjdBoNL",
        "outputId": "129759f3-c125-465d-d30f-a6d63a3961b0"
      },
      "source": [
        "pd.crosstab(lg_df['CD Account'],lg_df['Personal Loan'],normalize='columns')"
      ],
      "execution_count": null,
      "outputs": [
        {
          "output_type": "execute_result",
          "data": {
            "text/html": [
              "<div>\n",
              "<style scoped>\n",
              "    .dataframe tbody tr th:only-of-type {\n",
              "        vertical-align: middle;\n",
              "    }\n",
              "\n",
              "    .dataframe tbody tr th {\n",
              "        vertical-align: top;\n",
              "    }\n",
              "\n",
              "    .dataframe thead th {\n",
              "        text-align: right;\n",
              "    }\n",
              "</style>\n",
              "<table border=\"1\" class=\"dataframe\">\n",
              "  <thead>\n",
              "    <tr style=\"text-align: right;\">\n",
              "      <th>Personal Loan</th>\n",
              "      <th>0</th>\n",
              "      <th>1</th>\n",
              "    </tr>\n",
              "    <tr>\n",
              "      <th>CD Account</th>\n",
              "      <th></th>\n",
              "      <th></th>\n",
              "    </tr>\n",
              "  </thead>\n",
              "  <tbody>\n",
              "    <tr>\n",
              "      <th>0</th>\n",
              "      <td>0.964159</td>\n",
              "      <td>0.708333</td>\n",
              "    </tr>\n",
              "    <tr>\n",
              "      <th>1</th>\n",
              "      <td>0.035841</td>\n",
              "      <td>0.291667</td>\n",
              "    </tr>\n",
              "  </tbody>\n",
              "</table>\n",
              "</div>"
            ],
            "text/plain": [
              "Personal Loan         0         1\n",
              "CD Account                       \n",
              "0              0.964159  0.708333\n",
              "1              0.035841  0.291667"
            ]
          },
          "metadata": {
            "tags": []
          },
          "execution_count": 19
        }
      ]
    },
    {
      "cell_type": "markdown",
      "metadata": {
        "id": "ot3MbdXpBoNL"
      },
      "source": [
        "**Insights:**\n",
        "- `Customer who dont have CD Account have higher rate of taking Personal Loan`"
      ]
    },
    {
      "cell_type": "code",
      "metadata": {
        "id": "wwr8Q1W0BoNL",
        "outputId": "f652e7d4-ed9e-4725-a9de-fbb3078dd2f0"
      },
      "source": [
        "pd.crosstab(lg_df['Online'],lg_df['Personal Loan'],normalize='columns')"
      ],
      "execution_count": null,
      "outputs": [
        {
          "output_type": "execute_result",
          "data": {
            "text/html": [
              "<div>\n",
              "<style scoped>\n",
              "    .dataframe tbody tr th:only-of-type {\n",
              "        vertical-align: middle;\n",
              "    }\n",
              "\n",
              "    .dataframe tbody tr th {\n",
              "        vertical-align: top;\n",
              "    }\n",
              "\n",
              "    .dataframe thead th {\n",
              "        text-align: right;\n",
              "    }\n",
              "</style>\n",
              "<table border=\"1\" class=\"dataframe\">\n",
              "  <thead>\n",
              "    <tr style=\"text-align: right;\">\n",
              "      <th>Personal Loan</th>\n",
              "      <th>0</th>\n",
              "      <th>1</th>\n",
              "    </tr>\n",
              "    <tr>\n",
              "      <th>Online</th>\n",
              "      <th></th>\n",
              "      <th></th>\n",
              "    </tr>\n",
              "  </thead>\n",
              "  <tbody>\n",
              "    <tr>\n",
              "      <th>0</th>\n",
              "      <td>0.404204</td>\n",
              "      <td>0.39375</td>\n",
              "    </tr>\n",
              "    <tr>\n",
              "      <th>1</th>\n",
              "      <td>0.595796</td>\n",
              "      <td>0.60625</td>\n",
              "    </tr>\n",
              "  </tbody>\n",
              "</table>\n",
              "</div>"
            ],
            "text/plain": [
              "Personal Loan         0        1\n",
              "Online                          \n",
              "0              0.404204  0.39375\n",
              "1              0.595796  0.60625"
            ]
          },
          "metadata": {
            "tags": []
          },
          "execution_count": 20
        }
      ]
    },
    {
      "cell_type": "markdown",
      "metadata": {
        "id": "ISaEwBRjBoNM"
      },
      "source": [
        "**Insights:**\n",
        "- Customer who have a online account have slightly higher chances of taking personal loan`"
      ]
    },
    {
      "cell_type": "code",
      "metadata": {
        "id": "VpeJZrZmBoNM",
        "outputId": "958c0a44-2eb0-4f56-9c9f-49e60697f039"
      },
      "source": [
        "pd.crosstab(lg_df['CreditCard'],lg_df['Personal Loan'],normalize='columns')"
      ],
      "execution_count": null,
      "outputs": [
        {
          "output_type": "execute_result",
          "data": {
            "text/html": [
              "<div>\n",
              "<style scoped>\n",
              "    .dataframe tbody tr th:only-of-type {\n",
              "        vertical-align: middle;\n",
              "    }\n",
              "\n",
              "    .dataframe tbody tr th {\n",
              "        vertical-align: top;\n",
              "    }\n",
              "\n",
              "    .dataframe thead th {\n",
              "        text-align: right;\n",
              "    }\n",
              "</style>\n",
              "<table border=\"1\" class=\"dataframe\">\n",
              "  <thead>\n",
              "    <tr style=\"text-align: right;\">\n",
              "      <th>Personal Loan</th>\n",
              "      <th>0</th>\n",
              "      <th>1</th>\n",
              "    </tr>\n",
              "    <tr>\n",
              "      <th>CreditCard</th>\n",
              "      <th></th>\n",
              "      <th></th>\n",
              "    </tr>\n",
              "  </thead>\n",
              "  <tbody>\n",
              "    <tr>\n",
              "      <th>0</th>\n",
              "      <td>0.706416</td>\n",
              "      <td>0.702083</td>\n",
              "    </tr>\n",
              "    <tr>\n",
              "      <th>1</th>\n",
              "      <td>0.293584</td>\n",
              "      <td>0.297917</td>\n",
              "    </tr>\n",
              "  </tbody>\n",
              "</table>\n",
              "</div>"
            ],
            "text/plain": [
              "Personal Loan         0         1\n",
              "CreditCard                       \n",
              "0              0.706416  0.702083\n",
              "1              0.293584  0.297917"
            ]
          },
          "metadata": {
            "tags": []
          },
          "execution_count": 21
        }
      ]
    },
    {
      "cell_type": "markdown",
      "metadata": {
        "id": "9ndAvxUGBoNM"
      },
      "source": [
        "## <a id = \"link11\"></a> Model building using Logistic Regression from Sklearn "
      ]
    },
    {
      "cell_type": "code",
      "metadata": {
        "id": "D870BjhUBoNM"
      },
      "source": [
        "## Defining  X and Y variables\n",
        "\n",
        "X = lg_df.drop('Personal Loan', axis=1)\n",
        "Y = lg_df['Personal Loan']    \n"
      ],
      "execution_count": null,
      "outputs": []
    },
    {
      "cell_type": "code",
      "metadata": {
        "id": "me5Tv8iqBoNM",
        "outputId": "a53d7d40-8c2b-4453-ad64-617cfddf0a59"
      },
      "source": [
        "#Converting values of data type as category to dummy variables\n",
        "X = pd.get_dummies(X, drop_first=True)\n",
        "X.head()"
      ],
      "execution_count": null,
      "outputs": [
        {
          "output_type": "execute_result",
          "data": {
            "text/html": [
              "<div>\n",
              "<style scoped>\n",
              "    .dataframe tbody tr th:only-of-type {\n",
              "        vertical-align: middle;\n",
              "    }\n",
              "\n",
              "    .dataframe tbody tr th {\n",
              "        vertical-align: top;\n",
              "    }\n",
              "\n",
              "    .dataframe thead th {\n",
              "        text-align: right;\n",
              "    }\n",
              "</style>\n",
              "<table border=\"1\" class=\"dataframe\">\n",
              "  <thead>\n",
              "    <tr style=\"text-align: right;\">\n",
              "      <th></th>\n",
              "      <th>Age</th>\n",
              "      <th>Experience</th>\n",
              "      <th>Income</th>\n",
              "      <th>Family</th>\n",
              "      <th>CCAvg</th>\n",
              "      <th>Mortgage</th>\n",
              "      <th>Securities Account</th>\n",
              "      <th>CD Account</th>\n",
              "      <th>Online</th>\n",
              "      <th>CreditCard</th>\n",
              "      <th>Education_Graduate</th>\n",
              "      <th>Education_Undergrad</th>\n",
              "    </tr>\n",
              "  </thead>\n",
              "  <tbody>\n",
              "    <tr>\n",
              "      <th>0</th>\n",
              "      <td>25</td>\n",
              "      <td>1</td>\n",
              "      <td>49</td>\n",
              "      <td>4</td>\n",
              "      <td>1.6</td>\n",
              "      <td>0</td>\n",
              "      <td>1</td>\n",
              "      <td>0</td>\n",
              "      <td>0</td>\n",
              "      <td>0</td>\n",
              "      <td>0</td>\n",
              "      <td>1</td>\n",
              "    </tr>\n",
              "    <tr>\n",
              "      <th>1</th>\n",
              "      <td>45</td>\n",
              "      <td>19</td>\n",
              "      <td>34</td>\n",
              "      <td>3</td>\n",
              "      <td>1.5</td>\n",
              "      <td>0</td>\n",
              "      <td>1</td>\n",
              "      <td>0</td>\n",
              "      <td>0</td>\n",
              "      <td>0</td>\n",
              "      <td>0</td>\n",
              "      <td>1</td>\n",
              "    </tr>\n",
              "    <tr>\n",
              "      <th>2</th>\n",
              "      <td>39</td>\n",
              "      <td>15</td>\n",
              "      <td>11</td>\n",
              "      <td>1</td>\n",
              "      <td>1.0</td>\n",
              "      <td>0</td>\n",
              "      <td>0</td>\n",
              "      <td>0</td>\n",
              "      <td>0</td>\n",
              "      <td>0</td>\n",
              "      <td>0</td>\n",
              "      <td>1</td>\n",
              "    </tr>\n",
              "    <tr>\n",
              "      <th>3</th>\n",
              "      <td>35</td>\n",
              "      <td>9</td>\n",
              "      <td>100</td>\n",
              "      <td>1</td>\n",
              "      <td>2.7</td>\n",
              "      <td>0</td>\n",
              "      <td>0</td>\n",
              "      <td>0</td>\n",
              "      <td>0</td>\n",
              "      <td>0</td>\n",
              "      <td>1</td>\n",
              "      <td>0</td>\n",
              "    </tr>\n",
              "    <tr>\n",
              "      <th>4</th>\n",
              "      <td>35</td>\n",
              "      <td>8</td>\n",
              "      <td>45</td>\n",
              "      <td>4</td>\n",
              "      <td>1.0</td>\n",
              "      <td>0</td>\n",
              "      <td>0</td>\n",
              "      <td>0</td>\n",
              "      <td>0</td>\n",
              "      <td>1</td>\n",
              "      <td>1</td>\n",
              "      <td>0</td>\n",
              "    </tr>\n",
              "  </tbody>\n",
              "</table>\n",
              "</div>"
            ],
            "text/plain": [
              "   Age  Experience  Income  Family  CCAvg  Mortgage  Securities Account  \\\n",
              "0   25           1      49       4    1.6         0                   1   \n",
              "1   45          19      34       3    1.5         0                   1   \n",
              "2   39          15      11       1    1.0         0                   0   \n",
              "3   35           9     100       1    2.7         0                   0   \n",
              "4   35           8      45       4    1.0         0                   0   \n",
              "\n",
              "   CD Account  Online  CreditCard  Education_Graduate  Education_Undergrad  \n",
              "0           0       0           0                   0                    1  \n",
              "1           0       0           0                   0                    1  \n",
              "2           0       0           0                   0                    1  \n",
              "3           0       0           0                   1                    0  \n",
              "4           0       0           1                   1                    0  "
            ]
          },
          "metadata": {
            "tags": []
          },
          "execution_count": 23
        }
      ]
    },
    {
      "cell_type": "markdown",
      "metadata": {
        "id": "6k3bVyIhBoNN"
      },
      "source": [
        "### <a id = \"link12\"></a> Split the data into training and test set in the ratio of 70:30 respectively"
      ]
    },
    {
      "cell_type": "code",
      "metadata": {
        "id": "kfqiw8WiBoNN"
      },
      "source": [
        "##Spliting data into training and testing data for the model\n",
        "from sklearn.model_selection import train_test_split\n",
        "\n",
        "X_train, X_test, y_train, y_test = train_test_split(X, Y, test_size=0.30,random_state=5)"
      ],
      "execution_count": null,
      "outputs": []
    },
    {
      "cell_type": "code",
      "metadata": {
        "id": "rFzJwli6BoNN",
        "outputId": "fb22a2de-0e26-48a9-bad1-6ef3d65758d6"
      },
      "source": [
        "from sklearn.metrics import confusion_matrix, recall_score, precision_score, f1_score, roc_auc_score,accuracy_score\n",
        "from sklearn.linear_model import LogisticRegression\n",
        "\n",
        "logreg = LogisticRegression(random_state=876443356,fit_intercept=False)\n",
        "# providing the training data to fit the logistic regression model\n",
        "logreg.fit(X_train, y_train)                   "
      ],
      "execution_count": null,
      "outputs": [
        {
          "output_type": "execute_result",
          "data": {
            "text/plain": [
              "LogisticRegression(fit_intercept=False, random_state=876443356)"
            ]
          },
          "metadata": {
            "tags": []
          },
          "execution_count": 25
        }
      ]
    },
    {
      "cell_type": "markdown",
      "metadata": {
        "id": "PX4Y-3rBBoNO"
      },
      "source": [
        "### <a id = \"link13\"></a> Use the Logistic Regression model to predict whether the customer will take a personal loan or not."
      ]
    },
    {
      "cell_type": "code",
      "metadata": {
        "id": "9keklu1tBoNP"
      },
      "source": [
        "# Predict the target variable ( Loan Status) on test data\n",
        "y_predict = logreg.predict(X_test)             "
      ],
      "execution_count": null,
      "outputs": []
    },
    {
      "cell_type": "code",
      "metadata": {
        "id": "ed7tpibgBoNP",
        "outputId": "371d42eb-fbbd-4a3e-dc3f-82120159cf49"
      },
      "source": [
        "# Observe the predicted and observed classes in a dataframe.\n",
        "\n",
        "output = X_test.copy()\n",
        "output['Observed Loan Status'] = y_test\n",
        "output['Predicted Loan Status'] = y_predict\n",
        "output[output['Predicted Loan Status']==1]"
      ],
      "execution_count": null,
      "outputs": [
        {
          "output_type": "execute_result",
          "data": {
            "text/html": [
              "<div>\n",
              "<style scoped>\n",
              "    .dataframe tbody tr th:only-of-type {\n",
              "        vertical-align: middle;\n",
              "    }\n",
              "\n",
              "    .dataframe tbody tr th {\n",
              "        vertical-align: top;\n",
              "    }\n",
              "\n",
              "    .dataframe thead th {\n",
              "        text-align: right;\n",
              "    }\n",
              "</style>\n",
              "<table border=\"1\" class=\"dataframe\">\n",
              "  <thead>\n",
              "    <tr style=\"text-align: right;\">\n",
              "      <th></th>\n",
              "      <th>Age</th>\n",
              "      <th>Experience</th>\n",
              "      <th>Income</th>\n",
              "      <th>Family</th>\n",
              "      <th>CCAvg</th>\n",
              "      <th>Mortgage</th>\n",
              "      <th>Securities Account</th>\n",
              "      <th>CD Account</th>\n",
              "      <th>Online</th>\n",
              "      <th>CreditCard</th>\n",
              "      <th>Education_Graduate</th>\n",
              "      <th>Education_Undergrad</th>\n",
              "      <th>Observed Loan Status</th>\n",
              "      <th>Predicted Loan Status</th>\n",
              "    </tr>\n",
              "  </thead>\n",
              "  <tbody>\n",
              "    <tr>\n",
              "      <th>4292</th>\n",
              "      <td>63</td>\n",
              "      <td>37</td>\n",
              "      <td>191</td>\n",
              "      <td>2</td>\n",
              "      <td>4.3</td>\n",
              "      <td>205</td>\n",
              "      <td>0</td>\n",
              "      <td>0</td>\n",
              "      <td>0</td>\n",
              "      <td>0</td>\n",
              "      <td>0</td>\n",
              "      <td>0</td>\n",
              "      <td>1</td>\n",
              "      <td>1</td>\n",
              "    </tr>\n",
              "    <tr>\n",
              "      <th>3276</th>\n",
              "      <td>55</td>\n",
              "      <td>31</td>\n",
              "      <td>159</td>\n",
              "      <td>1</td>\n",
              "      <td>3.9</td>\n",
              "      <td>0</td>\n",
              "      <td>0</td>\n",
              "      <td>0</td>\n",
              "      <td>0</td>\n",
              "      <td>0</td>\n",
              "      <td>0</td>\n",
              "      <td>0</td>\n",
              "      <td>1</td>\n",
              "      <td>1</td>\n",
              "    </tr>\n",
              "    <tr>\n",
              "      <th>4154</th>\n",
              "      <td>51</td>\n",
              "      <td>25</td>\n",
              "      <td>163</td>\n",
              "      <td>2</td>\n",
              "      <td>1.3</td>\n",
              "      <td>0</td>\n",
              "      <td>0</td>\n",
              "      <td>0</td>\n",
              "      <td>1</td>\n",
              "      <td>0</td>\n",
              "      <td>0</td>\n",
              "      <td>0</td>\n",
              "      <td>1</td>\n",
              "      <td>1</td>\n",
              "    </tr>\n",
              "    <tr>\n",
              "      <th>1402</th>\n",
              "      <td>55</td>\n",
              "      <td>29</td>\n",
              "      <td>172</td>\n",
              "      <td>1</td>\n",
              "      <td>5.2</td>\n",
              "      <td>0</td>\n",
              "      <td>0</td>\n",
              "      <td>0</td>\n",
              "      <td>0</td>\n",
              "      <td>0</td>\n",
              "      <td>1</td>\n",
              "      <td>0</td>\n",
              "      <td>1</td>\n",
              "      <td>1</td>\n",
              "    </tr>\n",
              "    <tr>\n",
              "      <th>4147</th>\n",
              "      <td>59</td>\n",
              "      <td>35</td>\n",
              "      <td>180</td>\n",
              "      <td>2</td>\n",
              "      <td>6.5</td>\n",
              "      <td>0</td>\n",
              "      <td>1</td>\n",
              "      <td>1</td>\n",
              "      <td>1</td>\n",
              "      <td>1</td>\n",
              "      <td>1</td>\n",
              "      <td>0</td>\n",
              "      <td>1</td>\n",
              "      <td>1</td>\n",
              "    </tr>\n",
              "    <tr>\n",
              "      <th>...</th>\n",
              "      <td>...</td>\n",
              "      <td>...</td>\n",
              "      <td>...</td>\n",
              "      <td>...</td>\n",
              "      <td>...</td>\n",
              "      <td>...</td>\n",
              "      <td>...</td>\n",
              "      <td>...</td>\n",
              "      <td>...</td>\n",
              "      <td>...</td>\n",
              "      <td>...</td>\n",
              "      <td>...</td>\n",
              "      <td>...</td>\n",
              "      <td>...</td>\n",
              "    </tr>\n",
              "    <tr>\n",
              "      <th>482</th>\n",
              "      <td>56</td>\n",
              "      <td>32</td>\n",
              "      <td>173</td>\n",
              "      <td>1</td>\n",
              "      <td>4.6</td>\n",
              "      <td>88</td>\n",
              "      <td>0</td>\n",
              "      <td>1</td>\n",
              "      <td>1</td>\n",
              "      <td>0</td>\n",
              "      <td>1</td>\n",
              "      <td>0</td>\n",
              "      <td>1</td>\n",
              "      <td>1</td>\n",
              "    </tr>\n",
              "    <tr>\n",
              "      <th>2664</th>\n",
              "      <td>54</td>\n",
              "      <td>29</td>\n",
              "      <td>154</td>\n",
              "      <td>1</td>\n",
              "      <td>2.4</td>\n",
              "      <td>352</td>\n",
              "      <td>0</td>\n",
              "      <td>0</td>\n",
              "      <td>1</td>\n",
              "      <td>0</td>\n",
              "      <td>1</td>\n",
              "      <td>0</td>\n",
              "      <td>1</td>\n",
              "      <td>1</td>\n",
              "    </tr>\n",
              "    <tr>\n",
              "      <th>3006</th>\n",
              "      <td>62</td>\n",
              "      <td>37</td>\n",
              "      <td>169</td>\n",
              "      <td>3</td>\n",
              "      <td>5.0</td>\n",
              "      <td>184</td>\n",
              "      <td>0</td>\n",
              "      <td>1</td>\n",
              "      <td>1</td>\n",
              "      <td>1</td>\n",
              "      <td>1</td>\n",
              "      <td>0</td>\n",
              "      <td>1</td>\n",
              "      <td>1</td>\n",
              "    </tr>\n",
              "    <tr>\n",
              "      <th>4267</th>\n",
              "      <td>52</td>\n",
              "      <td>26</td>\n",
              "      <td>194</td>\n",
              "      <td>2</td>\n",
              "      <td>5.7</td>\n",
              "      <td>0</td>\n",
              "      <td>0</td>\n",
              "      <td>0</td>\n",
              "      <td>1</td>\n",
              "      <td>0</td>\n",
              "      <td>1</td>\n",
              "      <td>0</td>\n",
              "      <td>1</td>\n",
              "      <td>1</td>\n",
              "    </tr>\n",
              "    <tr>\n",
              "      <th>473</th>\n",
              "      <td>64</td>\n",
              "      <td>39</td>\n",
              "      <td>182</td>\n",
              "      <td>1</td>\n",
              "      <td>1.2</td>\n",
              "      <td>547</td>\n",
              "      <td>0</td>\n",
              "      <td>0</td>\n",
              "      <td>1</td>\n",
              "      <td>0</td>\n",
              "      <td>1</td>\n",
              "      <td>0</td>\n",
              "      <td>1</td>\n",
              "      <td>1</td>\n",
              "    </tr>\n",
              "  </tbody>\n",
              "</table>\n",
              "<p>104 rows × 14 columns</p>\n",
              "</div>"
            ],
            "text/plain": [
              "      Age  Experience  Income  Family  CCAvg  Mortgage  Securities Account  \\\n",
              "4292   63          37     191       2    4.3       205                   0   \n",
              "3276   55          31     159       1    3.9         0                   0   \n",
              "4154   51          25     163       2    1.3         0                   0   \n",
              "1402   55          29     172       1    5.2         0                   0   \n",
              "4147   59          35     180       2    6.5         0                   1   \n",
              "...   ...         ...     ...     ...    ...       ...                 ...   \n",
              "482    56          32     173       1    4.6        88                   0   \n",
              "2664   54          29     154       1    2.4       352                   0   \n",
              "3006   62          37     169       3    5.0       184                   0   \n",
              "4267   52          26     194       2    5.7         0                   0   \n",
              "473    64          39     182       1    1.2       547                   0   \n",
              "\n",
              "      CD Account  Online  CreditCard  Education_Graduate  Education_Undergrad  \\\n",
              "4292           0       0           0                   0                    0   \n",
              "3276           0       0           0                   0                    0   \n",
              "4154           0       1           0                   0                    0   \n",
              "1402           0       0           0                   1                    0   \n",
              "4147           1       1           1                   1                    0   \n",
              "...          ...     ...         ...                 ...                  ...   \n",
              "482            1       1           0                   1                    0   \n",
              "2664           0       1           0                   1                    0   \n",
              "3006           1       1           1                   1                    0   \n",
              "4267           0       1           0                   1                    0   \n",
              "473            0       1           0                   1                    0   \n",
              "\n",
              "      Observed Loan Status  Predicted Loan Status  \n",
              "4292                     1                      1  \n",
              "3276                     1                      1  \n",
              "4154                     1                      1  \n",
              "1402                     1                      1  \n",
              "4147                     1                      1  \n",
              "...                    ...                    ...  \n",
              "482                      1                      1  \n",
              "2664                     1                      1  \n",
              "3006                     1                      1  \n",
              "4267                     1                      1  \n",
              "473                      1                      1  \n",
              "\n",
              "[104 rows x 14 columns]"
            ]
          },
          "metadata": {
            "tags": []
          },
          "execution_count": 27
        }
      ]
    },
    {
      "cell_type": "markdown",
      "metadata": {
        "id": "uzqKml4OBoNP"
      },
      "source": [
        "### <a id = \"link14\"></a> Metrics related to evaluating the model performance (accuracy, recall, precision, f1score, and roc_auc_score)"
      ]
    },
    {
      "cell_type": "code",
      "metadata": {
        "id": "CEc_YiKcBoNQ",
        "outputId": "407c3e11-2141-46e9-e9ba-3d4712da68ff"
      },
      "source": [
        "print(\"Trainig accuracy\",logreg.score(X_train,y_train))  \n",
        "print()\n",
        "print(\"Testing accuracy\",logreg.score(X_test, y_test))\n",
        "print()\n",
        "print(\"Recall:\",recall_score(y_test,y_predict))\n",
        "print()\n",
        "print(\"Precision:\",precision_score(y_test,y_predict))\n",
        "print()\n",
        "print(\"F1 Score:\",f1_score(y_test,y_predict))\n",
        "print()\n",
        "print(\"Roc Auc Score:\",roc_auc_score(y_test,y_predict))"
      ],
      "execution_count": null,
      "outputs": [
        {
          "output_type": "stream",
          "text": [
            "Trainig accuracy 0.9565714285714285\n",
            "\n",
            "Testing accuracy 0.9513333333333334\n",
            "\n",
            "Recall: 0.6040268456375839\n",
            "\n",
            "Precision: 0.8653846153846154\n",
            "\n",
            "F1 Score: 0.7114624505928854\n",
            "\n",
            "Roc Auc Score: 0.7968320756685329\n"
          ],
          "name": "stdout"
        }
      ]
    },
    {
      "cell_type": "markdown",
      "metadata": {
        "id": "HKjgpxH0BoNQ"
      },
      "source": [
        "### <a id = \"link15\"></a> Heatmap to display confusion matrix "
      ]
    },
    {
      "cell_type": "code",
      "metadata": {
        "id": "q7SKVFF1BoNQ",
        "outputId": "a031db25-7dea-49d3-872c-0d33dd75c2df"
      },
      "source": [
        "cm=metrics.confusion_matrix(y_test, y_predict, labels=[1, 0])\n",
        "\n",
        "df_cm = pd.DataFrame(cm, index = [i for i in [\"1\",\"0\"]],\n",
        "                  columns = [i for i in [\"Predict 1\",\"Predict 0\"]])\n",
        "plt.figure(figsize = (7,5))\n",
        "sns.heatmap(df_cm, annot=True)"
      ],
      "execution_count": null,
      "outputs": [
        {
          "output_type": "execute_result",
          "data": {
            "text/plain": [
              "<matplotlib.axes._subplots.AxesSubplot at 0x1badc4d1310>"
            ]
          },
          "metadata": {
            "tags": []
          },
          "execution_count": 29
        },
        {
          "output_type": "display_data",
          "data": {
            "image/png": "[encoded data removed]",
            "text/plain": [
              "<Figure size 504x360 with 2 Axes>"
            ]
          },
          "metadata": {
            "tags": [],
            "needs_background": "light"
          }
        }
      ]
    },
    {
      "cell_type": "markdown",
      "metadata": {
        "id": "QY7JOcREBoNQ"
      },
      "source": [
        "### <a id = \"link16\"></a> Graph to show the ROC Curve"
      ]
    },
    {
      "cell_type": "code",
      "metadata": {
        "id": "TTRlVXxlBoNR",
        "outputId": "9d026fea-cc85-4545-edee-6d80d5faea8b"
      },
      "source": [
        "\n",
        "\n",
        "#AUC ROC curve\n",
        "from sklearn.metrics import roc_auc_score\n",
        "from sklearn.metrics import roc_curve\n",
        "\n",
        "logit_roc_auc = roc_auc_score(y_test, logreg.predict(X_test))\n",
        "fpr, tpr, thresholds = roc_curve(y_test, logreg.predict_proba(X_test)[:,1])\n",
        "plt.figure()\n",
        "plt.plot(fpr, tpr, label='Logistic Regression (area = %0.2f)' % logit_roc_auc)\n",
        "plt.plot([0, 1], [0, 1],'r--')\n",
        "plt.xlim([0.0, 1.0])\n",
        "plt.ylim([0.0, 1.05])\n",
        "plt.xlabel('False Positive Rate')\n",
        "plt.ylabel('True Positive Rate')\n",
        "plt.title('Receiver operating characteristic')\n",
        "plt.legend(loc=\"lower right\")\n",
        "plt.savefig('Log_ROC')\n",
        "plt.show()"
      ],
      "execution_count": null,
      "outputs": [
        {
          "output_type": "display_data",
          "data": {
            "image/png": "[encoded data removed]",
            "text/plain": [
              "<Figure size 432x288 with 1 Axes>"
            ]
          },
          "metadata": {
            "tags": [],
            "needs_background": "light"
          }
        }
      ]
    },
    {
      "cell_type": "markdown",
      "metadata": {
        "id": "dfpktXkJBoNS"
      },
      "source": [
        "### <a id = \"link17\"></a> Coefficients of the attrbutes"
      ]
    },
    {
      "cell_type": "code",
      "metadata": {
        "id": "p11Z4WA6BoNU",
        "outputId": "40c8e3e8-3c3c-49c4-fdc1-6bba8ae90afd"
      },
      "source": [
        "## Feature Importance or Coefficients \n",
        "fi = pd.DataFrame()\n",
        "fi['Col'] = X_train.columns\n",
        "fi['Coeff'] = np.round(abs(logreg.coef_[0]),2)\n",
        "fi.sort_values(by='Coeff',ascending=False)"
      ],
      "execution_count": null,
      "outputs": [
        {
          "output_type": "execute_result",
          "data": {
            "text/html": [
              "<div>\n",
              "<style scoped>\n",
              "    .dataframe tbody tr th:only-of-type {\n",
              "        vertical-align: middle;\n",
              "    }\n",
              "\n",
              "    .dataframe tbody tr th {\n",
              "        vertical-align: top;\n",
              "    }\n",
              "\n",
              "    .dataframe thead th {\n",
              "        text-align: right;\n",
              "    }\n",
              "</style>\n",
              "<table border=\"1\" class=\"dataframe\">\n",
              "  <thead>\n",
              "    <tr style=\"text-align: right;\">\n",
              "      <th></th>\n",
              "      <th>Col</th>\n",
              "      <th>Coeff</th>\n",
              "    </tr>\n",
              "  </thead>\n",
              "  <tbody>\n",
              "    <tr>\n",
              "      <th>11</th>\n",
              "      <td>Education_Undergrad</td>\n",
              "      <td>3.14</td>\n",
              "    </tr>\n",
              "    <tr>\n",
              "      <th>7</th>\n",
              "      <td>CD Account</td>\n",
              "      <td>1.74</td>\n",
              "    </tr>\n",
              "    <tr>\n",
              "      <th>10</th>\n",
              "      <td>Education_Graduate</td>\n",
              "      <td>0.74</td>\n",
              "    </tr>\n",
              "    <tr>\n",
              "      <th>3</th>\n",
              "      <td>Family</td>\n",
              "      <td>0.62</td>\n",
              "    </tr>\n",
              "    <tr>\n",
              "      <th>0</th>\n",
              "      <td>Age</td>\n",
              "      <td>0.35</td>\n",
              "    </tr>\n",
              "    <tr>\n",
              "      <th>1</th>\n",
              "      <td>Experience</td>\n",
              "      <td>0.35</td>\n",
              "    </tr>\n",
              "    <tr>\n",
              "      <th>6</th>\n",
              "      <td>Securities Account</td>\n",
              "      <td>0.33</td>\n",
              "    </tr>\n",
              "    <tr>\n",
              "      <th>4</th>\n",
              "      <td>CCAvg</td>\n",
              "      <td>0.25</td>\n",
              "    </tr>\n",
              "    <tr>\n",
              "      <th>8</th>\n",
              "      <td>Online</td>\n",
              "      <td>0.23</td>\n",
              "    </tr>\n",
              "    <tr>\n",
              "      <th>9</th>\n",
              "      <td>CreditCard</td>\n",
              "      <td>0.20</td>\n",
              "    </tr>\n",
              "    <tr>\n",
              "      <th>2</th>\n",
              "      <td>Income</td>\n",
              "      <td>0.05</td>\n",
              "    </tr>\n",
              "    <tr>\n",
              "      <th>5</th>\n",
              "      <td>Mortgage</td>\n",
              "      <td>0.00</td>\n",
              "    </tr>\n",
              "  </tbody>\n",
              "</table>\n",
              "</div>"
            ],
            "text/plain": [
              "                    Col  Coeff\n",
              "11  Education_Undergrad   3.14\n",
              "7            CD Account   1.74\n",
              "10   Education_Graduate   0.74\n",
              "3                Family   0.62\n",
              "0                   Age   0.35\n",
              "1            Experience   0.35\n",
              "6    Securities Account   0.33\n",
              "4                 CCAvg   0.25\n",
              "8                Online   0.23\n",
              "9            CreditCard   0.20\n",
              "2                Income   0.05\n",
              "5              Mortgage   0.00"
            ]
          },
          "metadata": {
            "tags": []
          },
          "execution_count": 31
        }
      ]
    },
    {
      "cell_type": "markdown",
      "metadata": {
        "id": "FAwWiE_pBoNX"
      },
      "source": [
        "### <a id = \"link18\"></a> Rows where the predicted class is not equal to the observed class"
      ]
    },
    {
      "cell_type": "code",
      "metadata": {
        "id": "awUvwJXzBoNX",
        "outputId": "ccd56cd9-10c1-4ee9-a91a-9f5c4baa2f2d"
      },
      "source": [
        "output[output['Observed Loan Status'] != output['Predicted Loan Status']]"
      ],
      "execution_count": null,
      "outputs": [
        {
          "output_type": "execute_result",
          "data": {
            "text/html": [
              "<div>\n",
              "<style scoped>\n",
              "    .dataframe tbody tr th:only-of-type {\n",
              "        vertical-align: middle;\n",
              "    }\n",
              "\n",
              "    .dataframe tbody tr th {\n",
              "        vertical-align: top;\n",
              "    }\n",
              "\n",
              "    .dataframe thead th {\n",
              "        text-align: right;\n",
              "    }\n",
              "</style>\n",
              "<table border=\"1\" class=\"dataframe\">\n",
              "  <thead>\n",
              "    <tr style=\"text-align: right;\">\n",
              "      <th></th>\n",
              "      <th>Age</th>\n",
              "      <th>Experience</th>\n",
              "      <th>Income</th>\n",
              "      <th>Family</th>\n",
              "      <th>CCAvg</th>\n",
              "      <th>Mortgage</th>\n",
              "      <th>Securities Account</th>\n",
              "      <th>CD Account</th>\n",
              "      <th>Online</th>\n",
              "      <th>CreditCard</th>\n",
              "      <th>Education_Graduate</th>\n",
              "      <th>Education_Undergrad</th>\n",
              "      <th>Observed Loan Status</th>\n",
              "      <th>Predicted Loan Status</th>\n",
              "    </tr>\n",
              "  </thead>\n",
              "  <tbody>\n",
              "    <tr>\n",
              "      <th>3571</th>\n",
              "      <td>42</td>\n",
              "      <td>18</td>\n",
              "      <td>153</td>\n",
              "      <td>3</td>\n",
              "      <td>5.60</td>\n",
              "      <td>416</td>\n",
              "      <td>0</td>\n",
              "      <td>0</td>\n",
              "      <td>0</td>\n",
              "      <td>0</td>\n",
              "      <td>0</td>\n",
              "      <td>1</td>\n",
              "      <td>1</td>\n",
              "      <td>0</td>\n",
              "    </tr>\n",
              "    <tr>\n",
              "      <th>4941</th>\n",
              "      <td>28</td>\n",
              "      <td>4</td>\n",
              "      <td>112</td>\n",
              "      <td>2</td>\n",
              "      <td>1.60</td>\n",
              "      <td>0</td>\n",
              "      <td>0</td>\n",
              "      <td>0</td>\n",
              "      <td>1</td>\n",
              "      <td>0</td>\n",
              "      <td>1</td>\n",
              "      <td>0</td>\n",
              "      <td>1</td>\n",
              "      <td>0</td>\n",
              "    </tr>\n",
              "    <tr>\n",
              "      <th>1069</th>\n",
              "      <td>44</td>\n",
              "      <td>18</td>\n",
              "      <td>75</td>\n",
              "      <td>2</td>\n",
              "      <td>3.50</td>\n",
              "      <td>0</td>\n",
              "      <td>0</td>\n",
              "      <td>0</td>\n",
              "      <td>1</td>\n",
              "      <td>0</td>\n",
              "      <td>0</td>\n",
              "      <td>1</td>\n",
              "      <td>1</td>\n",
              "      <td>0</td>\n",
              "    </tr>\n",
              "    <tr>\n",
              "      <th>2428</th>\n",
              "      <td>39</td>\n",
              "      <td>12</td>\n",
              "      <td>108</td>\n",
              "      <td>4</td>\n",
              "      <td>3.67</td>\n",
              "      <td>301</td>\n",
              "      <td>0</td>\n",
              "      <td>0</td>\n",
              "      <td>0</td>\n",
              "      <td>1</td>\n",
              "      <td>1</td>\n",
              "      <td>0</td>\n",
              "      <td>1</td>\n",
              "      <td>0</td>\n",
              "    </tr>\n",
              "    <tr>\n",
              "      <th>1373</th>\n",
              "      <td>60</td>\n",
              "      <td>35</td>\n",
              "      <td>135</td>\n",
              "      <td>3</td>\n",
              "      <td>0.30</td>\n",
              "      <td>0</td>\n",
              "      <td>0</td>\n",
              "      <td>0</td>\n",
              "      <td>1</td>\n",
              "      <td>0</td>\n",
              "      <td>0</td>\n",
              "      <td>0</td>\n",
              "      <td>1</td>\n",
              "      <td>0</td>\n",
              "    </tr>\n",
              "    <tr>\n",
              "      <th>...</th>\n",
              "      <td>...</td>\n",
              "      <td>...</td>\n",
              "      <td>...</td>\n",
              "      <td>...</td>\n",
              "      <td>...</td>\n",
              "      <td>...</td>\n",
              "      <td>...</td>\n",
              "      <td>...</td>\n",
              "      <td>...</td>\n",
              "      <td>...</td>\n",
              "      <td>...</td>\n",
              "      <td>...</td>\n",
              "      <td>...</td>\n",
              "      <td>...</td>\n",
              "    </tr>\n",
              "    <tr>\n",
              "      <th>2586</th>\n",
              "      <td>47</td>\n",
              "      <td>23</td>\n",
              "      <td>149</td>\n",
              "      <td>4</td>\n",
              "      <td>6.10</td>\n",
              "      <td>0</td>\n",
              "      <td>0</td>\n",
              "      <td>0</td>\n",
              "      <td>0</td>\n",
              "      <td>1</td>\n",
              "      <td>0</td>\n",
              "      <td>1</td>\n",
              "      <td>1</td>\n",
              "      <td>0</td>\n",
              "    </tr>\n",
              "    <tr>\n",
              "      <th>2345</th>\n",
              "      <td>65</td>\n",
              "      <td>40</td>\n",
              "      <td>89</td>\n",
              "      <td>1</td>\n",
              "      <td>4.10</td>\n",
              "      <td>299</td>\n",
              "      <td>0</td>\n",
              "      <td>1</td>\n",
              "      <td>1</td>\n",
              "      <td>0</td>\n",
              "      <td>0</td>\n",
              "      <td>1</td>\n",
              "      <td>1</td>\n",
              "      <td>0</td>\n",
              "    </tr>\n",
              "    <tr>\n",
              "      <th>650</th>\n",
              "      <td>47</td>\n",
              "      <td>22</td>\n",
              "      <td>122</td>\n",
              "      <td>1</td>\n",
              "      <td>5.10</td>\n",
              "      <td>163</td>\n",
              "      <td>1</td>\n",
              "      <td>0</td>\n",
              "      <td>0</td>\n",
              "      <td>0</td>\n",
              "      <td>0</td>\n",
              "      <td>0</td>\n",
              "      <td>1</td>\n",
              "      <td>0</td>\n",
              "    </tr>\n",
              "    <tr>\n",
              "      <th>2536</th>\n",
              "      <td>51</td>\n",
              "      <td>25</td>\n",
              "      <td>104</td>\n",
              "      <td>1</td>\n",
              "      <td>4.20</td>\n",
              "      <td>0</td>\n",
              "      <td>0</td>\n",
              "      <td>0</td>\n",
              "      <td>1</td>\n",
              "      <td>0</td>\n",
              "      <td>1</td>\n",
              "      <td>0</td>\n",
              "      <td>1</td>\n",
              "      <td>0</td>\n",
              "    </tr>\n",
              "    <tr>\n",
              "      <th>1062</th>\n",
              "      <td>47</td>\n",
              "      <td>21</td>\n",
              "      <td>83</td>\n",
              "      <td>1</td>\n",
              "      <td>3.80</td>\n",
              "      <td>97</td>\n",
              "      <td>0</td>\n",
              "      <td>0</td>\n",
              "      <td>0</td>\n",
              "      <td>0</td>\n",
              "      <td>0</td>\n",
              "      <td>1</td>\n",
              "      <td>1</td>\n",
              "      <td>0</td>\n",
              "    </tr>\n",
              "  </tbody>\n",
              "</table>\n",
              "<p>73 rows × 14 columns</p>\n",
              "</div>"
            ],
            "text/plain": [
              "      Age  Experience  Income  Family  CCAvg  Mortgage  Securities Account  \\\n",
              "3571   42          18     153       3   5.60       416                   0   \n",
              "4941   28           4     112       2   1.60         0                   0   \n",
              "1069   44          18      75       2   3.50         0                   0   \n",
              "2428   39          12     108       4   3.67       301                   0   \n",
              "1373   60          35     135       3   0.30         0                   0   \n",
              "...   ...         ...     ...     ...    ...       ...                 ...   \n",
              "2586   47          23     149       4   6.10         0                   0   \n",
              "2345   65          40      89       1   4.10       299                   0   \n",
              "650    47          22     122       1   5.10       163                   1   \n",
              "2536   51          25     104       1   4.20         0                   0   \n",
              "1062   47          21      83       1   3.80        97                   0   \n",
              "\n",
              "      CD Account  Online  CreditCard  Education_Graduate  Education_Undergrad  \\\n",
              "3571           0       0           0                   0                    1   \n",
              "4941           0       1           0                   1                    0   \n",
              "1069           0       1           0                   0                    1   \n",
              "2428           0       0           1                   1                    0   \n",
              "1373           0       1           0                   0                    0   \n",
              "...          ...     ...         ...                 ...                  ...   \n",
              "2586           0       0           1                   0                    1   \n",
              "2345           1       1           0                   0                    1   \n",
              "650            0       0           0                   0                    0   \n",
              "2536           0       1           0                   1                    0   \n",
              "1062           0       0           0                   0                    1   \n",
              "\n",
              "      Observed Loan Status  Predicted Loan Status  \n",
              "3571                     1                      0  \n",
              "4941                     1                      0  \n",
              "1069                     1                      0  \n",
              "2428                     1                      0  \n",
              "1373                     1                      0  \n",
              "...                    ...                    ...  \n",
              "2586                     1                      0  \n",
              "2345                     1                      0  \n",
              "650                      1                      0  \n",
              "2536                     1                      0  \n",
              "1062                     1                      0  \n",
              "\n",
              "[73 rows x 14 columns]"
            ]
          },
          "metadata": {
            "tags": []
          },
          "execution_count": 32
        }
      ]
    },
    {
      "cell_type": "markdown",
      "metadata": {
        "id": "z6S43ZAQBoNX"
      },
      "source": [
        "## <a id = \"link19\"></a> Conclusion Buisness Insights"
      ]
    },
    {
      "cell_type": "markdown",
      "metadata": {
        "id": "JjoTQA6aBoNY"
      },
      "source": [
        "##### `Confusion matrix means`\n",
        "\n",
        "*True Positive (observed=1,predicted=1):*\n",
        "\n",
        "Predicted that customr will accept the personal loan and the customer accepted the personal loan\n",
        "\n",
        "*False Positive (observed=0,predicted=1):*\n",
        "\n",
        "Predicted that customr will accept the personal loan and the customer did not accepted the personal loan\n",
        "\n",
        "*True Negative (observed=0,predicted=0):*\n",
        "\n",
        "Predicted that customr will not accept the personal loan and the customer did not accepted the personal loan\n",
        "\n",
        "*False Negative (observed=1,predicted=0):*\n",
        "\n",
        "Predicted that customr will not accept the personal loan and the customer accepted the personal loan\n",
        "\n",
        "\n",
        "##### `Important Features`\n",
        "\n",
        "\"Education\" with value \"Undergrad\" , \"CD Account\" , \"Family\" , \"Credit Card\" \n",
        "\n",
        "are the top features which influence the model's output. This is based on the coefficient value.\n",
        "\n",
        "\"Mortgage\" - has coefficients value as 0 so this feature doesn't help model in predicting target variable.\n",
        "\n",
        "\n",
        "##### `Important Metric`\n",
        "\n",
        "The objective here is for the bank to predict potential customers who can accept the personal loan campain. Hence the key metrric would be **less number of False Negative**, since if False Negative is high the bank might loose potential customers who are good candidates for accepting personal loan , loosing significant loan intrest renevenue stream . \n",
        "\n",
        "Hence **Recall is the most important metric**.\n",
        "\n",
        "In case of False Positive the bank might might not have the customers accept the loan , but those customers are very good target audience to make some customized advertisement for personal loan. As model predicts that those customers have higher chances of accepting personal loan.\n",
        "\n",
        "Hence **F1 Score is also an valuable metric**.\n",
        "\n"
      ]
    },
    {
      "cell_type": "code",
      "metadata": {
        "id": "-OoqoChMBoNY"
      },
      "source": [
        ""
      ],
      "execution_count": null,
      "outputs": []
    }
  ]
}